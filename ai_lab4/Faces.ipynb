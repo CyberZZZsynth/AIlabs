{
  "cells": [
    {
      "cell_type": "code",
      "execution_count": 1,
      "id": "24d479af",
      "metadata": {
        "colab": {
          "base_uri": "https://localhost:8080/"
        },
        "id": "24d479af",
        "outputId": "83b60944-93ce-46c7-dd72-aae32d687848"
      },
      "outputs": [
        {
          "output_type": "stream",
          "name": "stdout",
          "text": [
            "--2023-05-18 17:53:13--  http://www.soshnikov.com/permanent/data/petfaces.tar.gz\n",
            "Resolving www.soshnikov.com (www.soshnikov.com)... 79.137.227.122\n",
            "Connecting to www.soshnikov.com (www.soshnikov.com)|79.137.227.122|:80... connected.\n",
            "HTTP request sent, awaiting response... 200 OK\n",
            "Length: 24483412 (23M) [application/x-tar]\n",
            "Saving to: ‘petfaces.tar.gz’\n",
            "\n",
            "petfaces.tar.gz     100%[===================>]  23.35M   199KB/s    in 2m 6s   \n",
            "\n",
            "2023-05-18 17:55:19 (190 KB/s) - ‘petfaces.tar.gz’ saved [24483412/24483412]\n",
            "\n"
          ]
        }
      ],
      "source": [
        "!wget http://www.soshnikov.com/permanent/data/petfaces.tar.gz\n",
        "!tar xfz petfaces.tar.gz\n",
        "!rm petfaces.tar.gz"
      ]
    },
    {
      "cell_type": "code",
      "execution_count": 2,
      "id": "1a8e0ada",
      "metadata": {
        "id": "1a8e0ada"
      },
      "outputs": [],
      "source": [
        "import pickle\n",
        "import numpy as np\n",
        "from skimage import io\n",
        "import torch\n",
        "\n",
        "from tqdm import tqdm, tqdm_notebook\n",
        "from PIL import Image\n",
        "from pathlib import Path\n",
        "\n",
        "from torchvision import transforms\n",
        "from multiprocessing.pool import ThreadPool\n",
        "from sklearn.preprocessing import LabelEncoder\n",
        "from torch.utils.data import Dataset, DataLoader\n",
        "import torch.nn as nn\n",
        "\n",
        "from matplotlib import colors, pyplot as plt\n",
        "%matplotlib inline\n",
        "\n",
        "import warnings\n",
        "warnings.filterwarnings(action='ignore', category=DeprecationWarning)"
      ]
    },
    {
      "cell_type": "code",
      "execution_count": 3,
      "id": "3aa0a009",
      "metadata": {
        "colab": {
          "base_uri": "https://localhost:8080/"
        },
        "id": "3aa0a009",
        "outputId": "16845140-3094-4d46-fe3f-9e9d77757b7f"
      },
      "outputs": [
        {
          "output_type": "stream",
          "name": "stdout",
          "text": [
            "cuda\n"
          ]
        }
      ],
      "source": [
        "DATA_MODES = ['train', 'val', 'test']\n",
        "RESCALE_SIZE = 224\n",
        "\n",
        "DEVICE = torch.device(\"cuda\")\n",
        "if torch.cuda.is_available:\n",
        "  print(\"cuda\")\n",
        "else: print(\"cpu\")"
      ]
    },
    {
      "cell_type": "markdown",
      "source": [
        "Опишем свой класса датасета для работы с изображениями"
      ],
      "metadata": {
        "id": "kR2WFZ_X2Q1B"
      },
      "id": "kR2WFZ_X2Q1B"
    },
    {
      "cell_type": "code",
      "execution_count": 4,
      "id": "ca086854",
      "metadata": {
        "id": "ca086854"
      },
      "outputs": [],
      "source": [
        "class PetFacesDataset(Dataset):\n",
        "    def __init__(self, files, mode, task=\"bin\"):\n",
        "        super().__init__()\n",
        "        self.files = sorted(files)\n",
        "        self.mode = mode\n",
        "        self.task = task\n",
        "\n",
        "        if self.mode not in DATA_MODES:\n",
        "            print(f\"{self.mode} is not correct; correct modes: {DATA_MODES}\")\n",
        "            raise NameError\n",
        "\n",
        "        self.len_ = len(self.files)\n",
        "     \n",
        "        self.label_encoder = LabelEncoder()\n",
        "\n",
        "        if self.mode != 'test':\n",
        "            if self.task == \"bin\":\n",
        "                self.labels = [path.parent.name[0:3] for path in self.files]\n",
        "                self.label_encoder.fit(self.labels)\n",
        "                with open('label_encoder.pkl', 'wb') as le_dump_file:\n",
        "                    pickle.dump(self.label_encoder, le_dump_file)\n",
        "                \n",
        "            else:\n",
        "                self.labels = [path.parent.name for path in self.files]\n",
        "                self.label_encoder.fit(self.labels)\n",
        "                with open('label_encoder.pkl', 'wb') as le_dump_file:\n",
        "                    pickle.dump(self.label_encoder, le_dump_file)\n",
        "\n",
        "                      \n",
        "    def __len__(self):\n",
        "        return self.len_\n",
        "      \n",
        "    def load_sample(self, file):\n",
        "        image = Image.open(file)\n",
        "        image.load()\n",
        "        return image\n",
        "  \n",
        "    def __getitem__(self, index):\n",
        "        transform = transforms.Compose([\n",
        "            transforms.ToTensor(),\n",
        "            transforms.Normalize([0.485, 0.456, 0.406], [0.229, 0.224, 0.225]) \n",
        "        ])\n",
        "        x = self.load_sample(self.files[index])\n",
        "        x = self._prepare_sample(x)\n",
        "        x = np.array(x / 255, dtype='float32')\n",
        "        x = transform(x)\n",
        "        if self.mode == 'test':\n",
        "            return x\n",
        "        else:\n",
        "            label = self.labels[index]\n",
        "            label_id = self.label_encoder.transform([label])\n",
        "            y = label_id.item()\n",
        "            return x, y\n",
        "        \n",
        "    def _prepare_sample(self, image):\n",
        "        image = image.resize((RESCALE_SIZE, RESCALE_SIZE))\n",
        "        return np.array(image)"
      ]
    },
    {
      "cell_type": "code",
      "execution_count": 5,
      "id": "6d888896",
      "metadata": {
        "id": "6d888896"
      },
      "outputs": [],
      "source": [
        "DIR = Path('petfaces')\n",
        "task = \"bin\"\n",
        "files = sorted(list(DIR.rglob('*.jpg')))"
      ]
    },
    {
      "cell_type": "markdown",
      "source": [
        "Разделяем данные на тестовые и тренировочные, выбирая в качестве меток 3 символа названия папок(они соответствуют \"cat\" и \"dog\", то есть задаче бинарной классификации)"
      ],
      "metadata": {
        "id": "1InOrgbU2d8l"
      },
      "id": "1InOrgbU2d8l"
    },
    {
      "cell_type": "code",
      "execution_count": 6,
      "id": "83c74294",
      "metadata": {
        "id": "83c74294"
      },
      "outputs": [],
      "source": [
        "from sklearn.model_selection import train_test_split\n",
        "\n",
        "y = [path.parent.name[0:3] for path in files]\n",
        "\n",
        "train_data, test_data = train_test_split(files, train_size=0.8, stratify=y)"
      ]
    },
    {
      "cell_type": "code",
      "execution_count": 7,
      "id": "9428d4d6",
      "metadata": {
        "id": "9428d4d6"
      },
      "outputs": [],
      "source": [
        "train_dataset = PetFacesDataset(train_data, \"train\")\n",
        "test_dataset = PetFacesDataset(test_data, \"val\")"
      ]
    },
    {
      "cell_type": "markdown",
      "source": [
        "Опишем нейросеть, перечислением её слоёв"
      ],
      "metadata": {
        "id": "ska9L5EU2tXv"
      },
      "id": "ska9L5EU2tXv"
    },
    {
      "cell_type": "code",
      "source": [
        "class NetWork(nn.Module):\n",
        "  def __init__(self):\n",
        "    super(NetWork, self).__init__()\n",
        "    self.batch1 = nn.BatchNorm2d(3)\n",
        "    self.conv1 = nn.Conv2d(3, 6, 3)\n",
        "    self.pool1 = nn.MaxPool2d(kernel_size=4)\n",
        "    self.batch2 = nn.BatchNorm2d(6)\n",
        "    self.conv2 = nn.Conv2d(6, 12, 3)\n",
        "    self.pool2 = nn.MaxPool2d(kernel_size=4)\n",
        "    self.batch3 = nn.BatchNorm2d(12)\n",
        "\n",
        "    #self.conv3 = nn.Conv2d(12, 24, 3)\n",
        "    #self.pool3 = nn.MaxPool2d(kernel_size=2)\n",
        "    #self.batch4 = nn.BatchNorm2d(24)\n",
        "    #self.conv4 = nn.Conv2d(90, 90, 7)\n",
        "    #self.pool4 = nn.MaxPool2d(kernel_size=2)\n",
        "    self.fl = nn.Flatten()\n",
        "    #self.dp1 = nn.Dropout(0.6) # 0.7\n",
        "    self.fc1 = nn.Linear(169 * 12, 128)\n",
        "    self.dp2 = nn.Dropout(0.5) # 0.7\n",
        "    self.activation1 = nn.LeakyReLU()\n",
        "    #self.fc2 = nn.Linear(128, 128)\n",
        "    #self.activation2 = nn.ELU()\n",
        "    self.fc2 = nn.Linear(128, 2)\n",
        "    #self.sm = nn.Softmax(dim=0)\n",
        "\n",
        "\n",
        "  def forward(self, x):\n",
        "    x = self.pool1(self.conv1(self.batch1(x)))\n",
        "    x = self.pool2(self.conv2(self.batch2(x)))\n",
        "    x = self.batch3(x)\n",
        "    #x += identity\n",
        "    #x = self.batch2(x)\n",
        "    #x = self.batch4(x)\n",
        "    #x = self.pool4(self.conv4(self.batch4(x)))\n",
        "    x = self.fl(x)\n",
        "    #x = self.dp1(x)\n",
        "    x = self.activation1(self.dp2(self.fc1(x)))\n",
        "    #x = self.activation2(self.fc2(x))\n",
        "    #x = self.sm(x)\n",
        "    #x = self.sm(self.fc3(x))\n",
        "    x = self.fc2(x)\n",
        "    return x\n",
        "\n",
        "\n",
        "model = NetWork()\n",
        "model = model.to(DEVICE)\n"
      ],
      "metadata": {
        "id": "mRLtd_LU6fQa"
      },
      "id": "mRLtd_LU6fQa",
      "execution_count": 8,
      "outputs": []
    },
    {
      "cell_type": "markdown",
      "source": [
        "Опишем функции для обучения и тестирования модели"
      ],
      "metadata": {
        "id": "mief9swz22lR"
      },
      "id": "mief9swz22lR"
    },
    {
      "cell_type": "code",
      "execution_count": 9,
      "id": "NI0r2apuTXtS",
      "metadata": {
        "id": "NI0r2apuTXtS"
      },
      "outputs": [],
      "source": [
        "def fit_epoch(model, train_loader, criterion, optimizer):\n",
        "    model.train()\n",
        "    running_loss = 0.0\n",
        "    running_corrects = 0\n",
        "    processed_data = 0\n",
        "  \n",
        "    for inputs, labels in train_loader:\n",
        "        inputs = inputs.to(DEVICE)\n",
        "        labels = labels.to(DEVICE)\n",
        "        optimizer.zero_grad()\n",
        "\n",
        "        outputs = model(inputs)\n",
        "        loss = criterion(outputs, labels)\n",
        "        loss.backward()\n",
        "        optimizer.step()\n",
        "        preds = torch.argmax(outputs, 1)\n",
        "        running_loss += loss.item() * inputs.size(0)\n",
        "        running_corrects += torch.sum(preds == labels.data)\n",
        "        processed_data += inputs.size(0)\n",
        "              \n",
        "    train_loss = running_loss / processed_data\n",
        "    train_acc = running_corrects.cpu().numpy() / processed_data\n",
        "    return train_loss, train_acc"
      ]
    },
    {
      "cell_type": "code",
      "execution_count": 10,
      "id": "35144ba0",
      "metadata": {
        "id": "35144ba0"
      },
      "outputs": [],
      "source": [
        "def eval_epoch(model, val_loader, criterion):\n",
        "    model.eval()\n",
        "    running_loss = 0.0\n",
        "    running_corrects = 0\n",
        "    corrects_top3 = 0\n",
        "    processed_size = 0\n",
        "    predictions = []\n",
        "    answers = []\n",
        "    for inputs, labels in val_loader:\n",
        "        inputs = inputs.to(DEVICE)\n",
        "        labels = labels.to(DEVICE)\n",
        "        with torch.set_grad_enabled(False):\n",
        "            outputs = model(inputs)\n",
        "            loss = criterion(outputs, labels)\n",
        "            preds = torch.argmax(outputs, 1)\n",
        "            top3_preds = preds\n",
        "            if preds.ndim > 1:\n",
        "                _, top3_preds = torch.topk(outputs, k=3, dim=1)\n",
        "\n",
        "        running_loss += loss.item() * inputs.size(0)\n",
        "        for index in range(0, len(labels.data)):\n",
        "          if labels.data[index] in top3_preds[index]:\n",
        "            corrects_top3 += 1\n",
        "        running_corrects += torch.sum(preds == labels.data)\n",
        "        for pred in preds:\n",
        "          predictions.append(int(pred))\n",
        "        for label in labels.data:\n",
        "          answers.append(int(label))\n",
        "        processed_size += inputs.size(0)\n",
        "    val_loss = running_loss / processed_size\n",
        "    val_acc = running_corrects.double() / processed_size\n",
        "    val_acc_top3 = float(corrects_top3) / processed_size\n",
        "    return val_loss, val_acc, val_acc_top3, predictions, answers"
      ]
    },
    {
      "cell_type": "code",
      "execution_count": 11,
      "id": "2b1b9afd",
      "metadata": {
        "id": "2b1b9afd"
      },
      "outputs": [],
      "source": [
        "def train(train_dataset, test_dataset, model, epochs, batch_size):\n",
        "    train_loader = DataLoader(train_dataset, batch_size=batch_size, shuffle=True)\n",
        "    val_loader = DataLoader(test_dataset, batch_size=batch_size, shuffle=False)\n",
        "\n",
        "    history = []\n",
        "    predictions = []\n",
        "    log_template = \"\\nEpoch {ep:03d} train_loss: {t_loss:0.4f} \\\n",
        "    val_loss {v_loss:0.4f} train_acc {t_acc:0.4f} val_acc {v_acc:0.4f} val_acc_top3 {v_acc_top3:0.4f}\"\n",
        "\n",
        "    with tqdm(desc=\"epoch\", total=epochs) as pbar_outer:\n",
        "        opt = torch.optim.Adam(model.parameters())\n",
        "        scheduler = torch.optim.lr_scheduler.ExponentialLR(opt,\n",
        "          gamma=0.95)\n",
        "        criterion = nn.CrossEntropyLoss()\n",
        "\n",
        "        for epoch in range(epochs):\n",
        "            train_loss, train_acc = fit_epoch(model, train_loader, criterion, opt)\n",
        "            scheduler.step()\n",
        "            val_loss, val_acc, val_acc_top3, predictions, answers = eval_epoch(model, val_loader, criterion)\n",
        "            history.append((train_loss, train_acc, val_loss, val_acc))\n",
        "            \n",
        "            pbar_outer.update(1)\n",
        "            tqdm.write(log_template.format(ep=epoch+1, t_loss=train_loss,\\\n",
        "                                           v_loss=val_loss, t_acc=train_acc, v_acc=val_acc, v_acc_top3=val_acc_top3))\n",
        "            \n",
        "    return history, predictions, answers"
      ]
    },
    {
      "cell_type": "code",
      "execution_count": 12,
      "id": "1c146a9d",
      "metadata": {
        "id": "1c146a9d"
      },
      "outputs": [],
      "source": [
        "def predict(model, test_loader):\n",
        "    with torch.no_grad():\n",
        "        logits = []\n",
        "        for inputs in test_loader:\n",
        "            inputs = inputs.to(DEVICE)\n",
        "            model.eval()\n",
        "            outputs = model(inputs).cpu()\n",
        "            logits.append(outputs)\n",
        "            \n",
        "    probs = nn.functional.softmax(torch.cat(logits), dim=-1).numpy()\n",
        "    return probs"
      ]
    },
    {
      "cell_type": "markdown",
      "source": [
        "**Бинарная классификация**\n",
        "\n",
        "Обучим и протестируем нашу модель"
      ],
      "metadata": {
        "id": "ffhinTYE282u"
      },
      "id": "ffhinTYE282u"
    },
    {
      "cell_type": "code",
      "execution_count": null,
      "id": "af08e744",
      "metadata": {
        "colab": {
          "base_uri": "https://localhost:8080/"
        },
        "id": "af08e744",
        "outputId": "6e692285-1f68-4d8b-96c0-93ab95c12aaf"
      },
      "outputs": [
        {
          "output_type": "stream",
          "name": "stderr",
          "text": [
            "epoch:  10%|█         | 1/10 [00:14<02:07, 14.15s/it]"
          ]
        },
        {
          "output_type": "stream",
          "name": "stdout",
          "text": [
            "\n",
            "Epoch 001 train_loss: 0.1718     val_loss 0.2807 train_acc 0.9283 val_acc 0.8771 val_acc_top3 0.8771\n"
          ]
        },
        {
          "output_type": "stream",
          "name": "stderr",
          "text": [
            "epoch:  20%|██        | 2/10 [00:28<01:53, 14.17s/it]"
          ]
        },
        {
          "output_type": "stream",
          "name": "stdout",
          "text": [
            "\n",
            "Epoch 002 train_loss: 0.1316     val_loss 0.2887 train_acc 0.9517 val_acc 0.8818 val_acc_top3 0.8818\n"
          ]
        },
        {
          "output_type": "stream",
          "name": "stderr",
          "text": [
            "epoch:  30%|███       | 3/10 [00:42<01:39, 14.22s/it]"
          ]
        },
        {
          "output_type": "stream",
          "name": "stdout",
          "text": [
            "\n",
            "Epoch 003 train_loss: 0.0963     val_loss 0.2229 train_acc 0.9712 val_acc 0.9238 val_acc_top3 0.9238\n"
          ]
        },
        {
          "output_type": "stream",
          "name": "stderr",
          "text": [
            "epoch:  40%|████      | 4/10 [00:57<01:26, 14.36s/it]"
          ]
        },
        {
          "output_type": "stream",
          "name": "stdout",
          "text": [
            "\n",
            "Epoch 004 train_loss: 0.0623     val_loss 0.2352 train_acc 0.9790 val_acc 0.9114 val_acc_top3 0.9114\n"
          ]
        },
        {
          "output_type": "stream",
          "name": "stderr",
          "text": [
            "epoch:  50%|█████     | 5/10 [01:11<01:12, 14.47s/it]"
          ]
        },
        {
          "output_type": "stream",
          "name": "stdout",
          "text": [
            "\n",
            "Epoch 005 train_loss: 0.0387     val_loss 0.2128 train_acc 0.9879 val_acc 0.9269 val_acc_top3 0.9269\n"
          ]
        },
        {
          "output_type": "stream",
          "name": "stderr",
          "text": [
            "epoch:  60%|██████    | 6/10 [01:26<00:58, 14.56s/it]"
          ]
        },
        {
          "output_type": "stream",
          "name": "stdout",
          "text": [
            "\n",
            "Epoch 006 train_loss: 0.0290     val_loss 0.2333 train_acc 0.9934 val_acc 0.9191 val_acc_top3 0.9191\n"
          ]
        },
        {
          "output_type": "stream",
          "name": "stderr",
          "text": [
            "epoch:  70%|███████   | 7/10 [01:40<00:43, 14.49s/it]"
          ]
        },
        {
          "output_type": "stream",
          "name": "stdout",
          "text": [
            "\n",
            "Epoch 007 train_loss: 0.0277     val_loss 0.2271 train_acc 0.9922 val_acc 0.9316 val_acc_top3 0.9316\n"
          ]
        },
        {
          "output_type": "stream",
          "name": "stderr",
          "text": [
            "epoch:  80%|████████  | 8/10 [01:55<00:28, 14.45s/it]"
          ]
        },
        {
          "output_type": "stream",
          "name": "stdout",
          "text": [
            "\n",
            "Epoch 008 train_loss: 0.0226     val_loss 0.2791 train_acc 0.9942 val_acc 0.9129 val_acc_top3 0.9129\n"
          ]
        },
        {
          "output_type": "stream",
          "name": "stderr",
          "text": [
            "epoch:  90%|█████████ | 9/10 [02:09<00:14, 14.34s/it]"
          ]
        },
        {
          "output_type": "stream",
          "name": "stdout",
          "text": [
            "\n",
            "Epoch 009 train_loss: 0.0169     val_loss 0.2300 train_acc 0.9965 val_acc 0.9300 val_acc_top3 0.9300\n"
          ]
        },
        {
          "output_type": "stream",
          "name": "stderr",
          "text": [
            "epoch: 100%|██████████| 10/10 [02:23<00:00, 14.36s/it]"
          ]
        },
        {
          "output_type": "stream",
          "name": "stdout",
          "text": [
            "\n",
            "Epoch 010 train_loss: 0.0108     val_loss 0.2457 train_acc 0.9988 val_acc 0.9378 val_acc_top3 0.9378\n"
          ]
        },
        {
          "output_type": "stream",
          "name": "stderr",
          "text": [
            "\n"
          ]
        }
      ],
      "source": [
        "history, predictions, answers = train(train_dataset, test_dataset, model=model, epochs=10, batch_size=64)"
      ]
    },
    {
      "cell_type": "code",
      "execution_count": null,
      "id": "5037f120",
      "metadata": {
        "id": "5037f120"
      },
      "outputs": [],
      "source": [
        "loss, acc, val_loss, val_acc = zip(*history)"
      ]
    },
    {
      "cell_type": "code",
      "execution_count": null,
      "id": "7c51211c",
      "metadata": {
        "colab": {
          "base_uri": "https://localhost:8080/",
          "height": 773
        },
        "id": "7c51211c",
        "outputId": "8b637a44-3a0b-44d2-b786-6d745ebe6cb3"
      },
      "outputs": [
        {
          "output_type": "display_data",
          "data": {
            "text/plain": [
              "<Figure size 1500x900 with 1 Axes>"
            ],
            "image/png": "[encoded data removed]"
          },
          "metadata": {}
        }
      ],
      "source": [
        "plt.figure(figsize=(15, 9))\n",
        "plt.plot(loss, label=\"train_loss\")\n",
        "plt.plot(val_loss, label=\"val_loss\")\n",
        "plt.legend(loc='best')\n",
        "plt.xlabel(\"epochs\")\n",
        "plt.ylabel(\"loss\")\n",
        "plt.show()"
      ]
    },
    {
      "cell_type": "markdown",
      "source": [
        "**Многоклассовая классификация**\n",
        "\n",
        "Подготовим данные для многоклассовой классификации, сохраняя в качестве меток полные имена папок\n"
      ],
      "metadata": {
        "id": "9mEQWm6H3PZT"
      },
      "id": "9mEQWm6H3PZT"
    },
    {
      "cell_type": "code",
      "execution_count": 13,
      "id": "gZZ0HqpMd5P2",
      "metadata": {
        "id": "gZZ0HqpMd5P2"
      },
      "outputs": [],
      "source": [
        "from sklearn.model_selection import train_test_split\n",
        "\n",
        "_y = [path.parent.name for path in files]\n",
        "train_data_multi, test_data_multi = train_test_split(files, train_size=0.8, stratify=_y)\n",
        "\n",
        "train_dataset_multi = PetFacesDataset(train_data_multi, \"train\", task=\"multi\")\n",
        "test_dataset_multi = PetFacesDataset(test_data_multi, \"val\", task=\"multi\")"
      ]
    },
    {
      "cell_type": "markdown",
      "source": [
        "Изменим последний слой модели под задачу многоклассовой классификации"
      ],
      "metadata": {
        "id": "jx6PB8gc3s6p"
      },
      "id": "jx6PB8gc3s6p"
    },
    {
      "cell_type": "code",
      "source": [
        "model.fc2 = nn.Linear(128, 35)\n",
        "model = model.to(DEVICE)"
      ],
      "metadata": {
        "id": "YrO4ty39E7jX"
      },
      "id": "YrO4ty39E7jX",
      "execution_count": 14,
      "outputs": []
    },
    {
      "cell_type": "code",
      "execution_count": null,
      "id": "dX_DRtaxeoVu",
      "metadata": {
        "colab": {
          "base_uri": "https://localhost:8080/"
        },
        "id": "dX_DRtaxeoVu",
        "outputId": "28f8b59d-5457-45d7-cd74-026c554e9a6b",
        "scrolled": true
      },
      "outputs": [
        {
          "output_type": "stream",
          "name": "stderr",
          "text": [
            "epoch:   7%|▋         | 1/15 [00:14<03:25, 14.66s/it]"
          ]
        },
        {
          "output_type": "stream",
          "name": "stdout",
          "text": [
            "\n",
            "Epoch 001 train_loss: 0.6312     val_loss 1.4984 train_acc 0.8072 val_acc 0.5832 val_acc_top3 0.5832\n"
          ]
        },
        {
          "output_type": "stream",
          "name": "stderr",
          "text": [
            "epoch:  13%|█▎        | 2/15 [00:30<03:16, 15.12s/it]"
          ]
        },
        {
          "output_type": "stream",
          "name": "stdout",
          "text": [
            "\n",
            "Epoch 002 train_loss: 0.5212     val_loss 1.4271 train_acc 0.8435 val_acc 0.6096 val_acc_top3 0.6096\n"
          ]
        },
        {
          "output_type": "stream",
          "name": "stderr",
          "text": [
            "epoch:  20%|██        | 3/15 [00:44<02:59, 14.97s/it]"
          ]
        },
        {
          "output_type": "stream",
          "name": "stdout",
          "text": [
            "\n",
            "Epoch 003 train_loss: 0.3959     val_loss 1.4751 train_acc 0.8863 val_acc 0.6065 val_acc_top3 0.6065\n"
          ]
        },
        {
          "output_type": "stream",
          "name": "stderr",
          "text": [
            "epoch:  27%|██▋       | 4/15 [00:59<02:43, 14.88s/it]"
          ]
        },
        {
          "output_type": "stream",
          "name": "stdout",
          "text": [
            "\n",
            "Epoch 004 train_loss: 0.3475     val_loss 1.5592 train_acc 0.8972 val_acc 0.6050 val_acc_top3 0.6050\n"
          ]
        },
        {
          "output_type": "stream",
          "name": "stderr",
          "text": [
            "epoch:  33%|███▎      | 5/15 [01:14<02:27, 14.72s/it]"
          ]
        },
        {
          "output_type": "stream",
          "name": "stdout",
          "text": [
            "\n",
            "Epoch 005 train_loss: 0.3246     val_loss 1.4927 train_acc 0.9065 val_acc 0.6065 val_acc_top3 0.6065\n"
          ]
        },
        {
          "output_type": "stream",
          "name": "stderr",
          "text": [
            "epoch:  40%|████      | 6/15 [01:28<02:11, 14.63s/it]"
          ]
        },
        {
          "output_type": "stream",
          "name": "stdout",
          "text": [
            "\n",
            "Epoch 006 train_loss: 0.2599     val_loss 1.5320 train_acc 0.9295 val_acc 0.6252 val_acc_top3 0.6252\n"
          ]
        },
        {
          "output_type": "stream",
          "name": "stderr",
          "text": [
            "epoch:  47%|████▋     | 7/15 [01:46<02:05, 15.65s/it]"
          ]
        },
        {
          "output_type": "stream",
          "name": "stdout",
          "text": [
            "\n",
            "Epoch 007 train_loss: 0.2293     val_loss 1.4961 train_acc 0.9381 val_acc 0.6221 val_acc_top3 0.6221\n"
          ]
        },
        {
          "output_type": "stream",
          "name": "stderr",
          "text": [
            "epoch:  53%|█████▎    | 8/15 [02:01<01:48, 15.46s/it]"
          ]
        },
        {
          "output_type": "stream",
          "name": "stdout",
          "text": [
            "\n",
            "Epoch 008 train_loss: 0.2163     val_loss 1.5795 train_acc 0.9443 val_acc 0.6174 val_acc_top3 0.6174\n"
          ]
        },
        {
          "output_type": "stream",
          "name": "stderr",
          "text": [
            "epoch:  60%|██████    | 9/15 [02:16<01:31, 15.22s/it]"
          ]
        },
        {
          "output_type": "stream",
          "name": "stdout",
          "text": [
            "\n",
            "Epoch 009 train_loss: 0.1751     val_loss 1.5435 train_acc 0.9537 val_acc 0.6096 val_acc_top3 0.6096\n"
          ]
        },
        {
          "output_type": "stream",
          "name": "stderr",
          "text": [
            "epoch:  67%|██████▋   | 10/15 [02:30<01:14, 14.98s/it]"
          ]
        },
        {
          "output_type": "stream",
          "name": "stdout",
          "text": [
            "\n",
            "Epoch 010 train_loss: 0.1556     val_loss 1.5853 train_acc 0.9622 val_acc 0.6205 val_acc_top3 0.6205\n"
          ]
        },
        {
          "output_type": "stream",
          "name": "stderr",
          "text": [
            "epoch:  73%|███████▎  | 11/15 [02:44<00:59, 14.83s/it]"
          ]
        },
        {
          "output_type": "stream",
          "name": "stdout",
          "text": [
            "\n",
            "Epoch 011 train_loss: 0.1354     val_loss 1.5580 train_acc 0.9653 val_acc 0.6221 val_acc_top3 0.6221\n"
          ]
        },
        {
          "output_type": "stream",
          "name": "stderr",
          "text": [
            "epoch:  80%|████████  | 12/15 [02:59<00:44, 14.68s/it]"
          ]
        },
        {
          "output_type": "stream",
          "name": "stdout",
          "text": [
            "\n",
            "Epoch 012 train_loss: 0.1438     val_loss 1.5965 train_acc 0.9607 val_acc 0.6221 val_acc_top3 0.6221\n"
          ]
        },
        {
          "output_type": "stream",
          "name": "stderr",
          "text": [
            "epoch:  87%|████████▋ | 13/15 [03:15<00:30, 15.09s/it]"
          ]
        },
        {
          "output_type": "stream",
          "name": "stdout",
          "text": [
            "\n",
            "Epoch 013 train_loss: 0.1350     val_loss 1.6291 train_acc 0.9681 val_acc 0.6112 val_acc_top3 0.6112\n"
          ]
        },
        {
          "output_type": "stream",
          "name": "stderr",
          "text": [
            "epoch:  93%|█████████▎| 14/15 [03:30<00:15, 15.12s/it]"
          ]
        },
        {
          "output_type": "stream",
          "name": "stdout",
          "text": [
            "\n",
            "Epoch 014 train_loss: 0.1167     val_loss 1.6089 train_acc 0.9735 val_acc 0.6345 val_acc_top3 0.6345\n"
          ]
        },
        {
          "output_type": "stream",
          "name": "stderr",
          "text": [
            "epoch: 100%|██████████| 15/15 [03:45<00:00, 15.06s/it]"
          ]
        },
        {
          "output_type": "stream",
          "name": "stdout",
          "text": [
            "\n",
            "Epoch 015 train_loss: 0.1011     val_loss 1.6278 train_acc 0.9770 val_acc 0.6252 val_acc_top3 0.6252\n"
          ]
        },
        {
          "output_type": "stream",
          "name": "stderr",
          "text": [
            "\n"
          ]
        }
      ],
      "source": [
        "history_, predictions_, answers_ = train(train_dataset_multi, test_dataset_multi, model=model, epochs=15, batch_size=64)"
      ]
    },
    {
      "cell_type": "markdown",
      "id": "EdshtTtqnHPg",
      "metadata": {
        "id": "EdshtTtqnHPg"
      },
      "source": [
        "**Creating confusion matrix**\n",
        "\n",
        "\n",
        "\n",
        "\n",
        "\n",
        "\n",
        "\n",
        "\n"
      ]
    },
    {
      "cell_type": "code",
      "execution_count": null,
      "id": "Y0Rl8zIwnNlf",
      "metadata": {
        "colab": {
          "base_uri": "https://localhost:8080/"
        },
        "id": "Y0Rl8zIwnNlf",
        "outputId": "25f4da0c-7739-42b4-f374-717b15862577"
      },
      "outputs": [
        {
          "output_type": "execute_result",
          "data": {
            "text/plain": [
              "35"
            ]
          },
          "metadata": {},
          "execution_count": 24
        }
      ],
      "source": [
        "import numpy as np\n",
        "classes = list(np.unique(_y))\n",
        "classes\n",
        "from sklearn.metrics import confusion_matrix\n",
        "import seaborn as sn\n",
        "import pandas as pd\n",
        "len(classes)"
      ]
    },
    {
      "cell_type": "markdown",
      "source": [
        "Строка отвечает за правильный ответ, то есть за метку класса, к которому принадлежит объект, а столбец за прогноз модели, тогда на пересечении столбца и строки будет стоять число объектов, для которых класс соответствует строке, а прогноз модели-столбцу"
      ],
      "metadata": {
        "id": "NMXPoz4su6eB"
      },
      "id": "NMXPoz4su6eB"
    },
    {
      "cell_type": "code",
      "execution_count": null,
      "id": "WRzU_2v7npuy",
      "metadata": {
        "colab": {
          "base_uri": "https://localhost:8080/",
          "height": 675
        },
        "id": "WRzU_2v7npuy",
        "outputId": "007b3ebe-ca2f-478c-9abc-409bbf3de640"
      },
      "outputs": [
        {
          "output_type": "execute_result",
          "data": {
            "text/plain": [
              "                   cat_Abyssinian  cat_Bengal  cat_Birman  cat_Bombay  \\\n",
              "cat_Abyssinian                 11           3           0           0   \n",
              "cat_Bengal                      2           6           1           0   \n",
              "cat_Birman                      0           0          17           0   \n",
              "cat_Bombay                      0           0           0          15   \n",
              "cat_British                     0           0           0           1   \n",
              "cat_Egyptian                    0           3           0           1   \n",
              "cat_Maine                       2           2           0           0   \n",
              "cat_Persian                     0           0           1           0   \n",
              "cat_Ragdoll                     0           0           2           0   \n",
              "cat_Russian                     0           0           0           0   \n",
              "cat_Siamese                     0           0           1           0   \n",
              "cat_Sphynx                      0           1           0           0   \n",
              "dog_american                    0           0           0           0   \n",
              "dog_basset                      0           0           0           0   \n",
              "dog_beagle                      0           0           0           0   \n",
              "dog_boxer                       0           0           1           0   \n",
              "dog_chihuahua                   0           1           0           0   \n",
              "dog_english                     1           0           0           0   \n",
              "dog_german                      0           0           0           0   \n",
              "dog_great                       0           0           0           0   \n",
              "dog_havanese                    0           0           0           0   \n",
              "dog_japanese                    0           0           0           0   \n",
              "dog_keeshond                    0           0           0           1   \n",
              "dog_leonberger                  0           0           0           0   \n",
              "dog_miniature                   0           1           0           0   \n",
              "dog_newfoundland                0           0           0           0   \n",
              "dog_pomeranian                  0           0           0           0   \n",
              "dog_pug                         0           0           1           0   \n",
              "dog_saint                       0           0           0           0   \n",
              "dog_samoyed                     0           0           0           0   \n",
              "dog_scottish                    0           0           0           1   \n",
              "dog_shiba                       0           0           0           0   \n",
              "dog_staffordshire               0           0           0           0   \n",
              "dog_wheaten                     0           0           0           0   \n",
              "dog_yorkshire                   0           0           0           0   \n",
              "\n",
              "                   cat_British  cat_Egyptian  cat_Maine  cat_Persian  \\\n",
              "cat_Abyssinian               0             0          0            1   \n",
              "cat_Bengal                   0             3          1            1   \n",
              "cat_Birman                   0             0          0            1   \n",
              "cat_Bombay                   0             0          0            0   \n",
              "cat_British                 19             0          0            0   \n",
              "cat_Egyptian                 1             7          0            0   \n",
              "cat_Maine                    0             0         14            0   \n",
              "cat_Persian                  0             0          0           18   \n",
              "cat_Ragdoll                  0             0          0            2   \n",
              "cat_Russian                  5             0          0            0   \n",
              "cat_Siamese                  0             0          0            0   \n",
              "cat_Sphynx                   0             0          0            0   \n",
              "dog_american                 0             0          0            0   \n",
              "dog_basset                   0             0          0            0   \n",
              "dog_beagle                   0             0          0            0   \n",
              "dog_boxer                    0             0          0            0   \n",
              "dog_chihuahua                0             0          0            0   \n",
              "dog_english                  0             1          0            0   \n",
              "dog_german                   0             0          0            0   \n",
              "dog_great                    0             0          0            0   \n",
              "dog_havanese                 1             0          0            0   \n",
              "dog_japanese                 0             0          0            0   \n",
              "dog_keeshond                 0             0          0            0   \n",
              "dog_leonberger               0             0          0            0   \n",
              "dog_miniature                0             0          0            0   \n",
              "dog_newfoundland             0             0          0            0   \n",
              "dog_pomeranian               0             0          0            0   \n",
              "dog_pug                      0             0          0            0   \n",
              "dog_saint                    0             0          0            0   \n",
              "dog_samoyed                  0             0          0            0   \n",
              "dog_scottish                 0             0          0            0   \n",
              "dog_shiba                    0             0          0            0   \n",
              "dog_staffordshire            0             0          0            0   \n",
              "dog_wheaten                  0             0          0            0   \n",
              "dog_yorkshire                0             0          0            0   \n",
              "\n",
              "                   cat_Ragdoll  cat_Russian  ...  dog_newfoundland  \\\n",
              "cat_Abyssinian               1            0  ...                 0   \n",
              "cat_Bengal                   0            0  ...                 0   \n",
              "cat_Birman                   1            0  ...                 0   \n",
              "cat_Bombay                   0            0  ...                 0   \n",
              "cat_British                  0            0  ...                 0   \n",
              "cat_Egyptian                 0            0  ...                 0   \n",
              "cat_Maine                    0            0  ...                 0   \n",
              "cat_Persian                  0            0  ...                 0   \n",
              "cat_Ragdoll                 12            0  ...                 0   \n",
              "cat_Russian                  0           13  ...                 0   \n",
              "cat_Siamese                  1            1  ...                 0   \n",
              "cat_Sphynx                   1            1  ...                 0   \n",
              "dog_american                 0            0  ...                 0   \n",
              "dog_basset                   0            0  ...                 1   \n",
              "dog_beagle                   0            0  ...                 0   \n",
              "dog_boxer                    0            0  ...                 1   \n",
              "dog_chihuahua                1            0  ...                 0   \n",
              "dog_english                  0            0  ...                 1   \n",
              "dog_german                   0            0  ...                 1   \n",
              "dog_great                    0            0  ...                 0   \n",
              "dog_havanese                 0            0  ...                 3   \n",
              "dog_japanese                 0            0  ...                 1   \n",
              "dog_keeshond                 0            0  ...                 0   \n",
              "dog_leonberger               0            0  ...                 4   \n",
              "dog_miniature                0            0  ...                 0   \n",
              "dog_newfoundland             0            0  ...                14   \n",
              "dog_pomeranian               0            0  ...                 0   \n",
              "dog_pug                      0            0  ...                 0   \n",
              "dog_saint                    0            0  ...                 1   \n",
              "dog_samoyed                  0            0  ...                 0   \n",
              "dog_scottish                 0            0  ...                 2   \n",
              "dog_shiba                    0            0  ...                 0   \n",
              "dog_staffordshire            0            0  ...                 0   \n",
              "dog_wheaten                  0            0  ...                 0   \n",
              "dog_yorkshire                0            0  ...                 1   \n",
              "\n",
              "                   dog_pomeranian  dog_pug  dog_saint  dog_samoyed  \\\n",
              "cat_Abyssinian                  0        0          0            0   \n",
              "cat_Bengal                      0        0          0            0   \n",
              "cat_Birman                      0        0          0            0   \n",
              "cat_Bombay                      0        0          0            0   \n",
              "cat_British                     0        0          0            0   \n",
              "cat_Egyptian                    0        0          0            0   \n",
              "cat_Maine                       0        0          0            0   \n",
              "cat_Persian                     0        0          0            0   \n",
              "cat_Ragdoll                     0        0          0            0   \n",
              "cat_Russian                     0        0          0            0   \n",
              "cat_Siamese                     0        0          0            0   \n",
              "cat_Sphynx                      0        0          0            0   \n",
              "dog_american                    2        1          1            0   \n",
              "dog_basset                      0        0          0            0   \n",
              "dog_beagle                      0        0          0            0   \n",
              "dog_boxer                       0        0          0            0   \n",
              "dog_chihuahua                   1        0          0            0   \n",
              "dog_english                     0        0          0            0   \n",
              "dog_german                      0        0          1            0   \n",
              "dog_great                       0        0          1            1   \n",
              "dog_havanese                    0        0          0            0   \n",
              "dog_japanese                    0        0          2            0   \n",
              "dog_keeshond                    0        0          0            0   \n",
              "dog_leonberger                  0        0          0            0   \n",
              "dog_miniature                   0        1          0            0   \n",
              "dog_newfoundland                0        0          0            0   \n",
              "dog_pomeranian                 15        0          0            2   \n",
              "dog_pug                         0       12          1            0   \n",
              "dog_saint                       0        0          9            0   \n",
              "dog_samoyed                     1        0          0            8   \n",
              "dog_scottish                    0        0          0            0   \n",
              "dog_shiba                       0        0          0            0   \n",
              "dog_staffordshire               0        0          1            0   \n",
              "dog_wheaten                     0        0          0            0   \n",
              "dog_yorkshire                   0        0          0            0   \n",
              "\n",
              "                   dog_scottish  dog_shiba  dog_staffordshire  dog_wheaten  \\\n",
              "cat_Abyssinian                0          0                  0            0   \n",
              "cat_Bengal                    0          0                  0            0   \n",
              "cat_Birman                    0          0                  0            0   \n",
              "cat_Bombay                    0          1                  0            0   \n",
              "cat_British                   0          0                  0            0   \n",
              "cat_Egyptian                  0          0                  0            0   \n",
              "cat_Maine                     0          0                  0            0   \n",
              "cat_Persian                   0          0                  0            0   \n",
              "cat_Ragdoll                   0          0                  0            0   \n",
              "cat_Russian                   0          0                  0            0   \n",
              "cat_Siamese                   0          0                  0            0   \n",
              "cat_Sphynx                    0          0                  0            0   \n",
              "dog_american                  0          0                  1            0   \n",
              "dog_basset                    0          0                  1            0   \n",
              "dog_beagle                    0          1                  0            0   \n",
              "dog_boxer                     0          0                  3            0   \n",
              "dog_chihuahua                 0          1                  0            0   \n",
              "dog_english                   0          0                  0            0   \n",
              "dog_german                    0          0                  0            0   \n",
              "dog_great                     0          0                  0            3   \n",
              "dog_havanese                  0          1                  0            1   \n",
              "dog_japanese                  0          1                  0            0   \n",
              "dog_keeshond                  0          0                  1            0   \n",
              "dog_leonberger                0          0                  0            0   \n",
              "dog_miniature                 0          0                  0            0   \n",
              "dog_newfoundland              0          0                  0            0   \n",
              "dog_pomeranian                0          0                  0            0   \n",
              "dog_pug                       1          0                  0            0   \n",
              "dog_saint                     0          0                  0            0   \n",
              "dog_samoyed                   0          1                  0            0   \n",
              "dog_scottish                  5          0                  1            0   \n",
              "dog_shiba                     0         14                  0            0   \n",
              "dog_staffordshire             1          0                 11            0   \n",
              "dog_wheaten                   0          0                  0           11   \n",
              "dog_yorkshire                 0          0                  0            3   \n",
              "\n",
              "                   dog_yorkshire  \n",
              "cat_Abyssinian                 0  \n",
              "cat_Bengal                     0  \n",
              "cat_Birman                     0  \n",
              "cat_Bombay                     0  \n",
              "cat_British                    0  \n",
              "cat_Egyptian                   0  \n",
              "cat_Maine                      1  \n",
              "cat_Persian                    0  \n",
              "cat_Ragdoll                    0  \n",
              "cat_Russian                    0  \n",
              "cat_Siamese                    0  \n",
              "cat_Sphynx                     0  \n",
              "dog_american                   0  \n",
              "dog_basset                     0  \n",
              "dog_beagle                     0  \n",
              "dog_boxer                      0  \n",
              "dog_chihuahua                  0  \n",
              "dog_english                    0  \n",
              "dog_german                     0  \n",
              "dog_great                      0  \n",
              "dog_havanese                   0  \n",
              "dog_japanese                   0  \n",
              "dog_keeshond                   1  \n",
              "dog_leonberger                 0  \n",
              "dog_miniature                  0  \n",
              "dog_newfoundland               0  \n",
              "dog_pomeranian                 0  \n",
              "dog_pug                        0  \n",
              "dog_saint                      0  \n",
              "dog_samoyed                    0  \n",
              "dog_scottish                   0  \n",
              "dog_shiba                      1  \n",
              "dog_staffordshire              0  \n",
              "dog_wheaten                    0  \n",
              "dog_yorkshire                  6  \n",
              "\n",
              "[35 rows x 35 columns]"
            ],
            "text/html": [
              "\n",
              "  <div id=\"df-4a283f62-4659-4d2f-b619-79497c8911c3\">\n",
              "    <div class=\"colab-df-container\">\n",
              "      <div>\n",
              "<style scoped>\n",
              "    .dataframe tbody tr th:only-of-type {\n",
              "        vertical-align: middle;\n",
              "    }\n",
              "\n",
              "    .dataframe tbody tr th {\n",
              "        vertical-align: top;\n",
              "    }\n",
              "\n",
              "    .dataframe thead th {\n",
              "        text-align: right;\n",
              "    }\n",
              "</style>\n",
              "<table border=\"1\" class=\"dataframe\">\n",
              "  <thead>\n",
              "    <tr style=\"text-align: right;\">\n",
              "      <th></th>\n",
              "      <th>cat_Abyssinian</th>\n",
              "      <th>cat_Bengal</th>\n",
              "      <th>cat_Birman</th>\n",
              "      <th>cat_Bombay</th>\n",
              "      <th>cat_British</th>\n",
              "      <th>cat_Egyptian</th>\n",
              "      <th>cat_Maine</th>\n",
              "      <th>cat_Persian</th>\n",
              "      <th>cat_Ragdoll</th>\n",
              "      <th>cat_Russian</th>\n",
              "      <th>...</th>\n",
              "      <th>dog_newfoundland</th>\n",
              "      <th>dog_pomeranian</th>\n",
              "      <th>dog_pug</th>\n",
              "      <th>dog_saint</th>\n",
              "      <th>dog_samoyed</th>\n",
              "      <th>dog_scottish</th>\n",
              "      <th>dog_shiba</th>\n",
              "      <th>dog_staffordshire</th>\n",
              "      <th>dog_wheaten</th>\n",
              "      <th>dog_yorkshire</th>\n",
              "    </tr>\n",
              "  </thead>\n",
              "  <tbody>\n",
              "    <tr>\n",
              "      <th>cat_Abyssinian</th>\n",
              "      <td>11</td>\n",
              "      <td>3</td>\n",
              "      <td>0</td>\n",
              "      <td>0</td>\n",
              "      <td>0</td>\n",
              "      <td>0</td>\n",
              "      <td>0</td>\n",
              "      <td>1</td>\n",
              "      <td>1</td>\n",
              "      <td>0</td>\n",
              "      <td>...</td>\n",
              "      <td>0</td>\n",
              "      <td>0</td>\n",
              "      <td>0</td>\n",
              "      <td>0</td>\n",
              "      <td>0</td>\n",
              "      <td>0</td>\n",
              "      <td>0</td>\n",
              "      <td>0</td>\n",
              "      <td>0</td>\n",
              "      <td>0</td>\n",
              "    </tr>\n",
              "    <tr>\n",
              "      <th>cat_Bengal</th>\n",
              "      <td>2</td>\n",
              "      <td>6</td>\n",
              "      <td>1</td>\n",
              "      <td>0</td>\n",
              "      <td>0</td>\n",
              "      <td>3</td>\n",
              "      <td>1</td>\n",
              "      <td>1</td>\n",
              "      <td>0</td>\n",
              "      <td>0</td>\n",
              "      <td>...</td>\n",
              "      <td>0</td>\n",
              "      <td>0</td>\n",
              "      <td>0</td>\n",
              "      <td>0</td>\n",
              "      <td>0</td>\n",
              "      <td>0</td>\n",
              "      <td>0</td>\n",
              "      <td>0</td>\n",
              "      <td>0</td>\n",
              "      <td>0</td>\n",
              "    </tr>\n",
              "    <tr>\n",
              "      <th>cat_Birman</th>\n",
              "      <td>0</td>\n",
              "      <td>0</td>\n",
              "      <td>17</td>\n",
              "      <td>0</td>\n",
              "      <td>0</td>\n",
              "      <td>0</td>\n",
              "      <td>0</td>\n",
              "      <td>1</td>\n",
              "      <td>1</td>\n",
              "      <td>0</td>\n",
              "      <td>...</td>\n",
              "      <td>0</td>\n",
              "      <td>0</td>\n",
              "      <td>0</td>\n",
              "      <td>0</td>\n",
              "      <td>0</td>\n",
              "      <td>0</td>\n",
              "      <td>0</td>\n",
              "      <td>0</td>\n",
              "      <td>0</td>\n",
              "      <td>0</td>\n",
              "    </tr>\n",
              "    <tr>\n",
              "      <th>cat_Bombay</th>\n",
              "      <td>0</td>\n",
              "      <td>0</td>\n",
              "      <td>0</td>\n",
              "      <td>15</td>\n",
              "      <td>0</td>\n",
              "      <td>0</td>\n",
              "      <td>0</td>\n",
              "      <td>0</td>\n",
              "      <td>0</td>\n",
              "      <td>0</td>\n",
              "      <td>...</td>\n",
              "      <td>0</td>\n",
              "      <td>0</td>\n",
              "      <td>0</td>\n",
              "      <td>0</td>\n",
              "      <td>0</td>\n",
              "      <td>0</td>\n",
              "      <td>1</td>\n",
              "      <td>0</td>\n",
              "      <td>0</td>\n",
              "      <td>0</td>\n",
              "    </tr>\n",
              "    <tr>\n",
              "      <th>cat_British</th>\n",
              "      <td>0</td>\n",
              "      <td>0</td>\n",
              "      <td>0</td>\n",
              "      <td>1</td>\n",
              "      <td>19</td>\n",
              "      <td>0</td>\n",
              "      <td>0</td>\n",
              "      <td>0</td>\n",
              "      <td>0</td>\n",
              "      <td>0</td>\n",
              "      <td>...</td>\n",
              "      <td>0</td>\n",
              "      <td>0</td>\n",
              "      <td>0</td>\n",
              "      <td>0</td>\n",
              "      <td>0</td>\n",
              "      <td>0</td>\n",
              "      <td>0</td>\n",
              "      <td>0</td>\n",
              "      <td>0</td>\n",
              "      <td>0</td>\n",
              "    </tr>\n",
              "    <tr>\n",
              "      <th>cat_Egyptian</th>\n",
              "      <td>0</td>\n",
              "      <td>3</td>\n",
              "      <td>0</td>\n",
              "      <td>1</td>\n",
              "      <td>1</td>\n",
              "      <td>7</td>\n",
              "      <td>0</td>\n",
              "      <td>0</td>\n",
              "      <td>0</td>\n",
              "      <td>0</td>\n",
              "      <td>...</td>\n",
              "      <td>0</td>\n",
              "      <td>0</td>\n",
              "      <td>0</td>\n",
              "      <td>0</td>\n",
              "      <td>0</td>\n",
              "      <td>0</td>\n",
              "      <td>0</td>\n",
              "      <td>0</td>\n",
              "      <td>0</td>\n",
              "      <td>0</td>\n",
              "    </tr>\n",
              "    <tr>\n",
              "      <th>cat_Maine</th>\n",
              "      <td>2</td>\n",
              "      <td>2</td>\n",
              "      <td>0</td>\n",
              "      <td>0</td>\n",
              "      <td>0</td>\n",
              "      <td>0</td>\n",
              "      <td>14</td>\n",
              "      <td>0</td>\n",
              "      <td>0</td>\n",
              "      <td>0</td>\n",
              "      <td>...</td>\n",
              "      <td>0</td>\n",
              "      <td>0</td>\n",
              "      <td>0</td>\n",
              "      <td>0</td>\n",
              "      <td>0</td>\n",
              "      <td>0</td>\n",
              "      <td>0</td>\n",
              "      <td>0</td>\n",
              "      <td>0</td>\n",
              "      <td>1</td>\n",
              "    </tr>\n",
              "    <tr>\n",
              "      <th>cat_Persian</th>\n",
              "      <td>0</td>\n",
              "      <td>0</td>\n",
              "      <td>1</td>\n",
              "      <td>0</td>\n",
              "      <td>0</td>\n",
              "      <td>0</td>\n",
              "      <td>0</td>\n",
              "      <td>18</td>\n",
              "      <td>0</td>\n",
              "      <td>0</td>\n",
              "      <td>...</td>\n",
              "      <td>0</td>\n",
              "      <td>0</td>\n",
              "      <td>0</td>\n",
              "      <td>0</td>\n",
              "      <td>0</td>\n",
              "      <td>0</td>\n",
              "      <td>0</td>\n",
              "      <td>0</td>\n",
              "      <td>0</td>\n",
              "      <td>0</td>\n",
              "    </tr>\n",
              "    <tr>\n",
              "      <th>cat_Ragdoll</th>\n",
              "      <td>0</td>\n",
              "      <td>0</td>\n",
              "      <td>2</td>\n",
              "      <td>0</td>\n",
              "      <td>0</td>\n",
              "      <td>0</td>\n",
              "      <td>0</td>\n",
              "      <td>2</td>\n",
              "      <td>12</td>\n",
              "      <td>0</td>\n",
              "      <td>...</td>\n",
              "      <td>0</td>\n",
              "      <td>0</td>\n",
              "      <td>0</td>\n",
              "      <td>0</td>\n",
              "      <td>0</td>\n",
              "      <td>0</td>\n",
              "      <td>0</td>\n",
              "      <td>0</td>\n",
              "      <td>0</td>\n",
              "      <td>0</td>\n",
              "    </tr>\n",
              "    <tr>\n",
              "      <th>cat_Russian</th>\n",
              "      <td>0</td>\n",
              "      <td>0</td>\n",
              "      <td>0</td>\n",
              "      <td>0</td>\n",
              "      <td>5</td>\n",
              "      <td>0</td>\n",
              "      <td>0</td>\n",
              "      <td>0</td>\n",
              "      <td>0</td>\n",
              "      <td>13</td>\n",
              "      <td>...</td>\n",
              "      <td>0</td>\n",
              "      <td>0</td>\n",
              "      <td>0</td>\n",
              "      <td>0</td>\n",
              "      <td>0</td>\n",
              "      <td>0</td>\n",
              "      <td>0</td>\n",
              "      <td>0</td>\n",
              "      <td>0</td>\n",
              "      <td>0</td>\n",
              "    </tr>\n",
              "    <tr>\n",
              "      <th>cat_Siamese</th>\n",
              "      <td>0</td>\n",
              "      <td>0</td>\n",
              "      <td>1</td>\n",
              "      <td>0</td>\n",
              "      <td>0</td>\n",
              "      <td>0</td>\n",
              "      <td>0</td>\n",
              "      <td>0</td>\n",
              "      <td>1</td>\n",
              "      <td>1</td>\n",
              "      <td>...</td>\n",
              "      <td>0</td>\n",
              "      <td>0</td>\n",
              "      <td>0</td>\n",
              "      <td>0</td>\n",
              "      <td>0</td>\n",
              "      <td>0</td>\n",
              "      <td>0</td>\n",
              "      <td>0</td>\n",
              "      <td>0</td>\n",
              "      <td>0</td>\n",
              "    </tr>\n",
              "    <tr>\n",
              "      <th>cat_Sphynx</th>\n",
              "      <td>0</td>\n",
              "      <td>1</td>\n",
              "      <td>0</td>\n",
              "      <td>0</td>\n",
              "      <td>0</td>\n",
              "      <td>0</td>\n",
              "      <td>0</td>\n",
              "      <td>0</td>\n",
              "      <td>1</td>\n",
              "      <td>1</td>\n",
              "      <td>...</td>\n",
              "      <td>0</td>\n",
              "      <td>0</td>\n",
              "      <td>0</td>\n",
              "      <td>0</td>\n",
              "      <td>0</td>\n",
              "      <td>0</td>\n",
              "      <td>0</td>\n",
              "      <td>0</td>\n",
              "      <td>0</td>\n",
              "      <td>0</td>\n",
              "    </tr>\n",
              "    <tr>\n",
              "      <th>dog_american</th>\n",
              "      <td>0</td>\n",
              "      <td>0</td>\n",
              "      <td>0</td>\n",
              "      <td>0</td>\n",
              "      <td>0</td>\n",
              "      <td>0</td>\n",
              "      <td>0</td>\n",
              "      <td>0</td>\n",
              "      <td>0</td>\n",
              "      <td>0</td>\n",
              "      <td>...</td>\n",
              "      <td>0</td>\n",
              "      <td>2</td>\n",
              "      <td>1</td>\n",
              "      <td>1</td>\n",
              "      <td>0</td>\n",
              "      <td>0</td>\n",
              "      <td>0</td>\n",
              "      <td>1</td>\n",
              "      <td>0</td>\n",
              "      <td>0</td>\n",
              "    </tr>\n",
              "    <tr>\n",
              "      <th>dog_basset</th>\n",
              "      <td>0</td>\n",
              "      <td>0</td>\n",
              "      <td>0</td>\n",
              "      <td>0</td>\n",
              "      <td>0</td>\n",
              "      <td>0</td>\n",
              "      <td>0</td>\n",
              "      <td>0</td>\n",
              "      <td>0</td>\n",
              "      <td>0</td>\n",
              "      <td>...</td>\n",
              "      <td>1</td>\n",
              "      <td>0</td>\n",
              "      <td>0</td>\n",
              "      <td>0</td>\n",
              "      <td>0</td>\n",
              "      <td>0</td>\n",
              "      <td>0</td>\n",
              "      <td>1</td>\n",
              "      <td>0</td>\n",
              "      <td>0</td>\n",
              "    </tr>\n",
              "    <tr>\n",
              "      <th>dog_beagle</th>\n",
              "      <td>0</td>\n",
              "      <td>0</td>\n",
              "      <td>0</td>\n",
              "      <td>0</td>\n",
              "      <td>0</td>\n",
              "      <td>0</td>\n",
              "      <td>0</td>\n",
              "      <td>0</td>\n",
              "      <td>0</td>\n",
              "      <td>0</td>\n",
              "      <td>...</td>\n",
              "      <td>0</td>\n",
              "      <td>0</td>\n",
              "      <td>0</td>\n",
              "      <td>0</td>\n",
              "      <td>0</td>\n",
              "      <td>0</td>\n",
              "      <td>1</td>\n",
              "      <td>0</td>\n",
              "      <td>0</td>\n",
              "      <td>0</td>\n",
              "    </tr>\n",
              "    <tr>\n",
              "      <th>dog_boxer</th>\n",
              "      <td>0</td>\n",
              "      <td>0</td>\n",
              "      <td>1</td>\n",
              "      <td>0</td>\n",
              "      <td>0</td>\n",
              "      <td>0</td>\n",
              "      <td>0</td>\n",
              "      <td>0</td>\n",
              "      <td>0</td>\n",
              "      <td>0</td>\n",
              "      <td>...</td>\n",
              "      <td>1</td>\n",
              "      <td>0</td>\n",
              "      <td>0</td>\n",
              "      <td>0</td>\n",
              "      <td>0</td>\n",
              "      <td>0</td>\n",
              "      <td>0</td>\n",
              "      <td>3</td>\n",
              "      <td>0</td>\n",
              "      <td>0</td>\n",
              "    </tr>\n",
              "    <tr>\n",
              "      <th>dog_chihuahua</th>\n",
              "      <td>0</td>\n",
              "      <td>1</td>\n",
              "      <td>0</td>\n",
              "      <td>0</td>\n",
              "      <td>0</td>\n",
              "      <td>0</td>\n",
              "      <td>0</td>\n",
              "      <td>0</td>\n",
              "      <td>1</td>\n",
              "      <td>0</td>\n",
              "      <td>...</td>\n",
              "      <td>0</td>\n",
              "      <td>1</td>\n",
              "      <td>0</td>\n",
              "      <td>0</td>\n",
              "      <td>0</td>\n",
              "      <td>0</td>\n",
              "      <td>1</td>\n",
              "      <td>0</td>\n",
              "      <td>0</td>\n",
              "      <td>0</td>\n",
              "    </tr>\n",
              "    <tr>\n",
              "      <th>dog_english</th>\n",
              "      <td>1</td>\n",
              "      <td>0</td>\n",
              "      <td>0</td>\n",
              "      <td>0</td>\n",
              "      <td>0</td>\n",
              "      <td>1</td>\n",
              "      <td>0</td>\n",
              "      <td>0</td>\n",
              "      <td>0</td>\n",
              "      <td>0</td>\n",
              "      <td>...</td>\n",
              "      <td>1</td>\n",
              "      <td>0</td>\n",
              "      <td>0</td>\n",
              "      <td>0</td>\n",
              "      <td>0</td>\n",
              "      <td>0</td>\n",
              "      <td>0</td>\n",
              "      <td>0</td>\n",
              "      <td>0</td>\n",
              "      <td>0</td>\n",
              "    </tr>\n",
              "    <tr>\n",
              "      <th>dog_german</th>\n",
              "      <td>0</td>\n",
              "      <td>0</td>\n",
              "      <td>0</td>\n",
              "      <td>0</td>\n",
              "      <td>0</td>\n",
              "      <td>0</td>\n",
              "      <td>0</td>\n",
              "      <td>0</td>\n",
              "      <td>0</td>\n",
              "      <td>0</td>\n",
              "      <td>...</td>\n",
              "      <td>1</td>\n",
              "      <td>0</td>\n",
              "      <td>0</td>\n",
              "      <td>1</td>\n",
              "      <td>0</td>\n",
              "      <td>0</td>\n",
              "      <td>0</td>\n",
              "      <td>0</td>\n",
              "      <td>0</td>\n",
              "      <td>0</td>\n",
              "    </tr>\n",
              "    <tr>\n",
              "      <th>dog_great</th>\n",
              "      <td>0</td>\n",
              "      <td>0</td>\n",
              "      <td>0</td>\n",
              "      <td>0</td>\n",
              "      <td>0</td>\n",
              "      <td>0</td>\n",
              "      <td>0</td>\n",
              "      <td>0</td>\n",
              "      <td>0</td>\n",
              "      <td>0</td>\n",
              "      <td>...</td>\n",
              "      <td>0</td>\n",
              "      <td>0</td>\n",
              "      <td>0</td>\n",
              "      <td>1</td>\n",
              "      <td>1</td>\n",
              "      <td>0</td>\n",
              "      <td>0</td>\n",
              "      <td>0</td>\n",
              "      <td>3</td>\n",
              "      <td>0</td>\n",
              "    </tr>\n",
              "    <tr>\n",
              "      <th>dog_havanese</th>\n",
              "      <td>0</td>\n",
              "      <td>0</td>\n",
              "      <td>0</td>\n",
              "      <td>0</td>\n",
              "      <td>1</td>\n",
              "      <td>0</td>\n",
              "      <td>0</td>\n",
              "      <td>0</td>\n",
              "      <td>0</td>\n",
              "      <td>0</td>\n",
              "      <td>...</td>\n",
              "      <td>3</td>\n",
              "      <td>0</td>\n",
              "      <td>0</td>\n",
              "      <td>0</td>\n",
              "      <td>0</td>\n",
              "      <td>0</td>\n",
              "      <td>1</td>\n",
              "      <td>0</td>\n",
              "      <td>1</td>\n",
              "      <td>0</td>\n",
              "    </tr>\n",
              "    <tr>\n",
              "      <th>dog_japanese</th>\n",
              "      <td>0</td>\n",
              "      <td>0</td>\n",
              "      <td>0</td>\n",
              "      <td>0</td>\n",
              "      <td>0</td>\n",
              "      <td>0</td>\n",
              "      <td>0</td>\n",
              "      <td>0</td>\n",
              "      <td>0</td>\n",
              "      <td>0</td>\n",
              "      <td>...</td>\n",
              "      <td>1</td>\n",
              "      <td>0</td>\n",
              "      <td>0</td>\n",
              "      <td>2</td>\n",
              "      <td>0</td>\n",
              "      <td>0</td>\n",
              "      <td>1</td>\n",
              "      <td>0</td>\n",
              "      <td>0</td>\n",
              "      <td>0</td>\n",
              "    </tr>\n",
              "    <tr>\n",
              "      <th>dog_keeshond</th>\n",
              "      <td>0</td>\n",
              "      <td>0</td>\n",
              "      <td>0</td>\n",
              "      <td>1</td>\n",
              "      <td>0</td>\n",
              "      <td>0</td>\n",
              "      <td>0</td>\n",
              "      <td>0</td>\n",
              "      <td>0</td>\n",
              "      <td>0</td>\n",
              "      <td>...</td>\n",
              "      <td>0</td>\n",
              "      <td>0</td>\n",
              "      <td>0</td>\n",
              "      <td>0</td>\n",
              "      <td>0</td>\n",
              "      <td>0</td>\n",
              "      <td>0</td>\n",
              "      <td>1</td>\n",
              "      <td>0</td>\n",
              "      <td>1</td>\n",
              "    </tr>\n",
              "    <tr>\n",
              "      <th>dog_leonberger</th>\n",
              "      <td>0</td>\n",
              "      <td>0</td>\n",
              "      <td>0</td>\n",
              "      <td>0</td>\n",
              "      <td>0</td>\n",
              "      <td>0</td>\n",
              "      <td>0</td>\n",
              "      <td>0</td>\n",
              "      <td>0</td>\n",
              "      <td>0</td>\n",
              "      <td>...</td>\n",
              "      <td>4</td>\n",
              "      <td>0</td>\n",
              "      <td>0</td>\n",
              "      <td>0</td>\n",
              "      <td>0</td>\n",
              "      <td>0</td>\n",
              "      <td>0</td>\n",
              "      <td>0</td>\n",
              "      <td>0</td>\n",
              "      <td>0</td>\n",
              "    </tr>\n",
              "    <tr>\n",
              "      <th>dog_miniature</th>\n",
              "      <td>0</td>\n",
              "      <td>1</td>\n",
              "      <td>0</td>\n",
              "      <td>0</td>\n",
              "      <td>0</td>\n",
              "      <td>0</td>\n",
              "      <td>0</td>\n",
              "      <td>0</td>\n",
              "      <td>0</td>\n",
              "      <td>0</td>\n",
              "      <td>...</td>\n",
              "      <td>0</td>\n",
              "      <td>0</td>\n",
              "      <td>1</td>\n",
              "      <td>0</td>\n",
              "      <td>0</td>\n",
              "      <td>0</td>\n",
              "      <td>0</td>\n",
              "      <td>0</td>\n",
              "      <td>0</td>\n",
              "      <td>0</td>\n",
              "    </tr>\n",
              "    <tr>\n",
              "      <th>dog_newfoundland</th>\n",
              "      <td>0</td>\n",
              "      <td>0</td>\n",
              "      <td>0</td>\n",
              "      <td>0</td>\n",
              "      <td>0</td>\n",
              "      <td>0</td>\n",
              "      <td>0</td>\n",
              "      <td>0</td>\n",
              "      <td>0</td>\n",
              "      <td>0</td>\n",
              "      <td>...</td>\n",
              "      <td>14</td>\n",
              "      <td>0</td>\n",
              "      <td>0</td>\n",
              "      <td>0</td>\n",
              "      <td>0</td>\n",
              "      <td>0</td>\n",
              "      <td>0</td>\n",
              "      <td>0</td>\n",
              "      <td>0</td>\n",
              "      <td>0</td>\n",
              "    </tr>\n",
              "    <tr>\n",
              "      <th>dog_pomeranian</th>\n",
              "      <td>0</td>\n",
              "      <td>0</td>\n",
              "      <td>0</td>\n",
              "      <td>0</td>\n",
              "      <td>0</td>\n",
              "      <td>0</td>\n",
              "      <td>0</td>\n",
              "      <td>0</td>\n",
              "      <td>0</td>\n",
              "      <td>0</td>\n",
              "      <td>...</td>\n",
              "      <td>0</td>\n",
              "      <td>15</td>\n",
              "      <td>0</td>\n",
              "      <td>0</td>\n",
              "      <td>2</td>\n",
              "      <td>0</td>\n",
              "      <td>0</td>\n",
              "      <td>0</td>\n",
              "      <td>0</td>\n",
              "      <td>0</td>\n",
              "    </tr>\n",
              "    <tr>\n",
              "      <th>dog_pug</th>\n",
              "      <td>0</td>\n",
              "      <td>0</td>\n",
              "      <td>1</td>\n",
              "      <td>0</td>\n",
              "      <td>0</td>\n",
              "      <td>0</td>\n",
              "      <td>0</td>\n",
              "      <td>0</td>\n",
              "      <td>0</td>\n",
              "      <td>0</td>\n",
              "      <td>...</td>\n",
              "      <td>0</td>\n",
              "      <td>0</td>\n",
              "      <td>12</td>\n",
              "      <td>1</td>\n",
              "      <td>0</td>\n",
              "      <td>1</td>\n",
              "      <td>0</td>\n",
              "      <td>0</td>\n",
              "      <td>0</td>\n",
              "      <td>0</td>\n",
              "    </tr>\n",
              "    <tr>\n",
              "      <th>dog_saint</th>\n",
              "      <td>0</td>\n",
              "      <td>0</td>\n",
              "      <td>0</td>\n",
              "      <td>0</td>\n",
              "      <td>0</td>\n",
              "      <td>0</td>\n",
              "      <td>0</td>\n",
              "      <td>0</td>\n",
              "      <td>0</td>\n",
              "      <td>0</td>\n",
              "      <td>...</td>\n",
              "      <td>1</td>\n",
              "      <td>0</td>\n",
              "      <td>0</td>\n",
              "      <td>9</td>\n",
              "      <td>0</td>\n",
              "      <td>0</td>\n",
              "      <td>0</td>\n",
              "      <td>0</td>\n",
              "      <td>0</td>\n",
              "      <td>0</td>\n",
              "    </tr>\n",
              "    <tr>\n",
              "      <th>dog_samoyed</th>\n",
              "      <td>0</td>\n",
              "      <td>0</td>\n",
              "      <td>0</td>\n",
              "      <td>0</td>\n",
              "      <td>0</td>\n",
              "      <td>0</td>\n",
              "      <td>0</td>\n",
              "      <td>0</td>\n",
              "      <td>0</td>\n",
              "      <td>0</td>\n",
              "      <td>...</td>\n",
              "      <td>0</td>\n",
              "      <td>1</td>\n",
              "      <td>0</td>\n",
              "      <td>0</td>\n",
              "      <td>8</td>\n",
              "      <td>0</td>\n",
              "      <td>1</td>\n",
              "      <td>0</td>\n",
              "      <td>0</td>\n",
              "      <td>0</td>\n",
              "    </tr>\n",
              "    <tr>\n",
              "      <th>dog_scottish</th>\n",
              "      <td>0</td>\n",
              "      <td>0</td>\n",
              "      <td>0</td>\n",
              "      <td>1</td>\n",
              "      <td>0</td>\n",
              "      <td>0</td>\n",
              "      <td>0</td>\n",
              "      <td>0</td>\n",
              "      <td>0</td>\n",
              "      <td>0</td>\n",
              "      <td>...</td>\n",
              "      <td>2</td>\n",
              "      <td>0</td>\n",
              "      <td>0</td>\n",
              "      <td>0</td>\n",
              "      <td>0</td>\n",
              "      <td>5</td>\n",
              "      <td>0</td>\n",
              "      <td>1</td>\n",
              "      <td>0</td>\n",
              "      <td>0</td>\n",
              "    </tr>\n",
              "    <tr>\n",
              "      <th>dog_shiba</th>\n",
              "      <td>0</td>\n",
              "      <td>0</td>\n",
              "      <td>0</td>\n",
              "      <td>0</td>\n",
              "      <td>0</td>\n",
              "      <td>0</td>\n",
              "      <td>0</td>\n",
              "      <td>0</td>\n",
              "      <td>0</td>\n",
              "      <td>0</td>\n",
              "      <td>...</td>\n",
              "      <td>0</td>\n",
              "      <td>0</td>\n",
              "      <td>0</td>\n",
              "      <td>0</td>\n",
              "      <td>0</td>\n",
              "      <td>0</td>\n",
              "      <td>14</td>\n",
              "      <td>0</td>\n",
              "      <td>0</td>\n",
              "      <td>1</td>\n",
              "    </tr>\n",
              "    <tr>\n",
              "      <th>dog_staffordshire</th>\n",
              "      <td>0</td>\n",
              "      <td>0</td>\n",
              "      <td>0</td>\n",
              "      <td>0</td>\n",
              "      <td>0</td>\n",
              "      <td>0</td>\n",
              "      <td>0</td>\n",
              "      <td>0</td>\n",
              "      <td>0</td>\n",
              "      <td>0</td>\n",
              "      <td>...</td>\n",
              "      <td>0</td>\n",
              "      <td>0</td>\n",
              "      <td>0</td>\n",
              "      <td>1</td>\n",
              "      <td>0</td>\n",
              "      <td>1</td>\n",
              "      <td>0</td>\n",
              "      <td>11</td>\n",
              "      <td>0</td>\n",
              "      <td>0</td>\n",
              "    </tr>\n",
              "    <tr>\n",
              "      <th>dog_wheaten</th>\n",
              "      <td>0</td>\n",
              "      <td>0</td>\n",
              "      <td>0</td>\n",
              "      <td>0</td>\n",
              "      <td>0</td>\n",
              "      <td>0</td>\n",
              "      <td>0</td>\n",
              "      <td>0</td>\n",
              "      <td>0</td>\n",
              "      <td>0</td>\n",
              "      <td>...</td>\n",
              "      <td>0</td>\n",
              "      <td>0</td>\n",
              "      <td>0</td>\n",
              "      <td>0</td>\n",
              "      <td>0</td>\n",
              "      <td>0</td>\n",
              "      <td>0</td>\n",
              "      <td>0</td>\n",
              "      <td>11</td>\n",
              "      <td>0</td>\n",
              "    </tr>\n",
              "    <tr>\n",
              "      <th>dog_yorkshire</th>\n",
              "      <td>0</td>\n",
              "      <td>0</td>\n",
              "      <td>0</td>\n",
              "      <td>0</td>\n",
              "      <td>0</td>\n",
              "      <td>0</td>\n",
              "      <td>0</td>\n",
              "      <td>0</td>\n",
              "      <td>0</td>\n",
              "      <td>0</td>\n",
              "      <td>...</td>\n",
              "      <td>1</td>\n",
              "      <td>0</td>\n",
              "      <td>0</td>\n",
              "      <td>0</td>\n",
              "      <td>0</td>\n",
              "      <td>0</td>\n",
              "      <td>0</td>\n",
              "      <td>0</td>\n",
              "      <td>3</td>\n",
              "      <td>6</td>\n",
              "    </tr>\n",
              "  </tbody>\n",
              "</table>\n",
              "<p>35 rows × 35 columns</p>\n",
              "</div>\n",
              "      <button class=\"colab-df-convert\" onclick=\"convertToInteractive('df-4a283f62-4659-4d2f-b619-79497c8911c3')\"\n",
              "              title=\"Convert this dataframe to an interactive table.\"\n",
              "              style=\"display:none;\">\n",
              "        \n",
              "  <svg xmlns=\"http://www.w3.org/2000/svg\" height=\"24px\"viewBox=\"0 0 24 24\"\n",
              "       width=\"24px\">\n",
              "    <path d=\"M0 0h24v24H0V0z\" fill=\"none\"/>\n",
              "    <path d=\"M18.56 5.44l.94 2.06.94-2.06 2.06-.94-2.06-.94-.94-2.06-.94 2.06-2.06.94zm-11 1L8.5 8.5l.94-2.06 2.06-.94-2.06-.94L8.5 2.5l-.94 2.06-2.06.94zm10 10l.94 2.06.94-2.06 2.06-.94-2.06-.94-.94-2.06-.94 2.06-2.06.94z\"/><path d=\"M17.41 7.96l-1.37-1.37c-.4-.4-.92-.59-1.43-.59-.52 0-1.04.2-1.43.59L10.3 9.45l-7.72 7.72c-.78.78-.78 2.05 0 2.83L4 21.41c.39.39.9.59 1.41.59.51 0 1.02-.2 1.41-.59l7.78-7.78 2.81-2.81c.8-.78.8-2.07 0-2.86zM5.41 20L4 18.59l7.72-7.72 1.47 1.35L5.41 20z\"/>\n",
              "  </svg>\n",
              "      </button>\n",
              "      \n",
              "  <style>\n",
              "    .colab-df-container {\n",
              "      display:flex;\n",
              "      flex-wrap:wrap;\n",
              "      gap: 12px;\n",
              "    }\n",
              "\n",
              "    .colab-df-convert {\n",
              "      background-color: #E8F0FE;\n",
              "      border: none;\n",
              "      border-radius: 50%;\n",
              "      cursor: pointer;\n",
              "      display: none;\n",
              "      fill: #1967D2;\n",
              "      height: 32px;\n",
              "      padding: 0 0 0 0;\n",
              "      width: 32px;\n",
              "    }\n",
              "\n",
              "    .colab-df-convert:hover {\n",
              "      background-color: #E2EBFA;\n",
              "      box-shadow: 0px 1px 2px rgba(60, 64, 67, 0.3), 0px 1px 3px 1px rgba(60, 64, 67, 0.15);\n",
              "      fill: #174EA6;\n",
              "    }\n",
              "\n",
              "    [theme=dark] .colab-df-convert {\n",
              "      background-color: #3B4455;\n",
              "      fill: #D2E3FC;\n",
              "    }\n",
              "\n",
              "    [theme=dark] .colab-df-convert:hover {\n",
              "      background-color: #434B5C;\n",
              "      box-shadow: 0px 1px 3px 1px rgba(0, 0, 0, 0.15);\n",
              "      filter: drop-shadow(0px 1px 2px rgba(0, 0, 0, 0.3));\n",
              "      fill: #FFFFFF;\n",
              "    }\n",
              "  </style>\n",
              "\n",
              "      <script>\n",
              "        const buttonEl =\n",
              "          document.querySelector('#df-4a283f62-4659-4d2f-b619-79497c8911c3 button.colab-df-convert');\n",
              "        buttonEl.style.display =\n",
              "          google.colab.kernel.accessAllowed ? 'block' : 'none';\n",
              "\n",
              "        async function convertToInteractive(key) {\n",
              "          const element = document.querySelector('#df-4a283f62-4659-4d2f-b619-79497c8911c3');\n",
              "          const dataTable =\n",
              "            await google.colab.kernel.invokeFunction('convertToInteractive',\n",
              "                                                     [key], {});\n",
              "          if (!dataTable) return;\n",
              "\n",
              "          const docLinkHtml = 'Like what you see? Visit the ' +\n",
              "            '<a target=\"_blank\" href=https://colab.research.google.com/notebooks/data_table.ipynb>data table notebook</a>'\n",
              "            + ' to learn more about interactive tables.';\n",
              "          element.innerHTML = '';\n",
              "          dataTable['output_type'] = 'display_data';\n",
              "          await google.colab.output.renderOutput(dataTable, element);\n",
              "          const docLink = document.createElement('div');\n",
              "          docLink.innerHTML = docLinkHtml;\n",
              "          element.appendChild(docLink);\n",
              "        }\n",
              "      </script>\n",
              "    </div>\n",
              "  </div>\n",
              "  "
            ]
          },
          "metadata": {},
          "execution_count": 25
        },
        {
          "output_type": "stream",
          "name": "stdout",
          "text": [
            "Warning: Total number of columns (35) exceeds max_columns (20) limiting to first (20) columns.\n"
          ]
        }
      ],
      "source": [
        "cf_matrix = confusion_matrix(answers_, predictions_)\n",
        "df_cm = pd.DataFrame(cf_matrix, index=classes, columns=classes)\n",
        "df_cm"
      ]
    },
    {
      "cell_type": "markdown",
      "source": [
        "**Выполним оптимизацию гиперпараметоров**\n",
        "\n",
        "Выбор архитектуры был выполнен ранее. В качестве слоёв были выбраны convolutional слой, maxpool и batchnorm и два полносвязных слоя. Для выбора оптимальной архитектуры я брал сначала четыре таких слоя состоящих из свёртки, пулинга и батчнормы, затем три и два, меняя также размер пулинга и число карт активаций после свёртки. Нейросеть с 3 и 4 свёрточными слоями очень быстро переобучалась, выдавая на тренировочной выборке долю правильных ответов порядка 0.98, в то время как на тестовой выборке это значение не поднималось выше 0.6. Оптимальным с точки зрения количества слоёв оказалось выбирать два таких слоя.\n",
        "Также в качестве оптимизаторов использовались Adam и AdamW, как лучшие алгоритмы оптимизации. Второй использовался в надежде справиться с переобучением, что частично было достигнуто, однако итоговое качество на тестовой выборке не выросло.\n"
      ],
      "metadata": {
        "id": "5vaJeHR-AONU"
      },
      "id": "5vaJeHR-AONU"
    },
    {
      "cell_type": "code",
      "source": [
        "class AdaptiveNetWork(nn.Module):\n",
        "  def __init__(self, kernel_size=3):\n",
        "    super(AdaptiveNetWork, self).__init__()\n",
        "    self.batch1 = nn.BatchNorm2d(3)\n",
        "    self.conv1 = nn.Conv2d(3, 6, kernel_size)\n",
        "    self.pool1 = nn.MaxPool2d(kernel_size=4)\n",
        "    self.batch2 = nn.BatchNorm2d(6)\n",
        "    self.conv2 = nn.Conv2d(6, 12, kernel_size)\n",
        "    self.pool2 = nn.MaxPool2d(kernel_size=4)\n",
        "    self.batch3 = nn.BatchNorm2d(12)\n",
        "    self.fl = nn.Flatten()\n",
        "    feature_count = ((224 - kernel_size + 1) // 4 - kernel_size + 1) // 4\n",
        "    self.fc1 = nn.Linear(feature_count ** 2 * 12, 128)\n",
        "    self.dp2 = nn.Dropout(0.6) # 0.7\n",
        "    self.activation1 = nn.LeakyReLU()\n",
        "    self.fc2 = nn.Linear(128, 35)\n",
        "\n",
        "\n",
        "  def forward(self, x):\n",
        "    x = self.pool1(self.conv1(self.batch1(x)))\n",
        "    x = self.pool2(self.conv2(self.batch2(x)))\n",
        "    x = self.batch3(x)\n",
        "    x = self.fl(x)\n",
        "    x = self.activation1(self.dp2(self.fc1(x)))\n",
        "    x = self.fc2(x)\n",
        "    return x"
      ],
      "metadata": {
        "id": "4xAZjpVRCSsc"
      },
      "id": "4xAZjpVRCSsc",
      "execution_count": 15,
      "outputs": []
    },
    {
      "cell_type": "code",
      "source": [
        "def train_search(train_dataset, test_dataset, model, epochs, batch_size, learning_rate):\n",
        "    train_loader = DataLoader(train_dataset, batch_size=batch_size, shuffle=True)\n",
        "    val_loader = DataLoader(test_dataset, batch_size=batch_size, shuffle=False)\n",
        "\n",
        "    history = []\n",
        "    predictions = []\n",
        "    log_template = \"\\nEpoch {ep:03d} train_loss: {t_loss:0.4f} \\\n",
        "    val_loss {v_loss:0.4f} train_acc {t_acc:0.4f} val_acc {v_acc:0.4f} val_acc_top3 {v_acc_top3:0.4f}\"\n",
        "\n",
        "    with tqdm(desc=\"epoch\", total=epochs) as pbar_outer:\n",
        "        opt = torch.optim.Adam(model.parameters(), lr=learning_rate)\n",
        "        scheduler = torch.optim.lr_scheduler.ExponentialLR(opt,\n",
        "          gamma=0.95)\n",
        "        criterion = nn.CrossEntropyLoss()\n",
        "        for epoch in range(epochs):\n",
        "            train_loss, train_acc = fit_epoch(model, train_loader, criterion, opt)\n",
        "            scheduler.step()\n",
        "            val_loss, val_acc, val_acc_top3, predictions, answers = eval_epoch(model, val_loader, criterion)\n",
        "            history.append((train_loss, train_acc, val_loss, val_acc))\n",
        "            \n",
        "            pbar_outer.update(1)\n",
        "            tqdm.write(log_template.format(ep=epoch+1, t_loss=train_loss,\\\n",
        "                                           v_loss=val_loss, t_acc=train_acc, v_acc=val_acc, v_acc_top3=val_acc_top3))\n",
        "            \n",
        "    return history"
      ],
      "metadata": {
        "id": "0i7TXbYHBlw_"
      },
      "id": "0i7TXbYHBlw_",
      "execution_count": 16,
      "outputs": []
    },
    {
      "cell_type": "markdown",
      "source": [
        "Для поиска оптимальных параметров воспользуемся поиском по сетке, то есть переберём все комбинации параметров из некоторой \"сетки\". Такой подход редко используют при обучении нейронных сетей, так как они долго обучаются и на одной комбинации гиперпараметров, не говоря уже о нескольких. Но в нашем случае обучение занимает пару минут, поэтому вариант перебора возможен."
      ],
      "metadata": {
        "id": "1QL668aR7gAx"
      },
      "id": "1QL668aR7gAx"
    },
    {
      "cell_type": "code",
      "execution_count": null,
      "id": "ae07742b",
      "metadata": {
        "id": "ae07742b"
      },
      "outputs": [],
      "source": [
        "from sklearn.model_selection import StratifiedKFold\n",
        "\n",
        "def grid_search(lr, kernel_sizes):\n",
        "    split_count = len(lr) * len(kernel_sizes)\n",
        "    kf = StratifiedKFold(n_splits=split_count)\n",
        "    best_lr = lr[0]\n",
        "    best_kernel_size = kernel_sizes[0]\n",
        "    curr_result = 0.0\n",
        "    for learning_rate in lr:\n",
        "        for kernel_size in kernel_sizes:\n",
        "            X_train, X_val = next(kf.split(files, _y))\n",
        "            train_data = [files[element] for element in X_train]\n",
        "            val_data = [files[element] for element in X_val]\n",
        "            train_dataset = PetFacesDataset(train_data, \"train\", \"multi\")\n",
        "            val_dataset = PetFacesDataset(val_data, \"val\", \"multi\")\n",
        "            search_model = AdaptiveNetWork(kernel_size)\n",
        "            search_model = search_model.to(DEVICE)\n",
        "            print(\"learning_rate=\", learning_rate, \"kernel_size=\", kernel_size)\n",
        "            history = train_search(train_dataset, val_dataset, search_model, 15, 64, learning_rate)\n",
        "            result = float(history[-1][3])\n",
        "            if result > curr_result:\n",
        "                best_lr = learning_rate\n",
        "                best_kernel_size = kernel_size\n",
        "            print(\"result:\", result)\n",
        "    return best_lr, best_kernel_size"
      ]
    },
    {
      "cell_type": "markdown",
      "source": [
        "На практике обычно не используют фильтры чётного размера, и современные модели не используют фильтры больше 7 на 7. Поэтому я остановился на фильтрах размерами 3 на 3, 5 на 5 и 7 на 7. Использование батчнормы делает обучение нейросети более стабильным и позволяет брать learning rate больше, что мы и сделаем."
      ],
      "metadata": {
        "id": "zHQwYa0EJVTa"
      },
      "id": "zHQwYa0EJVTa"
    },
    {
      "cell_type": "code",
      "source": [
        "params = {\n",
        "    \"lr\": [0.001, 0.002, 0.004, 0.006, 0.01, 0.05],\n",
        "    \"kernel_sizes\": [3, 5, 7]\n",
        "}\n",
        "\n",
        "best_params = grid_search(**params)\n",
        "print(best_params)"
      ],
      "metadata": {
        "id": "OFBMaVw9FCcE",
        "colab": {
          "base_uri": "https://localhost:8080/"
        },
        "outputId": "b540e626-ccaa-4cf7-8277-9882971a220d"
      },
      "id": "OFBMaVw9FCcE",
      "execution_count": null,
      "outputs": [
        {
          "output_type": "stream",
          "name": "stdout",
          "text": [
            "learning_rate= 0.001 kernel_size= 3\n"
          ]
        },
        {
          "output_type": "stream",
          "name": "stderr",
          "text": [
            "epoch:   7%|▋         | 1/15 [00:16<03:48, 16.33s/it]"
          ]
        },
        {
          "output_type": "stream",
          "name": "stdout",
          "text": [
            "\n",
            "Epoch 001 train_loss: 3.0620     val_loss 2.2351 train_acc 0.1708 val_acc 0.4078 val_acc_top3 0.4078\n"
          ]
        },
        {
          "output_type": "stream",
          "name": "stderr",
          "text": [
            "epoch:  13%|█▎        | 2/15 [00:30<03:18, 15.27s/it]"
          ]
        },
        {
          "output_type": "stream",
          "name": "stdout",
          "text": [
            "\n",
            "Epoch 002 train_loss: 2.2407     val_loss 1.9042 train_acc 0.3750 val_acc 0.5140 val_acc_top3 0.5140\n"
          ]
        },
        {
          "output_type": "stream",
          "name": "stderr",
          "text": [
            "epoch:  20%|██        | 3/15 [00:45<02:58, 14.87s/it]"
          ]
        },
        {
          "output_type": "stream",
          "name": "stdout",
          "text": [
            "\n",
            "Epoch 003 train_loss: 1.7806     val_loss 1.6348 train_acc 0.4809 val_acc 0.5475 val_acc_top3 0.5475\n"
          ]
        },
        {
          "output_type": "stream",
          "name": "stderr",
          "text": [
            "epoch:  27%|██▋       | 4/15 [00:59<02:41, 14.68s/it]"
          ]
        },
        {
          "output_type": "stream",
          "name": "stdout",
          "text": [
            "\n",
            "Epoch 004 train_loss: 1.5090     val_loss 1.4837 train_acc 0.5683 val_acc 0.5698 val_acc_top3 0.5698\n"
          ]
        },
        {
          "output_type": "stream",
          "name": "stderr",
          "text": [
            "epoch:  33%|███▎      | 5/15 [01:15<02:30, 15.00s/it]"
          ]
        },
        {
          "output_type": "stream",
          "name": "stdout",
          "text": [
            "\n",
            "Epoch 005 train_loss: 1.2842     val_loss 1.4538 train_acc 0.6247 val_acc 0.5810 val_acc_top3 0.5810\n"
          ]
        },
        {
          "output_type": "stream",
          "name": "stderr",
          "text": [
            "epoch:  40%|████      | 6/15 [01:30<02:15, 15.08s/it]"
          ]
        },
        {
          "output_type": "stream",
          "name": "stdout",
          "text": [
            "\n",
            "Epoch 006 train_loss: 1.0992     val_loss 1.3449 train_acc 0.6765 val_acc 0.6201 val_acc_top3 0.6201\n"
          ]
        },
        {
          "output_type": "stream",
          "name": "stderr",
          "text": [
            "epoch:  47%|████▋     | 7/15 [01:46<02:02, 15.28s/it]"
          ]
        },
        {
          "output_type": "stream",
          "name": "stdout",
          "text": [
            "\n",
            "Epoch 007 train_loss: 1.0215     val_loss 1.3966 train_acc 0.7038 val_acc 0.6034 val_acc_top3 0.6034\n"
          ]
        },
        {
          "output_type": "stream",
          "name": "stderr",
          "text": [
            "epoch:  53%|█████▎    | 8/15 [02:01<01:46, 15.22s/it]"
          ]
        },
        {
          "output_type": "stream",
          "name": "stdout",
          "text": [
            "\n",
            "Epoch 008 train_loss: 0.9114     val_loss 1.3165 train_acc 0.7332 val_acc 0.6034 val_acc_top3 0.6034\n"
          ]
        },
        {
          "output_type": "stream",
          "name": "stderr",
          "text": [
            "epoch:  60%|██████    | 9/15 [02:15<01:30, 15.02s/it]"
          ]
        },
        {
          "output_type": "stream",
          "name": "stdout",
          "text": [
            "\n",
            "Epoch 009 train_loss: 0.7703     val_loss 1.3438 train_acc 0.7767 val_acc 0.6145 val_acc_top3 0.6145\n"
          ]
        },
        {
          "output_type": "stream",
          "name": "stderr",
          "text": [
            "epoch:  67%|██████▋   | 10/15 [02:30<01:14, 14.90s/it]"
          ]
        },
        {
          "output_type": "stream",
          "name": "stdout",
          "text": [
            "\n",
            "Epoch 010 train_loss: 0.6959     val_loss 1.3168 train_acc 0.7968 val_acc 0.6201 val_acc_top3 0.6201\n"
          ]
        },
        {
          "output_type": "stream",
          "name": "stderr",
          "text": [
            "epoch:  73%|███████▎  | 11/15 [02:45<01:00, 15.05s/it]"
          ]
        },
        {
          "output_type": "stream",
          "name": "stdout",
          "text": [
            "\n",
            "Epoch 011 train_loss: 0.6267     val_loss 1.3841 train_acc 0.8156 val_acc 0.5922 val_acc_top3 0.5922\n"
          ]
        },
        {
          "output_type": "stream",
          "name": "stderr",
          "text": [
            "epoch:  80%|████████  | 12/15 [03:00<00:44, 14.89s/it]"
          ]
        },
        {
          "output_type": "stream",
          "name": "stdout",
          "text": [
            "\n",
            "Epoch 012 train_loss: 0.5724     val_loss 1.3651 train_acc 0.8400 val_acc 0.5922 val_acc_top3 0.5922\n"
          ]
        },
        {
          "output_type": "stream",
          "name": "stderr",
          "text": [
            "epoch:  87%|████████▋ | 13/15 [03:14<00:29, 14.79s/it]"
          ]
        },
        {
          "output_type": "stream",
          "name": "stdout",
          "text": [
            "\n",
            "Epoch 013 train_loss: 0.5147     val_loss 1.3489 train_acc 0.8453 val_acc 0.5978 val_acc_top3 0.5978\n"
          ]
        },
        {
          "output_type": "stream",
          "name": "stderr",
          "text": [
            "epoch:  93%|█████████▎| 14/15 [03:29<00:14, 14.76s/it]"
          ]
        },
        {
          "output_type": "stream",
          "name": "stdout",
          "text": [
            "\n",
            "Epoch 014 train_loss: 0.4979     val_loss 1.3725 train_acc 0.8503 val_acc 0.6034 val_acc_top3 0.6034\n"
          ]
        },
        {
          "output_type": "stream",
          "name": "stderr",
          "text": [
            "epoch: 100%|██████████| 15/15 [03:44<00:00, 14.99s/it]\n"
          ]
        },
        {
          "output_type": "stream",
          "name": "stdout",
          "text": [
            "\n",
            "Epoch 015 train_loss: 0.4355     val_loss 1.4375 train_acc 0.8740 val_acc 0.5922 val_acc_top3 0.5922\n",
            "result: 0.5921787709497207\n",
            "learning_rate= 0.001 kernel_size= 5\n"
          ]
        },
        {
          "output_type": "stream",
          "name": "stderr",
          "text": [
            "epoch:   7%|▋         | 1/15 [00:17<04:03, 17.37s/it]"
          ]
        },
        {
          "output_type": "stream",
          "name": "stdout",
          "text": [
            "\n",
            "Epoch 001 train_loss: 3.1229     val_loss 2.3931 train_acc 0.1544 val_acc 0.3855 val_acc_top3 0.3855\n"
          ]
        },
        {
          "output_type": "stream",
          "name": "stderr",
          "text": [
            "epoch:  13%|█▎        | 2/15 [00:33<03:33, 16.46s/it]"
          ]
        },
        {
          "output_type": "stream",
          "name": "stdout",
          "text": [
            "\n",
            "Epoch 002 train_loss: 2.3478     val_loss 1.9620 train_acc 0.3318 val_acc 0.4358 val_acc_top3 0.4358\n"
          ]
        },
        {
          "output_type": "stream",
          "name": "stderr",
          "text": [
            "epoch:  20%|██        | 3/15 [00:49<03:15, 16.28s/it]"
          ]
        },
        {
          "output_type": "stream",
          "name": "stdout",
          "text": [
            "\n",
            "Epoch 003 train_loss: 1.8708     val_loss 1.8101 train_acc 0.4631 val_acc 0.4693 val_acc_top3 0.4693\n"
          ]
        },
        {
          "output_type": "stream",
          "name": "stderr",
          "text": [
            "epoch:  27%|██▋       | 4/15 [01:05<03:00, 16.43s/it]"
          ]
        },
        {
          "output_type": "stream",
          "name": "stdout",
          "text": [
            "\n",
            "Epoch 004 train_loss: 1.6522     val_loss 1.6673 train_acc 0.5228 val_acc 0.4972 val_acc_top3 0.4972\n"
          ]
        },
        {
          "output_type": "stream",
          "name": "stderr",
          "text": [
            "epoch:  33%|███▎      | 5/15 [01:21<02:42, 16.26s/it]"
          ]
        },
        {
          "output_type": "stream",
          "name": "stdout",
          "text": [
            "\n",
            "Epoch 005 train_loss: 1.4185     val_loss 1.6412 train_acc 0.5923 val_acc 0.5140 val_acc_top3 0.5140\n"
          ]
        },
        {
          "output_type": "stream",
          "name": "stderr",
          "text": [
            "epoch:  40%|████      | 6/15 [01:37<02:25, 16.16s/it]"
          ]
        },
        {
          "output_type": "stream",
          "name": "stdout",
          "text": [
            "\n",
            "Epoch 006 train_loss: 1.2795     val_loss 1.5492 train_acc 0.6276 val_acc 0.5251 val_acc_top3 0.5251\n"
          ]
        },
        {
          "output_type": "stream",
          "name": "stderr",
          "text": [
            "epoch:  47%|████▋     | 7/15 [01:54<02:09, 16.17s/it]"
          ]
        },
        {
          "output_type": "stream",
          "name": "stdout",
          "text": [
            "\n",
            "Epoch 007 train_loss: 1.1037     val_loss 1.5229 train_acc 0.6781 val_acc 0.5754 val_acc_top3 0.5754\n"
          ]
        },
        {
          "output_type": "stream",
          "name": "stderr",
          "text": [
            "epoch:  53%|█████▎    | 8/15 [02:10<01:54, 16.32s/it]"
          ]
        },
        {
          "output_type": "stream",
          "name": "stdout",
          "text": [
            "\n",
            "Epoch 008 train_loss: 1.0211     val_loss 1.5463 train_acc 0.6890 val_acc 0.5698 val_acc_top3 0.5698\n"
          ]
        },
        {
          "output_type": "stream",
          "name": "stderr",
          "text": [
            "epoch:  60%|██████    | 9/15 [02:26<01:37, 16.17s/it]"
          ]
        },
        {
          "output_type": "stream",
          "name": "stdout",
          "text": [
            "\n",
            "Epoch 009 train_loss: 0.9280     val_loss 1.4665 train_acc 0.7365 val_acc 0.5642 val_acc_top3 0.5642\n"
          ]
        },
        {
          "output_type": "stream",
          "name": "stderr",
          "text": [
            "epoch:  67%|██████▋   | 10/15 [02:41<01:19, 15.93s/it]"
          ]
        },
        {
          "output_type": "stream",
          "name": "stdout",
          "text": [
            "\n",
            "Epoch 010 train_loss: 0.8095     val_loss 1.4871 train_acc 0.7586 val_acc 0.5363 val_acc_top3 0.5363\n"
          ]
        },
        {
          "output_type": "stream",
          "name": "stderr",
          "text": [
            "epoch:  73%|███████▎  | 11/15 [02:57<01:03, 15.80s/it]"
          ]
        },
        {
          "output_type": "stream",
          "name": "stdout",
          "text": [
            "\n",
            "Epoch 011 train_loss: 0.7191     val_loss 1.4475 train_acc 0.7916 val_acc 0.5475 val_acc_top3 0.5475\n"
          ]
        },
        {
          "output_type": "stream",
          "name": "stderr",
          "text": [
            "epoch:  80%|████████  | 12/15 [03:13<00:47, 15.98s/it]"
          ]
        },
        {
          "output_type": "stream",
          "name": "stdout",
          "text": [
            "\n",
            "Epoch 012 train_loss: 0.6549     val_loss 1.4697 train_acc 0.8090 val_acc 0.5866 val_acc_top3 0.5866\n"
          ]
        },
        {
          "output_type": "stream",
          "name": "stderr",
          "text": [
            "epoch:  87%|████████▋ | 13/15 [03:28<00:31, 15.70s/it]"
          ]
        },
        {
          "output_type": "stream",
          "name": "stdout",
          "text": [
            "\n",
            "Epoch 013 train_loss: 0.6233     val_loss 1.4832 train_acc 0.8137 val_acc 0.5698 val_acc_top3 0.5698\n"
          ]
        },
        {
          "output_type": "stream",
          "name": "stderr",
          "text": [
            "epoch:  93%|█████████▎| 14/15 [03:44<00:15, 15.56s/it]"
          ]
        },
        {
          "output_type": "stream",
          "name": "stdout",
          "text": [
            "\n",
            "Epoch 014 train_loss: 0.5526     val_loss 1.5155 train_acc 0.8397 val_acc 0.5363 val_acc_top3 0.5363\n"
          ]
        },
        {
          "output_type": "stream",
          "name": "stderr",
          "text": [
            "epoch: 100%|██████████| 15/15 [03:59<00:00, 15.96s/it]\n"
          ]
        },
        {
          "output_type": "stream",
          "name": "stdout",
          "text": [
            "\n",
            "Epoch 015 train_loss: 0.5092     val_loss 1.4282 train_acc 0.8536 val_acc 0.5698 val_acc_top3 0.5698\n",
            "result: 0.5698324022346369\n",
            "learning_rate= 0.001 kernel_size= 7\n"
          ]
        },
        {
          "output_type": "stream",
          "name": "stderr",
          "text": [
            "epoch:   7%|▋         | 1/15 [00:16<03:49, 16.38s/it]"
          ]
        },
        {
          "output_type": "stream",
          "name": "stdout",
          "text": [
            "\n",
            "Epoch 001 train_loss: 3.1851     val_loss 2.5219 train_acc 0.1474 val_acc 0.3575 val_acc_top3 0.3575\n"
          ]
        },
        {
          "output_type": "stream",
          "name": "stderr",
          "text": [
            "epoch:  13%|█▎        | 2/15 [00:31<03:26, 15.90s/it]"
          ]
        },
        {
          "output_type": "stream",
          "name": "stdout",
          "text": [
            "\n",
            "Epoch 002 train_loss: 2.4317     val_loss 1.9872 train_acc 0.3176 val_acc 0.4637 val_acc_top3 0.4637\n"
          ]
        },
        {
          "output_type": "stream",
          "name": "stderr",
          "text": [
            "epoch:  20%|██        | 3/15 [00:47<03:10, 15.84s/it]"
          ]
        },
        {
          "output_type": "stream",
          "name": "stdout",
          "text": [
            "\n",
            "Epoch 003 train_loss: 2.0192     val_loss 1.7856 train_acc 0.4192 val_acc 0.4972 val_acc_top3 0.4972\n"
          ]
        },
        {
          "output_type": "stream",
          "name": "stderr",
          "text": [
            "epoch:  27%|██▋       | 4/15 [01:04<02:56, 16.03s/it]"
          ]
        },
        {
          "output_type": "stream",
          "name": "stdout",
          "text": [
            "\n",
            "Epoch 004 train_loss: 1.7010     val_loss 1.6576 train_acc 0.5082 val_acc 0.5419 val_acc_top3 0.5419\n"
          ]
        },
        {
          "output_type": "stream",
          "name": "stderr",
          "text": [
            "epoch:  33%|███▎      | 5/15 [01:19<02:40, 16.00s/it]"
          ]
        },
        {
          "output_type": "stream",
          "name": "stdout",
          "text": [
            "\n",
            "Epoch 005 train_loss: 1.4580     val_loss 1.5019 train_acc 0.5719 val_acc 0.5419 val_acc_top3 0.5419\n"
          ]
        },
        {
          "output_type": "stream",
          "name": "stderr",
          "text": [
            "epoch:  40%|████      | 6/15 [01:35<02:22, 15.85s/it]"
          ]
        },
        {
          "output_type": "stream",
          "name": "stdout",
          "text": [
            "\n",
            "Epoch 006 train_loss: 1.2713     val_loss 1.4651 train_acc 0.6263 val_acc 0.5866 val_acc_top3 0.5866\n"
          ]
        },
        {
          "output_type": "stream",
          "name": "stderr",
          "text": [
            "epoch:  47%|████▋     | 7/15 [01:51<02:06, 15.80s/it]"
          ]
        },
        {
          "output_type": "stream",
          "name": "stdout",
          "text": [
            "\n",
            "Epoch 007 train_loss: 1.1436     val_loss 1.3896 train_acc 0.6596 val_acc 0.5922 val_acc_top3 0.5922\n"
          ]
        },
        {
          "output_type": "stream",
          "name": "stderr",
          "text": [
            "epoch:  53%|█████▎    | 8/15 [02:08<01:53, 16.24s/it]"
          ]
        },
        {
          "output_type": "stream",
          "name": "stdout",
          "text": [
            "\n",
            "Epoch 008 train_loss: 0.9928     val_loss 1.3763 train_acc 0.6976 val_acc 0.6034 val_acc_top3 0.6034\n"
          ]
        },
        {
          "output_type": "stream",
          "name": "stderr",
          "text": [
            "epoch:  60%|██████    | 9/15 [02:24<01:36, 16.04s/it]"
          ]
        },
        {
          "output_type": "stream",
          "name": "stdout",
          "text": [
            "\n",
            "Epoch 009 train_loss: 0.8844     val_loss 1.3621 train_acc 0.7365 val_acc 0.5475 val_acc_top3 0.5475\n"
          ]
        },
        {
          "output_type": "stream",
          "name": "stderr",
          "text": [
            "epoch:  67%|██████▋   | 10/15 [02:39<01:19, 15.91s/it]"
          ]
        },
        {
          "output_type": "stream",
          "name": "stdout",
          "text": [
            "\n",
            "Epoch 010 train_loss: 0.8436     val_loss 1.3012 train_acc 0.7454 val_acc 0.6034 val_acc_top3 0.6034\n"
          ]
        },
        {
          "output_type": "stream",
          "name": "stderr",
          "text": [
            "epoch:  73%|███████▎  | 11/15 [02:55<01:03, 15.90s/it]"
          ]
        },
        {
          "output_type": "stream",
          "name": "stdout",
          "text": [
            "\n",
            "Epoch 011 train_loss: 0.7229     val_loss 1.3238 train_acc 0.7879 val_acc 0.5978 val_acc_top3 0.5978\n"
          ]
        },
        {
          "output_type": "stream",
          "name": "stderr",
          "text": [
            "epoch:  80%|████████  | 12/15 [03:11<00:48, 16.01s/it]"
          ]
        },
        {
          "output_type": "stream",
          "name": "stdout",
          "text": [
            "\n",
            "Epoch 012 train_loss: 0.6478     val_loss 1.3082 train_acc 0.8028 val_acc 0.5922 val_acc_top3 0.5922\n"
          ]
        },
        {
          "output_type": "stream",
          "name": "stderr",
          "text": [
            "epoch:  87%|████████▋ | 13/15 [03:27<00:31, 15.86s/it]"
          ]
        },
        {
          "output_type": "stream",
          "name": "stdout",
          "text": [
            "\n",
            "Epoch 013 train_loss: 0.6027     val_loss 1.2944 train_acc 0.8262 val_acc 0.6145 val_acc_top3 0.6145\n"
          ]
        },
        {
          "output_type": "stream",
          "name": "stderr",
          "text": [
            "epoch:  93%|█████████▎| 14/15 [03:43<00:15, 15.83s/it]"
          ]
        },
        {
          "output_type": "stream",
          "name": "stdout",
          "text": [
            "\n",
            "Epoch 014 train_loss: 0.5409     val_loss 1.3441 train_acc 0.8466 val_acc 0.5866 val_acc_top3 0.5866\n"
          ]
        },
        {
          "output_type": "stream",
          "name": "stderr",
          "text": [
            "epoch: 100%|██████████| 15/15 [03:59<00:00, 15.96s/it]\n"
          ]
        },
        {
          "output_type": "stream",
          "name": "stdout",
          "text": [
            "\n",
            "Epoch 015 train_loss: 0.5196     val_loss 1.3364 train_acc 0.8433 val_acc 0.5754 val_acc_top3 0.5754\n",
            "result: 0.5754189944134078\n",
            "learning_rate= 0.002 kernel_size= 3\n"
          ]
        },
        {
          "output_type": "stream",
          "name": "stderr",
          "text": [
            "epoch:   7%|▋         | 1/15 [00:14<03:16, 14.02s/it]"
          ]
        },
        {
          "output_type": "stream",
          "name": "stdout",
          "text": [
            "\n",
            "Epoch 001 train_loss: 3.0940     val_loss 2.1433 train_acc 0.1824 val_acc 0.3520 val_acc_top3 0.3520\n"
          ]
        },
        {
          "output_type": "stream",
          "name": "stderr",
          "text": [
            "epoch:  13%|█▎        | 2/15 [00:27<02:59, 13.79s/it]"
          ]
        },
        {
          "output_type": "stream",
          "name": "stdout",
          "text": [
            "\n",
            "Epoch 002 train_loss: 2.2020     val_loss 1.8197 train_acc 0.3582 val_acc 0.4637 val_acc_top3 0.4637\n"
          ]
        },
        {
          "output_type": "stream",
          "name": "stderr",
          "text": [
            "epoch:  20%|██        | 3/15 [00:41<02:45, 13.78s/it]"
          ]
        },
        {
          "output_type": "stream",
          "name": "stdout",
          "text": [
            "\n",
            "Epoch 003 train_loss: 1.7798     val_loss 1.6754 train_acc 0.4763 val_acc 0.5196 val_acc_top3 0.5196\n"
          ]
        },
        {
          "output_type": "stream",
          "name": "stderr",
          "text": [
            "epoch:  27%|██▋       | 4/15 [00:56<02:35, 14.10s/it]"
          ]
        },
        {
          "output_type": "stream",
          "name": "stdout",
          "text": [
            "\n",
            "Epoch 004 train_loss: 1.5175     val_loss 1.5958 train_acc 0.5409 val_acc 0.4972 val_acc_top3 0.4972\n"
          ]
        },
        {
          "output_type": "stream",
          "name": "stderr",
          "text": [
            "epoch:  33%|███▎      | 5/15 [01:09<02:20, 14.01s/it]"
          ]
        },
        {
          "output_type": "stream",
          "name": "stdout",
          "text": [
            "\n",
            "Epoch 005 train_loss: 1.2981     val_loss 1.4808 train_acc 0.6029 val_acc 0.5698 val_acc_top3 0.5698\n"
          ]
        },
        {
          "output_type": "stream",
          "name": "stderr",
          "text": [
            "epoch:  40%|████      | 6/15 [01:23<02:04, 13.86s/it]"
          ]
        },
        {
          "output_type": "stream",
          "name": "stdout",
          "text": [
            "\n",
            "Epoch 006 train_loss: 1.1024     val_loss 1.4452 train_acc 0.6600 val_acc 0.5754 val_acc_top3 0.5754\n"
          ]
        },
        {
          "output_type": "stream",
          "name": "stderr",
          "text": [
            "epoch:  47%|████▋     | 7/15 [01:37<01:50, 13.80s/it]"
          ]
        },
        {
          "output_type": "stream",
          "name": "stdout",
          "text": [
            "\n",
            "Epoch 007 train_loss: 0.9478     val_loss 1.5354 train_acc 0.7061 val_acc 0.5307 val_acc_top3 0.5307\n"
          ]
        },
        {
          "output_type": "stream",
          "name": "stderr",
          "text": [
            "epoch:  53%|█████▎    | 8/15 [01:50<01:36, 13.83s/it]"
          ]
        },
        {
          "output_type": "stream",
          "name": "stdout",
          "text": [
            "\n",
            "Epoch 008 train_loss: 0.8478     val_loss 1.4404 train_acc 0.7342 val_acc 0.5698 val_acc_top3 0.5698\n"
          ]
        },
        {
          "output_type": "stream",
          "name": "stderr",
          "text": [
            "epoch:  60%|██████    | 9/15 [02:05<01:24, 14.01s/it]"
          ]
        },
        {
          "output_type": "stream",
          "name": "stdout",
          "text": [
            "\n",
            "Epoch 009 train_loss: 0.7570     val_loss 1.5158 train_acc 0.7582 val_acc 0.5475 val_acc_top3 0.5475\n"
          ]
        },
        {
          "output_type": "stream",
          "name": "stderr",
          "text": [
            "epoch:  67%|██████▋   | 10/15 [02:19<01:10, 14.08s/it]"
          ]
        },
        {
          "output_type": "stream",
          "name": "stdout",
          "text": [
            "\n",
            "Epoch 010 train_loss: 0.6463     val_loss 1.3607 train_acc 0.7892 val_acc 0.5866 val_acc_top3 0.5866\n"
          ]
        },
        {
          "output_type": "stream",
          "name": "stderr",
          "text": [
            "epoch:  73%|███████▎  | 11/15 [02:33<00:55, 13.99s/it]"
          ]
        },
        {
          "output_type": "stream",
          "name": "stdout",
          "text": [
            "\n",
            "Epoch 011 train_loss: 0.5991     val_loss 1.4713 train_acc 0.8173 val_acc 0.5866 val_acc_top3 0.5866\n"
          ]
        },
        {
          "output_type": "stream",
          "name": "stderr",
          "text": [
            "epoch:  80%|████████  | 12/15 [02:47<00:41, 13.91s/it]"
          ]
        },
        {
          "output_type": "stream",
          "name": "stdout",
          "text": [
            "\n",
            "Epoch 012 train_loss: 0.5687     val_loss 1.4874 train_acc 0.8146 val_acc 0.5866 val_acc_top3 0.5866\n"
          ]
        },
        {
          "output_type": "stream",
          "name": "stderr",
          "text": [
            "epoch:  87%|████████▋ | 13/15 [03:00<00:27, 13.86s/it]"
          ]
        },
        {
          "output_type": "stream",
          "name": "stdout",
          "text": [
            "\n",
            "Epoch 013 train_loss: 0.4705     val_loss 1.4103 train_acc 0.8503 val_acc 0.6034 val_acc_top3 0.6034\n"
          ]
        },
        {
          "output_type": "stream",
          "name": "stderr",
          "text": [
            "epoch:  93%|█████████▎| 14/15 [03:14<00:13, 13.87s/it]"
          ]
        },
        {
          "output_type": "stream",
          "name": "stdout",
          "text": [
            "\n",
            "Epoch 014 train_loss: 0.3963     val_loss 1.3776 train_acc 0.8813 val_acc 0.6145 val_acc_top3 0.6145\n"
          ]
        },
        {
          "output_type": "stream",
          "name": "stderr",
          "text": [
            "epoch: 100%|██████████| 15/15 [03:29<00:00, 13.95s/it]\n"
          ]
        },
        {
          "output_type": "stream",
          "name": "stdout",
          "text": [
            "\n",
            "Epoch 015 train_loss: 0.3670     val_loss 1.4475 train_acc 0.8912 val_acc 0.5922 val_acc_top3 0.5922\n",
            "result: 0.5921787709497207\n",
            "learning_rate= 0.002 kernel_size= 5\n"
          ]
        },
        {
          "output_type": "stream",
          "name": "stderr",
          "text": [
            "epoch:   7%|▋         | 1/15 [00:16<03:50, 16.48s/it]"
          ]
        },
        {
          "output_type": "stream",
          "name": "stdout",
          "text": [
            "\n",
            "Epoch 001 train_loss: 3.1245     val_loss 2.2750 train_acc 0.1639 val_acc 0.3520 val_acc_top3 0.3520\n"
          ]
        },
        {
          "output_type": "stream",
          "name": "stderr",
          "text": [
            "epoch:  13%|█▎        | 2/15 [00:33<03:37, 16.75s/it]"
          ]
        },
        {
          "output_type": "stream",
          "name": "stdout",
          "text": [
            "\n",
            "Epoch 002 train_loss: 2.2652     val_loss 1.9058 train_acc 0.3496 val_acc 0.4749 val_acc_top3 0.4749\n"
          ]
        },
        {
          "output_type": "stream",
          "name": "stderr",
          "text": [
            "epoch:  20%|██        | 3/15 [00:49<03:18, 16.53s/it]"
          ]
        },
        {
          "output_type": "stream",
          "name": "stdout",
          "text": [
            "\n",
            "Epoch 003 train_loss: 1.8957     val_loss 1.6811 train_acc 0.4499 val_acc 0.5307 val_acc_top3 0.5307\n"
          ]
        },
        {
          "output_type": "stream",
          "name": "stderr",
          "text": [
            "epoch:  27%|██▋       | 4/15 [01:05<02:59, 16.35s/it]"
          ]
        },
        {
          "output_type": "stream",
          "name": "stdout",
          "text": [
            "\n",
            "Epoch 004 train_loss: 1.6148     val_loss 1.6598 train_acc 0.5148 val_acc 0.4916 val_acc_top3 0.4916\n"
          ]
        },
        {
          "output_type": "stream",
          "name": "stderr",
          "text": [
            "epoch:  33%|███▎      | 5/15 [01:22<02:44, 16.48s/it]"
          ]
        },
        {
          "output_type": "stream",
          "name": "stdout",
          "text": [
            "\n",
            "Epoch 005 train_loss: 1.3855     val_loss 1.4709 train_acc 0.5907 val_acc 0.5642 val_acc_top3 0.5642\n"
          ]
        },
        {
          "output_type": "stream",
          "name": "stderr",
          "text": [
            "epoch:  40%|████      | 6/15 [01:38<02:27, 16.38s/it]"
          ]
        },
        {
          "output_type": "stream",
          "name": "stdout",
          "text": [
            "\n",
            "Epoch 006 train_loss: 1.2204     val_loss 1.6031 train_acc 0.6164 val_acc 0.5698 val_acc_top3 0.5698\n"
          ]
        },
        {
          "output_type": "stream",
          "name": "stderr",
          "text": [
            "epoch:  47%|████▋     | 7/15 [01:54<02:10, 16.29s/it]"
          ]
        },
        {
          "output_type": "stream",
          "name": "stdout",
          "text": [
            "\n",
            "Epoch 007 train_loss: 1.1028     val_loss 1.4626 train_acc 0.6567 val_acc 0.5754 val_acc_top3 0.5754\n"
          ]
        },
        {
          "output_type": "stream",
          "name": "stderr",
          "text": [
            "epoch:  53%|█████▎    | 8/15 [02:11<01:54, 16.35s/it]"
          ]
        },
        {
          "output_type": "stream",
          "name": "stdout",
          "text": [
            "\n",
            "Epoch 008 train_loss: 0.9821     val_loss 1.3703 train_acc 0.6920 val_acc 0.6034 val_acc_top3 0.6034\n"
          ]
        },
        {
          "output_type": "stream",
          "name": "stderr",
          "text": [
            "epoch:  60%|██████    | 9/15 [02:27<01:38, 16.35s/it]"
          ]
        },
        {
          "output_type": "stream",
          "name": "stdout",
          "text": [
            "\n",
            "Epoch 009 train_loss: 0.8377     val_loss 1.3300 train_acc 0.7328 val_acc 0.6034 val_acc_top3 0.6034\n"
          ]
        },
        {
          "output_type": "stream",
          "name": "stderr",
          "text": [
            "epoch:  67%|██████▋   | 10/15 [02:43<01:21, 16.30s/it]"
          ]
        },
        {
          "output_type": "stream",
          "name": "stdout",
          "text": [
            "\n",
            "Epoch 010 train_loss: 0.7695     val_loss 1.3742 train_acc 0.7599 val_acc 0.6145 val_acc_top3 0.6145\n"
          ]
        },
        {
          "output_type": "stream",
          "name": "stderr",
          "text": [
            "epoch:  73%|███████▎  | 11/15 [02:59<01:04, 16.24s/it]"
          ]
        },
        {
          "output_type": "stream",
          "name": "stdout",
          "text": [
            "\n",
            "Epoch 011 train_loss: 0.6754     val_loss 1.4123 train_acc 0.7810 val_acc 0.6089 val_acc_top3 0.6089\n"
          ]
        },
        {
          "output_type": "stream",
          "name": "stderr",
          "text": [
            "epoch:  80%|████████  | 12/15 [03:17<00:49, 16.58s/it]"
          ]
        },
        {
          "output_type": "stream",
          "name": "stdout",
          "text": [
            "\n",
            "Epoch 012 train_loss: 0.6102     val_loss 1.4221 train_acc 0.8018 val_acc 0.5698 val_acc_top3 0.5698\n"
          ]
        },
        {
          "output_type": "stream",
          "name": "stderr",
          "text": [
            "epoch:  87%|████████▋ | 13/15 [03:33<00:32, 16.45s/it]"
          ]
        },
        {
          "output_type": "stream",
          "name": "stdout",
          "text": [
            "\n",
            "Epoch 013 train_loss: 0.5983     val_loss 1.4243 train_acc 0.8176 val_acc 0.6089 val_acc_top3 0.6089\n"
          ]
        },
        {
          "output_type": "stream",
          "name": "stderr",
          "text": [
            "epoch:  93%|█████████▎| 14/15 [03:49<00:16, 16.35s/it]"
          ]
        },
        {
          "output_type": "stream",
          "name": "stdout",
          "text": [
            "\n",
            "Epoch 014 train_loss: 0.5316     val_loss 1.4270 train_acc 0.8341 val_acc 0.6313 val_acc_top3 0.6313\n"
          ]
        },
        {
          "output_type": "stream",
          "name": "stderr",
          "text": [
            "epoch: 100%|██████████| 15/15 [04:06<00:00, 16.43s/it]\n"
          ]
        },
        {
          "output_type": "stream",
          "name": "stdout",
          "text": [
            "\n",
            "Epoch 015 train_loss: 0.4904     val_loss 1.4509 train_acc 0.8433 val_acc 0.6425 val_acc_top3 0.6425\n",
            "result: 0.6424581005586593\n",
            "learning_rate= 0.002 kernel_size= 7\n"
          ]
        },
        {
          "output_type": "stream",
          "name": "stderr",
          "text": [
            "epoch:   7%|▋         | 1/15 [00:16<03:51, 16.57s/it]"
          ]
        },
        {
          "output_type": "stream",
          "name": "stdout",
          "text": [
            "\n",
            "Epoch 001 train_loss: 3.1914     val_loss 2.2816 train_acc 0.1553 val_acc 0.4078 val_acc_top3 0.4078\n"
          ]
        },
        {
          "output_type": "stream",
          "name": "stderr",
          "text": [
            "epoch:  13%|█▎        | 2/15 [00:33<03:36, 16.65s/it]"
          ]
        },
        {
          "output_type": "stream",
          "name": "stdout",
          "text": [
            "\n",
            "Epoch 002 train_loss: 2.3247     val_loss 1.9123 train_acc 0.3417 val_acc 0.4190 val_acc_top3 0.4190\n"
          ]
        },
        {
          "output_type": "stream",
          "name": "stderr",
          "text": [
            "epoch:  20%|██        | 3/15 [00:50<03:23, 16.99s/it]"
          ]
        },
        {
          "output_type": "stream",
          "name": "stdout",
          "text": [
            "\n",
            "Epoch 003 train_loss: 1.8974     val_loss 1.6602 train_acc 0.4426 val_acc 0.4637 val_acc_top3 0.4637\n"
          ]
        },
        {
          "output_type": "stream",
          "name": "stderr",
          "text": [
            "epoch:  27%|██▋       | 4/15 [01:07<03:04, 16.78s/it]"
          ]
        },
        {
          "output_type": "stream",
          "name": "stdout",
          "text": [
            "\n",
            "Epoch 004 train_loss: 1.5875     val_loss 1.6112 train_acc 0.5277 val_acc 0.5140 val_acc_top3 0.5140\n"
          ]
        },
        {
          "output_type": "stream",
          "name": "stderr",
          "text": [
            "epoch:  33%|███▎      | 5/15 [01:23<02:47, 16.70s/it]"
          ]
        },
        {
          "output_type": "stream",
          "name": "stdout",
          "text": [
            "\n",
            "Epoch 005 train_loss: 1.3713     val_loss 1.4907 train_acc 0.5858 val_acc 0.5196 val_acc_top3 0.5196\n"
          ]
        },
        {
          "output_type": "stream",
          "name": "stderr",
          "text": [
            "epoch:  40%|████      | 6/15 [01:41<02:32, 16.96s/it]"
          ]
        },
        {
          "output_type": "stream",
          "name": "stdout",
          "text": [
            "\n",
            "Epoch 006 train_loss: 1.1879     val_loss 1.3896 train_acc 0.6306 val_acc 0.5698 val_acc_top3 0.5698\n"
          ]
        },
        {
          "output_type": "stream",
          "name": "stderr",
          "text": [
            "epoch:  47%|████▋     | 7/15 [01:58<02:16, 17.08s/it]"
          ]
        },
        {
          "output_type": "stream",
          "name": "stdout",
          "text": [
            "\n",
            "Epoch 007 train_loss: 1.0289     val_loss 1.4586 train_acc 0.6817 val_acc 0.5810 val_acc_top3 0.5810\n"
          ]
        },
        {
          "output_type": "stream",
          "name": "stderr",
          "text": [
            "epoch:  53%|█████▎    | 8/15 [02:15<01:59, 17.03s/it]"
          ]
        },
        {
          "output_type": "stream",
          "name": "stdout",
          "text": [
            "\n",
            "Epoch 008 train_loss: 0.9434     val_loss 1.3010 train_acc 0.7048 val_acc 0.5810 val_acc_top3 0.5810\n"
          ]
        },
        {
          "output_type": "stream",
          "name": "stderr",
          "text": [
            "epoch:  60%|██████    | 9/15 [02:32<01:42, 17.03s/it]"
          ]
        },
        {
          "output_type": "stream",
          "name": "stdout",
          "text": [
            "\n",
            "Epoch 009 train_loss: 0.8282     val_loss 1.3840 train_acc 0.7375 val_acc 0.5754 val_acc_top3 0.5754\n"
          ]
        },
        {
          "output_type": "stream",
          "name": "stderr",
          "text": [
            "epoch:  67%|██████▋   | 10/15 [02:49<01:24, 16.91s/it]"
          ]
        },
        {
          "output_type": "stream",
          "name": "stdout",
          "text": [
            "\n",
            "Epoch 010 train_loss: 0.7537     val_loss 1.4400 train_acc 0.7672 val_acc 0.5419 val_acc_top3 0.5419\n"
          ]
        },
        {
          "output_type": "stream",
          "name": "stderr",
          "text": [
            "epoch:  73%|███████▎  | 11/15 [03:06<01:07, 16.96s/it]"
          ]
        },
        {
          "output_type": "stream",
          "name": "stdout",
          "text": [
            "\n",
            "Epoch 011 train_loss: 0.6606     val_loss 1.3324 train_acc 0.7902 val_acc 0.5978 val_acc_top3 0.5978\n"
          ]
        },
        {
          "output_type": "stream",
          "name": "stderr",
          "text": [
            "epoch:  80%|████████  | 12/15 [03:22<00:50, 16.91s/it]"
          ]
        },
        {
          "output_type": "stream",
          "name": "stdout",
          "text": [
            "\n",
            "Epoch 012 train_loss: 0.5739     val_loss 1.3645 train_acc 0.8203 val_acc 0.5698 val_acc_top3 0.5698\n"
          ]
        },
        {
          "output_type": "stream",
          "name": "stderr",
          "text": [
            "epoch:  87%|████████▋ | 13/15 [03:39<00:33, 16.86s/it]"
          ]
        },
        {
          "output_type": "stream",
          "name": "stdout",
          "text": [
            "\n",
            "Epoch 013 train_loss: 0.5228     val_loss 1.4285 train_acc 0.8298 val_acc 0.5978 val_acc_top3 0.5978\n"
          ]
        },
        {
          "output_type": "stream",
          "name": "stderr",
          "text": [
            "epoch:  93%|█████████▎| 14/15 [03:57<00:17, 17.03s/it]"
          ]
        },
        {
          "output_type": "stream",
          "name": "stdout",
          "text": [
            "\n",
            "Epoch 014 train_loss: 0.4996     val_loss 1.4464 train_acc 0.8377 val_acc 0.5978 val_acc_top3 0.5978\n"
          ]
        },
        {
          "output_type": "stream",
          "name": "stderr",
          "text": [
            "epoch: 100%|██████████| 15/15 [04:13<00:00, 16.91s/it]\n"
          ]
        },
        {
          "output_type": "stream",
          "name": "stdout",
          "text": [
            "\n",
            "Epoch 015 train_loss: 0.4451     val_loss 1.3862 train_acc 0.8592 val_acc 0.5866 val_acc_top3 0.5866\n",
            "result: 0.5865921787709497\n",
            "learning_rate= 0.004 kernel_size= 3\n"
          ]
        },
        {
          "output_type": "stream",
          "name": "stderr",
          "text": [
            "epoch:   7%|▋         | 1/15 [00:14<03:27, 14.80s/it]"
          ]
        },
        {
          "output_type": "stream",
          "name": "stdout",
          "text": [
            "\n",
            "Epoch 001 train_loss: 3.4846     val_loss 2.3623 train_acc 0.1445 val_acc 0.3073 val_acc_top3 0.3073\n"
          ]
        },
        {
          "output_type": "stream",
          "name": "stderr",
          "text": [
            "epoch:  13%|█▎        | 2/15 [00:30<03:18, 15.27s/it]"
          ]
        },
        {
          "output_type": "stream",
          "name": "stdout",
          "text": [
            "\n",
            "Epoch 002 train_loss: 2.4597     val_loss 2.0108 train_acc 0.3057 val_acc 0.4860 val_acc_top3 0.4860\n"
          ]
        },
        {
          "output_type": "stream",
          "name": "stderr",
          "text": [
            "epoch:  20%|██        | 3/15 [00:45<03:03, 15.31s/it]"
          ]
        },
        {
          "output_type": "stream",
          "name": "stdout",
          "text": [
            "\n",
            "Epoch 003 train_loss: 2.0274     val_loss 1.6804 train_acc 0.4142 val_acc 0.5587 val_acc_top3 0.5587\n"
          ]
        },
        {
          "output_type": "stream",
          "name": "stderr",
          "text": [
            "epoch:  27%|██▋       | 4/15 [01:00<02:46, 15.09s/it]"
          ]
        },
        {
          "output_type": "stream",
          "name": "stdout",
          "text": [
            "\n",
            "Epoch 004 train_loss: 1.6901     val_loss 1.6552 train_acc 0.5007 val_acc 0.4860 val_acc_top3 0.4860\n"
          ]
        },
        {
          "output_type": "stream",
          "name": "stderr",
          "text": [
            "epoch:  33%|███▎      | 5/15 [01:14<02:27, 14.73s/it]"
          ]
        },
        {
          "output_type": "stream",
          "name": "stdout",
          "text": [
            "\n",
            "Epoch 005 train_loss: 1.5001     val_loss 1.5083 train_acc 0.5478 val_acc 0.5531 val_acc_top3 0.5531\n"
          ]
        },
        {
          "output_type": "stream",
          "name": "stderr",
          "text": [
            "epoch:  40%|████      | 6/15 [01:28<02:10, 14.46s/it]"
          ]
        },
        {
          "output_type": "stream",
          "name": "stdout",
          "text": [
            "\n",
            "Epoch 006 train_loss: 1.3139     val_loss 1.4359 train_acc 0.6036 val_acc 0.6034 val_acc_top3 0.6034\n"
          ]
        },
        {
          "output_type": "stream",
          "name": "stderr",
          "text": [
            "epoch:  47%|████▋     | 7/15 [01:42<01:54, 14.33s/it]"
          ]
        },
        {
          "output_type": "stream",
          "name": "stdout",
          "text": [
            "\n",
            "Epoch 007 train_loss: 1.1521     val_loss 1.4066 train_acc 0.6428 val_acc 0.6034 val_acc_top3 0.6034\n"
          ]
        },
        {
          "output_type": "stream",
          "name": "stderr",
          "text": [
            "epoch:  53%|█████▎    | 8/15 [01:56<01:39, 14.18s/it]"
          ]
        },
        {
          "output_type": "stream",
          "name": "stdout",
          "text": [
            "\n",
            "Epoch 008 train_loss: 1.0200     val_loss 1.5440 train_acc 0.6761 val_acc 0.5922 val_acc_top3 0.5922\n"
          ]
        },
        {
          "output_type": "stream",
          "name": "stderr",
          "text": [
            "epoch:  60%|██████    | 9/15 [02:10<01:24, 14.08s/it]"
          ]
        },
        {
          "output_type": "stream",
          "name": "stdout",
          "text": [
            "\n",
            "Epoch 009 train_loss: 0.9126     val_loss 1.4250 train_acc 0.7134 val_acc 0.6369 val_acc_top3 0.6369\n"
          ]
        },
        {
          "output_type": "stream",
          "name": "stderr",
          "text": [
            "epoch:  67%|██████▋   | 10/15 [02:24<01:10, 14.05s/it]"
          ]
        },
        {
          "output_type": "stream",
          "name": "stdout",
          "text": [
            "\n",
            "Epoch 010 train_loss: 0.7873     val_loss 1.3832 train_acc 0.7464 val_acc 0.6369 val_acc_top3 0.6369\n"
          ]
        },
        {
          "output_type": "stream",
          "name": "stderr",
          "text": [
            "epoch:  73%|███████▎  | 11/15 [02:38<00:56, 14.16s/it]"
          ]
        },
        {
          "output_type": "stream",
          "name": "stdout",
          "text": [
            "\n",
            "Epoch 011 train_loss: 0.7246     val_loss 1.4375 train_acc 0.7704 val_acc 0.5978 val_acc_top3 0.5978\n"
          ]
        },
        {
          "output_type": "stream",
          "name": "stderr",
          "text": [
            "epoch:  80%|████████  | 12/15 [02:52<00:42, 14.14s/it]"
          ]
        },
        {
          "output_type": "stream",
          "name": "stdout",
          "text": [
            "\n",
            "Epoch 012 train_loss: 0.6852     val_loss 1.3568 train_acc 0.7823 val_acc 0.6089 val_acc_top3 0.6089\n"
          ]
        },
        {
          "output_type": "stream",
          "name": "stderr",
          "text": [
            "epoch:  87%|████████▋ | 13/15 [03:06<00:28, 14.06s/it]"
          ]
        },
        {
          "output_type": "stream",
          "name": "stdout",
          "text": [
            "\n",
            "Epoch 013 train_loss: 0.5778     val_loss 1.4590 train_acc 0.8130 val_acc 0.5922 val_acc_top3 0.5922\n"
          ]
        },
        {
          "output_type": "stream",
          "name": "stderr",
          "text": [
            "epoch:  93%|█████████▎| 14/15 [03:21<00:14, 14.25s/it]"
          ]
        },
        {
          "output_type": "stream",
          "name": "stdout",
          "text": [
            "\n",
            "Epoch 014 train_loss: 0.5213     val_loss 1.4803 train_acc 0.8328 val_acc 0.5698 val_acc_top3 0.5698\n"
          ]
        },
        {
          "output_type": "stream",
          "name": "stderr",
          "text": [
            "epoch: 100%|██████████| 15/15 [03:35<00:00, 14.35s/it]\n"
          ]
        },
        {
          "output_type": "stream",
          "name": "stdout",
          "text": [
            "\n",
            "Epoch 015 train_loss: 0.4910     val_loss 1.4852 train_acc 0.8400 val_acc 0.6145 val_acc_top3 0.6145\n",
            "result: 0.6145251396648045\n",
            "learning_rate= 0.004 kernel_size= 5\n"
          ]
        },
        {
          "output_type": "stream",
          "name": "stderr",
          "text": [
            "epoch:   7%|▋         | 1/15 [00:15<03:33, 15.24s/it]"
          ]
        },
        {
          "output_type": "stream",
          "name": "stdout",
          "text": [
            "\n",
            "Epoch 001 train_loss: 3.5091     val_loss 2.5180 train_acc 0.1280 val_acc 0.2793 val_acc_top3 0.2793\n"
          ]
        },
        {
          "output_type": "stream",
          "name": "stderr",
          "text": [
            "epoch:  13%|█▎        | 2/15 [00:30<03:21, 15.48s/it]"
          ]
        },
        {
          "output_type": "stream",
          "name": "stdout",
          "text": [
            "\n",
            "Epoch 002 train_loss: 2.6347     val_loss 1.9563 train_acc 0.2794 val_acc 0.4246 val_acc_top3 0.4246\n"
          ]
        },
        {
          "output_type": "stream",
          "name": "stderr",
          "text": [
            "epoch:  20%|██        | 3/15 [00:46<03:06, 15.57s/it]"
          ]
        },
        {
          "output_type": "stream",
          "name": "stdout",
          "text": [
            "\n",
            "Epoch 003 train_loss: 2.1251     val_loss 1.8014 train_acc 0.3809 val_acc 0.4749 val_acc_top3 0.4749\n"
          ]
        },
        {
          "output_type": "stream",
          "name": "stderr",
          "text": [
            "epoch:  27%|██▋       | 4/15 [01:01<02:50, 15.46s/it]"
          ]
        },
        {
          "output_type": "stream",
          "name": "stdout",
          "text": [
            "\n",
            "Epoch 004 train_loss: 1.8129     val_loss 1.7848 train_acc 0.4710 val_acc 0.4916 val_acc_top3 0.4916\n"
          ]
        },
        {
          "output_type": "stream",
          "name": "stderr",
          "text": [
            "epoch:  33%|███▎      | 5/15 [01:17<02:33, 15.36s/it]"
          ]
        },
        {
          "output_type": "stream",
          "name": "stdout",
          "text": [
            "\n",
            "Epoch 005 train_loss: 1.6045     val_loss 1.5163 train_acc 0.5152 val_acc 0.5307 val_acc_top3 0.5307\n"
          ]
        },
        {
          "output_type": "stream",
          "name": "stderr",
          "text": [
            "epoch:  40%|████      | 6/15 [01:32<02:17, 15.28s/it]"
          ]
        },
        {
          "output_type": "stream",
          "name": "stdout",
          "text": [
            "\n",
            "Epoch 006 train_loss: 1.3548     val_loss 1.4451 train_acc 0.5792 val_acc 0.5419 val_acc_top3 0.5419\n"
          ]
        },
        {
          "output_type": "stream",
          "name": "stderr",
          "text": [
            "epoch:  47%|████▋     | 7/15 [01:48<02:04, 15.51s/it]"
          ]
        },
        {
          "output_type": "stream",
          "name": "stdout",
          "text": [
            "\n",
            "Epoch 007 train_loss: 1.2226     val_loss 1.5340 train_acc 0.6243 val_acc 0.5307 val_acc_top3 0.5307\n"
          ]
        },
        {
          "output_type": "stream",
          "name": "stderr",
          "text": [
            "epoch:  53%|█████▎    | 8/15 [02:03<01:47, 15.43s/it]"
          ]
        },
        {
          "output_type": "stream",
          "name": "stdout",
          "text": [
            "\n",
            "Epoch 008 train_loss: 1.0616     val_loss 1.4815 train_acc 0.6669 val_acc 0.5363 val_acc_top3 0.5363\n"
          ]
        },
        {
          "output_type": "stream",
          "name": "stderr",
          "text": [
            "epoch:  60%|██████    | 9/15 [02:18<01:32, 15.35s/it]"
          ]
        },
        {
          "output_type": "stream",
          "name": "stdout",
          "text": [
            "\n",
            "Epoch 009 train_loss: 0.9836     val_loss 1.4508 train_acc 0.6814 val_acc 0.5642 val_acc_top3 0.5642\n"
          ]
        },
        {
          "output_type": "stream",
          "name": "stderr",
          "text": [
            "epoch:  67%|██████▋   | 10/15 [02:34<01:17, 15.58s/it]"
          ]
        },
        {
          "output_type": "stream",
          "name": "stdout",
          "text": [
            "\n",
            "Epoch 010 train_loss: 0.8286     val_loss 1.6848 train_acc 0.7315 val_acc 0.5307 val_acc_top3 0.5307\n"
          ]
        },
        {
          "output_type": "stream",
          "name": "stderr",
          "text": [
            "epoch:  73%|███████▎  | 11/15 [02:50<01:02, 15.56s/it]"
          ]
        },
        {
          "output_type": "stream",
          "name": "stdout",
          "text": [
            "\n",
            "Epoch 011 train_loss: 0.7849     val_loss 1.4867 train_acc 0.7431 val_acc 0.5698 val_acc_top3 0.5698\n"
          ]
        },
        {
          "output_type": "stream",
          "name": "stderr",
          "text": [
            "epoch:  80%|████████  | 12/15 [03:05<00:46, 15.63s/it]"
          ]
        },
        {
          "output_type": "stream",
          "name": "stdout",
          "text": [
            "\n",
            "Epoch 012 train_loss: 0.7130     val_loss 1.5081 train_acc 0.7652 val_acc 0.5810 val_acc_top3 0.5810\n"
          ]
        },
        {
          "output_type": "stream",
          "name": "stderr",
          "text": [
            "epoch:  87%|████████▋ | 13/15 [03:21<00:30, 15.49s/it]"
          ]
        },
        {
          "output_type": "stream",
          "name": "stdout",
          "text": [
            "\n",
            "Epoch 013 train_loss: 0.6206     val_loss 1.4955 train_acc 0.7955 val_acc 0.5866 val_acc_top3 0.5866\n"
          ]
        },
        {
          "output_type": "stream",
          "name": "stderr",
          "text": [
            "epoch:  93%|█████████▎| 14/15 [03:36<00:15, 15.43s/it]"
          ]
        },
        {
          "output_type": "stream",
          "name": "stdout",
          "text": [
            "\n",
            "Epoch 014 train_loss: 0.5801     val_loss 1.4178 train_acc 0.8160 val_acc 0.5810 val_acc_top3 0.5810\n"
          ]
        },
        {
          "output_type": "stream",
          "name": "stderr",
          "text": [
            "epoch: 100%|██████████| 15/15 [03:51<00:00, 15.46s/it]\n"
          ]
        },
        {
          "output_type": "stream",
          "name": "stdout",
          "text": [
            "\n",
            "Epoch 015 train_loss: 0.4916     val_loss 1.5073 train_acc 0.8364 val_acc 0.5866 val_acc_top3 0.5866\n",
            "result: 0.5865921787709497\n",
            "learning_rate= 0.004 kernel_size= 7\n"
          ]
        },
        {
          "output_type": "stream",
          "name": "stderr",
          "text": [
            "epoch:   7%|▋         | 1/15 [00:16<03:50, 16.49s/it]"
          ]
        },
        {
          "output_type": "stream",
          "name": "stdout",
          "text": [
            "\n",
            "Epoch 001 train_loss: 3.5294     val_loss 2.5027 train_acc 0.1237 val_acc 0.2905 val_acc_top3 0.2905\n"
          ]
        },
        {
          "output_type": "stream",
          "name": "stderr",
          "text": [
            "epoch:  13%|█▎        | 2/15 [00:32<03:28, 16.04s/it]"
          ]
        },
        {
          "output_type": "stream",
          "name": "stdout",
          "text": [
            "\n",
            "Epoch 002 train_loss: 2.6434     val_loss 1.9908 train_acc 0.2734 val_acc 0.3911 val_acc_top3 0.3911\n"
          ]
        },
        {
          "output_type": "stream",
          "name": "stderr",
          "text": [
            "epoch:  20%|██        | 3/15 [00:48<03:11, 15.97s/it]"
          ]
        },
        {
          "output_type": "stream",
          "name": "stdout",
          "text": [
            "\n",
            "Epoch 003 train_loss: 2.1362     val_loss 1.6976 train_acc 0.3757 val_acc 0.5028 val_acc_top3 0.5028\n"
          ]
        },
        {
          "output_type": "stream",
          "name": "stderr",
          "text": [
            "epoch:  27%|██▋       | 4/15 [01:04<02:57, 16.13s/it]"
          ]
        },
        {
          "output_type": "stream",
          "name": "stdout",
          "text": [
            "\n",
            "Epoch 004 train_loss: 1.8534     val_loss 1.6690 train_acc 0.4522 val_acc 0.4749 val_acc_top3 0.4749\n"
          ]
        },
        {
          "output_type": "stream",
          "name": "stderr",
          "text": [
            "epoch:  33%|███▎      | 5/15 [01:21<02:43, 16.37s/it]"
          ]
        },
        {
          "output_type": "stream",
          "name": "stdout",
          "text": [
            "\n",
            "Epoch 005 train_loss: 1.6217     val_loss 1.4919 train_acc 0.5228 val_acc 0.5475 val_acc_top3 0.5475\n"
          ]
        },
        {
          "output_type": "stream",
          "name": "stderr",
          "text": [
            "epoch:  40%|████      | 6/15 [01:37<02:25, 16.21s/it]"
          ]
        },
        {
          "output_type": "stream",
          "name": "stdout",
          "text": [
            "\n",
            "Epoch 006 train_loss: 1.4570     val_loss 1.4205 train_acc 0.5544 val_acc 0.5196 val_acc_top3 0.5196\n"
          ]
        },
        {
          "output_type": "stream",
          "name": "stderr",
          "text": [
            "epoch:  47%|████▋     | 7/15 [01:53<02:08, 16.10s/it]"
          ]
        },
        {
          "output_type": "stream",
          "name": "stdout",
          "text": [
            "\n",
            "Epoch 007 train_loss: 1.2916     val_loss 1.4937 train_acc 0.5943 val_acc 0.5419 val_acc_top3 0.5419\n"
          ]
        },
        {
          "output_type": "stream",
          "name": "stderr",
          "text": [
            "epoch:  53%|█████▎    | 8/15 [02:09<01:53, 16.27s/it]"
          ]
        },
        {
          "output_type": "stream",
          "name": "stdout",
          "text": [
            "\n",
            "Epoch 008 train_loss: 1.1325     val_loss 1.4777 train_acc 0.6461 val_acc 0.5419 val_acc_top3 0.5419\n"
          ]
        },
        {
          "output_type": "stream",
          "name": "stderr",
          "text": [
            "epoch:  60%|██████    | 9/15 [02:25<01:36, 16.10s/it]"
          ]
        },
        {
          "output_type": "stream",
          "name": "stdout",
          "text": [
            "\n",
            "Epoch 009 train_loss: 1.0205     val_loss 1.3841 train_acc 0.6702 val_acc 0.5531 val_acc_top3 0.5531\n"
          ]
        },
        {
          "output_type": "stream",
          "name": "stderr",
          "text": [
            "epoch:  67%|██████▋   | 10/15 [02:41<01:21, 16.21s/it]"
          ]
        },
        {
          "output_type": "stream",
          "name": "stdout",
          "text": [
            "\n",
            "Epoch 010 train_loss: 0.8931     val_loss 1.3560 train_acc 0.7206 val_acc 0.5754 val_acc_top3 0.5754\n"
          ]
        },
        {
          "output_type": "stream",
          "name": "stderr",
          "text": [
            "epoch:  73%|███████▎  | 11/15 [02:59<01:06, 16.60s/it]"
          ]
        },
        {
          "output_type": "stream",
          "name": "stdout",
          "text": [
            "\n",
            "Epoch 011 train_loss: 0.8632     val_loss 1.3697 train_acc 0.7223 val_acc 0.5866 val_acc_top3 0.5866\n"
          ]
        },
        {
          "output_type": "stream",
          "name": "stderr",
          "text": [
            "epoch:  80%|████████  | 12/15 [03:16<00:49, 16.62s/it]"
          ]
        },
        {
          "output_type": "stream",
          "name": "stdout",
          "text": [
            "\n",
            "Epoch 012 train_loss: 0.7398     val_loss 1.3183 train_acc 0.7447 val_acc 0.5922 val_acc_top3 0.5922\n"
          ]
        },
        {
          "output_type": "stream",
          "name": "stderr",
          "text": [
            "epoch:  87%|████████▋ | 13/15 [03:32<00:33, 16.65s/it]"
          ]
        },
        {
          "output_type": "stream",
          "name": "stdout",
          "text": [
            "\n",
            "Epoch 013 train_loss: 0.6786     val_loss 1.3255 train_acc 0.7856 val_acc 0.6089 val_acc_top3 0.6089\n"
          ]
        },
        {
          "output_type": "stream",
          "name": "stderr",
          "text": [
            "epoch:  93%|█████████▎| 14/15 [03:50<00:16, 16.89s/it]"
          ]
        },
        {
          "output_type": "stream",
          "name": "stdout",
          "text": [
            "\n",
            "Epoch 014 train_loss: 0.5907     val_loss 1.3734 train_acc 0.8044 val_acc 0.5698 val_acc_top3 0.5698\n"
          ]
        },
        {
          "output_type": "stream",
          "name": "stderr",
          "text": [
            "epoch: 100%|██████████| 15/15 [04:07<00:00, 16.50s/it]\n"
          ]
        },
        {
          "output_type": "stream",
          "name": "stdout",
          "text": [
            "\n",
            "Epoch 015 train_loss: 0.5806     val_loss 1.4714 train_acc 0.8110 val_acc 0.5642 val_acc_top3 0.5642\n",
            "result: 0.5642458100558659\n",
            "learning_rate= 0.006 kernel_size= 3\n"
          ]
        },
        {
          "output_type": "stream",
          "name": "stderr",
          "text": [
            "epoch:   7%|▋         | 1/15 [00:14<03:25, 14.67s/it]"
          ]
        },
        {
          "output_type": "stream",
          "name": "stdout",
          "text": [
            "\n",
            "Epoch 001 train_loss: 3.8386     val_loss 2.5113 train_acc 0.1168 val_acc 0.2849 val_acc_top3 0.2849\n"
          ]
        },
        {
          "output_type": "stream",
          "name": "stderr",
          "text": [
            "epoch:  13%|█▎        | 2/15 [00:29<03:10, 14.67s/it]"
          ]
        },
        {
          "output_type": "stream",
          "name": "stdout",
          "text": [
            "\n",
            "Epoch 002 train_loss: 2.6361     val_loss 2.0454 train_acc 0.2925 val_acc 0.3911 val_acc_top3 0.3911\n"
          ]
        },
        {
          "output_type": "stream",
          "name": "stderr",
          "text": [
            "epoch:  20%|██        | 3/15 [00:44<02:59, 14.97s/it]"
          ]
        },
        {
          "output_type": "stream",
          "name": "stdout",
          "text": [
            "\n",
            "Epoch 003 train_loss: 2.1544     val_loss 1.7637 train_acc 0.3793 val_acc 0.4413 val_acc_top3 0.4413\n"
          ]
        },
        {
          "output_type": "stream",
          "name": "stderr",
          "text": [
            "epoch:  27%|██▋       | 4/15 [00:59<02:43, 14.86s/it]"
          ]
        },
        {
          "output_type": "stream",
          "name": "stdout",
          "text": [
            "\n",
            "Epoch 004 train_loss: 1.8941     val_loss 1.6760 train_acc 0.4410 val_acc 0.4972 val_acc_top3 0.4972\n"
          ]
        },
        {
          "output_type": "stream",
          "name": "stderr",
          "text": [
            "epoch:  33%|███▎      | 5/15 [01:13<02:27, 14.74s/it]"
          ]
        },
        {
          "output_type": "stream",
          "name": "stdout",
          "text": [
            "\n",
            "Epoch 005 train_loss: 1.6319     val_loss 1.7606 train_acc 0.5053 val_acc 0.4804 val_acc_top3 0.4804\n"
          ]
        },
        {
          "output_type": "stream",
          "name": "stderr",
          "text": [
            "epoch:  40%|████      | 6/15 [01:28<02:12, 14.68s/it]"
          ]
        },
        {
          "output_type": "stream",
          "name": "stdout",
          "text": [
            "\n",
            "Epoch 006 train_loss: 1.4247     val_loss 1.6457 train_acc 0.5663 val_acc 0.5140 val_acc_top3 0.5140\n"
          ]
        },
        {
          "output_type": "stream",
          "name": "stderr",
          "text": [
            "epoch:  47%|████▋     | 7/15 [01:43<01:57, 14.67s/it]"
          ]
        },
        {
          "output_type": "stream",
          "name": "stdout",
          "text": [
            "\n",
            "Epoch 007 train_loss: 1.3373     val_loss 1.5391 train_acc 0.5983 val_acc 0.4972 val_acc_top3 0.4972\n"
          ]
        },
        {
          "output_type": "stream",
          "name": "stderr",
          "text": [
            "epoch:  53%|█████▎    | 8/15 [01:58<01:43, 14.86s/it]"
          ]
        },
        {
          "output_type": "stream",
          "name": "stdout",
          "text": [
            "\n",
            "Epoch 008 train_loss: 1.1608     val_loss 1.5233 train_acc 0.6339 val_acc 0.5531 val_acc_top3 0.5531\n"
          ]
        },
        {
          "output_type": "stream",
          "name": "stderr",
          "text": [
            "epoch:  60%|██████    | 9/15 [02:13<01:29, 14.86s/it]"
          ]
        },
        {
          "output_type": "stream",
          "name": "stdout",
          "text": [
            "\n",
            "Epoch 009 train_loss: 1.0722     val_loss 1.4737 train_acc 0.6689 val_acc 0.5251 val_acc_top3 0.5251\n"
          ]
        },
        {
          "output_type": "stream",
          "name": "stderr",
          "text": [
            "epoch:  67%|██████▋   | 10/15 [02:27<01:13, 14.78s/it]"
          ]
        },
        {
          "output_type": "stream",
          "name": "stdout",
          "text": [
            "\n",
            "Epoch 010 train_loss: 0.9325     val_loss 1.5956 train_acc 0.7038 val_acc 0.5587 val_acc_top3 0.5587\n"
          ]
        },
        {
          "output_type": "stream",
          "name": "stderr",
          "text": [
            "epoch:  73%|███████▎  | 11/15 [02:42<00:58, 14.74s/it]"
          ]
        },
        {
          "output_type": "stream",
          "name": "stdout",
          "text": [
            "\n",
            "Epoch 011 train_loss: 0.8117     val_loss 1.6906 train_acc 0.7385 val_acc 0.5419 val_acc_top3 0.5419\n"
          ]
        },
        {
          "output_type": "stream",
          "name": "stderr",
          "text": [
            "epoch:  80%|████████  | 12/15 [02:58<00:44, 14.98s/it]"
          ]
        },
        {
          "output_type": "stream",
          "name": "stdout",
          "text": [
            "\n",
            "Epoch 012 train_loss: 0.7524     val_loss 1.7302 train_acc 0.7576 val_acc 0.5531 val_acc_top3 0.5531\n"
          ]
        },
        {
          "output_type": "stream",
          "name": "stderr",
          "text": [
            "epoch:  87%|████████▋ | 13/15 [03:12<00:29, 14.91s/it]"
          ]
        },
        {
          "output_type": "stream",
          "name": "stdout",
          "text": [
            "\n",
            "Epoch 013 train_loss: 0.7160     val_loss 1.4994 train_acc 0.7770 val_acc 0.5866 val_acc_top3 0.5866\n"
          ]
        },
        {
          "output_type": "stream",
          "name": "stderr",
          "text": [
            "epoch:  93%|█████████▎| 14/15 [03:27<00:14, 14.99s/it]"
          ]
        },
        {
          "output_type": "stream",
          "name": "stdout",
          "text": [
            "\n",
            "Epoch 014 train_loss: 0.6086     val_loss 1.5933 train_acc 0.7982 val_acc 0.5642 val_acc_top3 0.5642\n"
          ]
        },
        {
          "output_type": "stream",
          "name": "stderr",
          "text": [
            "epoch: 100%|██████████| 15/15 [03:42<00:00, 14.84s/it]\n"
          ]
        },
        {
          "output_type": "stream",
          "name": "stdout",
          "text": [
            "\n",
            "Epoch 015 train_loss: 0.5629     val_loss 1.7479 train_acc 0.8140 val_acc 0.5810 val_acc_top3 0.5810\n",
            "result: 0.5810055865921788\n",
            "learning_rate= 0.006 kernel_size= 5\n"
          ]
        },
        {
          "output_type": "stream",
          "name": "stderr",
          "text": [
            "epoch:   7%|▋         | 1/15 [00:16<03:45, 16.09s/it]"
          ]
        },
        {
          "output_type": "stream",
          "name": "stdout",
          "text": [
            "\n",
            "Epoch 001 train_loss: 3.9217     val_loss 2.6525 train_acc 0.1052 val_acc 0.2626 val_acc_top3 0.2626\n"
          ]
        },
        {
          "output_type": "stream",
          "name": "stderr",
          "text": [
            "epoch:  13%|█▎        | 2/15 [00:32<03:28, 16.06s/it]"
          ]
        },
        {
          "output_type": "stream",
          "name": "stdout",
          "text": [
            "\n",
            "Epoch 002 train_loss: 2.7607     val_loss 2.1487 train_acc 0.2589 val_acc 0.3743 val_acc_top3 0.3743\n"
          ]
        },
        {
          "output_type": "stream",
          "name": "stderr",
          "text": [
            "epoch:  20%|██        | 3/15 [00:48<03:15, 16.31s/it]"
          ]
        },
        {
          "output_type": "stream",
          "name": "stdout",
          "text": [
            "\n",
            "Epoch 003 train_loss: 2.2964     val_loss 1.9234 train_acc 0.3387 val_acc 0.4302 val_acc_top3 0.4302\n"
          ]
        },
        {
          "output_type": "stream",
          "name": "stderr",
          "text": [
            "epoch:  27%|██▋       | 4/15 [01:04<02:58, 16.23s/it]"
          ]
        },
        {
          "output_type": "stream",
          "name": "stdout",
          "text": [
            "\n",
            "Epoch 004 train_loss: 2.0525     val_loss 1.7001 train_acc 0.3997 val_acc 0.4860 val_acc_top3 0.4860\n"
          ]
        },
        {
          "output_type": "stream",
          "name": "stderr",
          "text": [
            "epoch:  33%|███▎      | 5/15 [01:20<02:41, 16.14s/it]"
          ]
        },
        {
          "output_type": "stream",
          "name": "stdout",
          "text": [
            "\n",
            "Epoch 005 train_loss: 1.7898     val_loss 1.6153 train_acc 0.4578 val_acc 0.5642 val_acc_top3 0.5642\n"
          ]
        },
        {
          "output_type": "stream",
          "name": "stderr",
          "text": [
            "epoch:  40%|████      | 6/15 [01:37<02:26, 16.33s/it]"
          ]
        },
        {
          "output_type": "stream",
          "name": "stdout",
          "text": [
            "\n",
            "Epoch 006 train_loss: 1.6135     val_loss 1.5566 train_acc 0.5158 val_acc 0.5642 val_acc_top3 0.5642\n"
          ]
        },
        {
          "output_type": "stream",
          "name": "stderr",
          "text": [
            "epoch:  47%|████▋     | 7/15 [01:54<02:11, 16.43s/it]"
          ]
        },
        {
          "output_type": "stream",
          "name": "stdout",
          "text": [
            "\n",
            "Epoch 007 train_loss: 1.4282     val_loss 1.4508 train_acc 0.5703 val_acc 0.5531 val_acc_top3 0.5531\n"
          ]
        },
        {
          "output_type": "stream",
          "name": "stderr",
          "text": [
            "epoch:  53%|█████▎    | 8/15 [02:10<01:54, 16.33s/it]"
          ]
        },
        {
          "output_type": "stream",
          "name": "stdout",
          "text": [
            "\n",
            "Epoch 008 train_loss: 1.2564     val_loss 1.5182 train_acc 0.6171 val_acc 0.5419 val_acc_top3 0.5419\n"
          ]
        },
        {
          "output_type": "stream",
          "name": "stderr",
          "text": [
            "epoch:  60%|██████    | 9/15 [02:26<01:37, 16.28s/it]"
          ]
        },
        {
          "output_type": "stream",
          "name": "stdout",
          "text": [
            "\n",
            "Epoch 009 train_loss: 1.1422     val_loss 1.4516 train_acc 0.6435 val_acc 0.5587 val_acc_top3 0.5587\n"
          ]
        },
        {
          "output_type": "stream",
          "name": "stderr",
          "text": [
            "epoch:  67%|██████▋   | 10/15 [02:42<01:21, 16.31s/it]"
          ]
        },
        {
          "output_type": "stream",
          "name": "stdout",
          "text": [
            "\n",
            "Epoch 010 train_loss: 1.0351     val_loss 1.3615 train_acc 0.6699 val_acc 0.5866 val_acc_top3 0.5866\n"
          ]
        },
        {
          "output_type": "stream",
          "name": "stderr",
          "text": [
            "epoch:  73%|███████▎  | 11/15 [02:58<01:04, 16.21s/it]"
          ]
        },
        {
          "output_type": "stream",
          "name": "stdout",
          "text": [
            "\n",
            "Epoch 011 train_loss: 0.9395     val_loss 1.3672 train_acc 0.6976 val_acc 0.5810 val_acc_top3 0.5810\n"
          ]
        },
        {
          "output_type": "stream",
          "name": "stderr",
          "text": [
            "epoch:  80%|████████  | 12/15 [03:14<00:48, 16.18s/it]"
          ]
        },
        {
          "output_type": "stream",
          "name": "stdout",
          "text": [
            "\n",
            "Epoch 012 train_loss: 0.8856     val_loss 1.3318 train_acc 0.7147 val_acc 0.6257 val_acc_top3 0.6257\n"
          ]
        },
        {
          "output_type": "stream",
          "name": "stderr",
          "text": [
            "epoch:  87%|████████▋ | 13/15 [03:31<00:32, 16.34s/it]"
          ]
        },
        {
          "output_type": "stream",
          "name": "stdout",
          "text": [
            "\n",
            "Epoch 013 train_loss: 0.7707     val_loss 1.4561 train_acc 0.7427 val_acc 0.6089 val_acc_top3 0.6089\n"
          ]
        },
        {
          "output_type": "stream",
          "name": "stderr",
          "text": [
            "epoch:  93%|█████████▎| 14/15 [03:47<00:16, 16.24s/it]"
          ]
        },
        {
          "output_type": "stream",
          "name": "stdout",
          "text": [
            "\n",
            "Epoch 014 train_loss: 0.6925     val_loss 1.5225 train_acc 0.7675 val_acc 0.5698 val_acc_top3 0.5698\n"
          ]
        },
        {
          "output_type": "stream",
          "name": "stderr",
          "text": [
            "epoch: 100%|██████████| 15/15 [04:03<00:00, 16.21s/it]\n"
          ]
        },
        {
          "output_type": "stream",
          "name": "stdout",
          "text": [
            "\n",
            "Epoch 015 train_loss: 0.6364     val_loss 1.4563 train_acc 0.8011 val_acc 0.5978 val_acc_top3 0.5978\n",
            "result: 0.5977653631284916\n",
            "learning_rate= 0.006 kernel_size= 7\n"
          ]
        },
        {
          "output_type": "stream",
          "name": "stderr",
          "text": [
            "epoch:   7%|▋         | 1/15 [00:16<03:46, 16.18s/it]"
          ]
        },
        {
          "output_type": "stream",
          "name": "stdout",
          "text": [
            "\n",
            "Epoch 001 train_loss: 4.0873     val_loss 2.8000 train_acc 0.0960 val_acc 0.1620 val_acc_top3 0.1620\n"
          ]
        },
        {
          "output_type": "stream",
          "name": "stderr",
          "text": [
            "epoch:  13%|█▎        | 2/15 [00:33<03:38, 16.81s/it]"
          ]
        },
        {
          "output_type": "stream",
          "name": "stdout",
          "text": [
            "\n",
            "Epoch 002 train_loss: 2.9814     val_loss 2.6364 train_acc 0.2042 val_acc 0.2905 val_acc_top3 0.2905\n"
          ]
        },
        {
          "output_type": "stream",
          "name": "stderr",
          "text": [
            "epoch:  20%|██        | 3/15 [00:49<03:16, 16.37s/it]"
          ]
        },
        {
          "output_type": "stream",
          "name": "stdout",
          "text": [
            "\n",
            "Epoch 003 train_loss: 2.5988     val_loss 2.0411 train_acc 0.2813 val_acc 0.4022 val_acc_top3 0.4022\n"
          ]
        },
        {
          "output_type": "stream",
          "name": "stderr",
          "text": [
            "epoch:  27%|██▋       | 4/15 [01:05<02:58, 16.22s/it]"
          ]
        },
        {
          "output_type": "stream",
          "name": "stdout",
          "text": [
            "\n",
            "Epoch 004 train_loss: 2.3212     val_loss 1.8672 train_acc 0.3341 val_acc 0.4246 val_acc_top3 0.4246\n"
          ]
        },
        {
          "output_type": "stream",
          "name": "stderr",
          "text": [
            "epoch:  33%|███▎      | 5/15 [01:21<02:42, 16.26s/it]"
          ]
        },
        {
          "output_type": "stream",
          "name": "stdout",
          "text": [
            "\n",
            "Epoch 005 train_loss: 2.0625     val_loss 1.8822 train_acc 0.3928 val_acc 0.4469 val_acc_top3 0.4469\n"
          ]
        },
        {
          "output_type": "stream",
          "name": "stderr",
          "text": [
            "epoch:  40%|████      | 6/15 [01:37<02:26, 16.25s/it]"
          ]
        },
        {
          "output_type": "stream",
          "name": "stdout",
          "text": [
            "\n",
            "Epoch 006 train_loss: 1.9065     val_loss 1.8340 train_acc 0.4377 val_acc 0.4469 val_acc_top3 0.4469\n"
          ]
        },
        {
          "output_type": "stream",
          "name": "stderr",
          "text": [
            "epoch:  47%|████▋     | 7/15 [01:53<02:08, 16.10s/it]"
          ]
        },
        {
          "output_type": "stream",
          "name": "stdout",
          "text": [
            "\n",
            "Epoch 007 train_loss: 1.6794     val_loss 1.6655 train_acc 0.4924 val_acc 0.4916 val_acc_top3 0.4916\n"
          ]
        },
        {
          "output_type": "stream",
          "name": "stderr",
          "text": [
            "epoch:  53%|█████▎    | 8/15 [02:09<01:52, 16.01s/it]"
          ]
        },
        {
          "output_type": "stream",
          "name": "stdout",
          "text": [
            "\n",
            "Epoch 008 train_loss: 1.5549     val_loss 1.5933 train_acc 0.5363 val_acc 0.5084 val_acc_top3 0.5084\n"
          ]
        },
        {
          "output_type": "stream",
          "name": "stderr",
          "text": [
            "epoch:  60%|██████    | 9/15 [02:25<01:36, 16.15s/it]"
          ]
        },
        {
          "output_type": "stream",
          "name": "stdout",
          "text": [
            "\n",
            "Epoch 009 train_loss: 1.3908     val_loss 1.5784 train_acc 0.5775 val_acc 0.5642 val_acc_top3 0.5642\n"
          ]
        },
        {
          "output_type": "stream",
          "name": "stderr",
          "text": [
            "epoch:  67%|██████▋   | 10/15 [02:41<01:19, 16.00s/it]"
          ]
        },
        {
          "output_type": "stream",
          "name": "stdout",
          "text": [
            "\n",
            "Epoch 010 train_loss: 1.3443     val_loss 1.4861 train_acc 0.5795 val_acc 0.5642 val_acc_top3 0.5642\n"
          ]
        },
        {
          "output_type": "stream",
          "name": "stderr",
          "text": [
            "epoch:  73%|███████▎  | 11/15 [02:57<01:03, 15.95s/it]"
          ]
        },
        {
          "output_type": "stream",
          "name": "stdout",
          "text": [
            "\n",
            "Epoch 011 train_loss: 1.2099     val_loss 1.4948 train_acc 0.6214 val_acc 0.5196 val_acc_top3 0.5196\n"
          ]
        },
        {
          "output_type": "stream",
          "name": "stderr",
          "text": [
            "epoch:  80%|████████  | 12/15 [03:13<00:47, 15.93s/it]"
          ]
        },
        {
          "output_type": "stream",
          "name": "stdout",
          "text": [
            "\n",
            "Epoch 012 train_loss: 1.0785     val_loss 1.4819 train_acc 0.6547 val_acc 0.5251 val_acc_top3 0.5251\n"
          ]
        },
        {
          "output_type": "stream",
          "name": "stderr",
          "text": [
            "epoch:  87%|████████▋ | 13/15 [03:30<00:32, 16.36s/it]"
          ]
        },
        {
          "output_type": "stream",
          "name": "stdout",
          "text": [
            "\n",
            "Epoch 013 train_loss: 0.9774     val_loss 1.4834 train_acc 0.6887 val_acc 0.5587 val_acc_top3 0.5587\n"
          ]
        },
        {
          "output_type": "stream",
          "name": "stderr",
          "text": [
            "epoch:  93%|█████████▎| 14/15 [03:46<00:16, 16.15s/it]"
          ]
        },
        {
          "output_type": "stream",
          "name": "stdout",
          "text": [
            "\n",
            "Epoch 014 train_loss: 0.9046     val_loss 1.5004 train_acc 0.7075 val_acc 0.5587 val_acc_top3 0.5587\n"
          ]
        },
        {
          "output_type": "stream",
          "name": "stderr",
          "text": [
            "epoch: 100%|██████████| 15/15 [04:02<00:00, 16.14s/it]\n"
          ]
        },
        {
          "output_type": "stream",
          "name": "stdout",
          "text": [
            "\n",
            "Epoch 015 train_loss: 0.8505     val_loss 1.5015 train_acc 0.7239 val_acc 0.5698 val_acc_top3 0.5698\n",
            "result: 0.5698324022346369\n",
            "learning_rate= 0.01 kernel_size= 3\n"
          ]
        },
        {
          "output_type": "stream",
          "name": "stderr",
          "text": [
            "epoch:   7%|▋         | 1/15 [00:13<03:13, 13.82s/it]"
          ]
        },
        {
          "output_type": "stream",
          "name": "stdout",
          "text": [
            "\n",
            "Epoch 001 train_loss: 4.3028     val_loss 2.9547 train_acc 0.1085 val_acc 0.2123 val_acc_top3 0.2123\n"
          ]
        },
        {
          "output_type": "stream",
          "name": "stderr",
          "text": [
            "epoch:  13%|█▎        | 2/15 [00:27<02:58, 13.76s/it]"
          ]
        },
        {
          "output_type": "stream",
          "name": "stdout",
          "text": [
            "\n",
            "Epoch 002 train_loss: 2.9477     val_loss 2.5110 train_acc 0.2051 val_acc 0.2961 val_acc_top3 0.2961\n"
          ]
        },
        {
          "output_type": "stream",
          "name": "stderr",
          "text": [
            "epoch:  20%|██        | 3/15 [00:41<02:46, 13.89s/it]"
          ]
        },
        {
          "output_type": "stream",
          "name": "stdout",
          "text": [
            "\n",
            "Epoch 003 train_loss: 2.6619     val_loss 2.3743 train_acc 0.2536 val_acc 0.2570 val_acc_top3 0.2570\n"
          ]
        },
        {
          "output_type": "stream",
          "name": "stderr",
          "text": [
            "epoch:  27%|██▋       | 4/15 [00:55<02:34, 14.06s/it]"
          ]
        },
        {
          "output_type": "stream",
          "name": "stdout",
          "text": [
            "\n",
            "Epoch 004 train_loss: 2.4221     val_loss 2.3852 train_acc 0.3163 val_acc 0.3464 val_acc_top3 0.3464\n"
          ]
        },
        {
          "output_type": "stream",
          "name": "stderr",
          "text": [
            "epoch:  33%|███▎      | 5/15 [01:09<02:20, 14.03s/it]"
          ]
        },
        {
          "output_type": "stream",
          "name": "stdout",
          "text": [
            "\n",
            "Epoch 005 train_loss: 2.2121     val_loss 1.7662 train_acc 0.3654 val_acc 0.4693 val_acc_top3 0.4693\n"
          ]
        },
        {
          "output_type": "stream",
          "name": "stderr",
          "text": [
            "epoch:  40%|████      | 6/15 [01:23<02:05, 13.96s/it]"
          ]
        },
        {
          "output_type": "stream",
          "name": "stdout",
          "text": [
            "\n",
            "Epoch 006 train_loss: 1.9666     val_loss 1.7164 train_acc 0.4261 val_acc 0.4525 val_acc_top3 0.4525\n"
          ]
        },
        {
          "output_type": "stream",
          "name": "stderr",
          "text": [
            "epoch:  47%|████▋     | 7/15 [01:37<01:51, 13.88s/it]"
          ]
        },
        {
          "output_type": "stream",
          "name": "stdout",
          "text": [
            "\n",
            "Epoch 007 train_loss: 1.7547     val_loss 1.6693 train_acc 0.4687 val_acc 0.5084 val_acc_top3 0.5084\n"
          ]
        },
        {
          "output_type": "stream",
          "name": "stderr",
          "text": [
            "epoch:  53%|█████▎    | 8/15 [01:51<01:37, 13.88s/it]"
          ]
        },
        {
          "output_type": "stream",
          "name": "stdout",
          "text": [
            "\n",
            "Epoch 008 train_loss: 1.5230     val_loss 1.5376 train_acc 0.5251 val_acc 0.5531 val_acc_top3 0.5531\n"
          ]
        },
        {
          "output_type": "stream",
          "name": "stderr",
          "text": [
            "epoch:  60%|██████    | 9/15 [02:06<01:25, 14.18s/it]"
          ]
        },
        {
          "output_type": "stream",
          "name": "stdout",
          "text": [
            "\n",
            "Epoch 009 train_loss: 1.4146     val_loss 1.4788 train_acc 0.5607 val_acc 0.5419 val_acc_top3 0.5419\n"
          ]
        },
        {
          "output_type": "stream",
          "name": "stderr",
          "text": [
            "epoch:  67%|██████▋   | 10/15 [02:20<01:10, 14.09s/it]"
          ]
        },
        {
          "output_type": "stream",
          "name": "stdout",
          "text": [
            "\n",
            "Epoch 010 train_loss: 1.3106     val_loss 1.6053 train_acc 0.5930 val_acc 0.5084 val_acc_top3 0.5084\n"
          ]
        },
        {
          "output_type": "stream",
          "name": "stderr",
          "text": [
            "epoch:  73%|███████▎  | 11/15 [02:33<00:55, 13.99s/it]"
          ]
        },
        {
          "output_type": "stream",
          "name": "stdout",
          "text": [
            "\n",
            "Epoch 011 train_loss: 1.1889     val_loss 1.5895 train_acc 0.6369 val_acc 0.5419 val_acc_top3 0.5419\n"
          ]
        },
        {
          "output_type": "stream",
          "name": "stderr",
          "text": [
            "epoch:  80%|████████  | 12/15 [02:47<00:41, 13.94s/it]"
          ]
        },
        {
          "output_type": "stream",
          "name": "stdout",
          "text": [
            "\n",
            "Epoch 012 train_loss: 1.0461     val_loss 1.6158 train_acc 0.6609 val_acc 0.5642 val_acc_top3 0.5642\n"
          ]
        },
        {
          "output_type": "stream",
          "name": "stderr",
          "text": [
            "epoch:  87%|████████▋ | 13/15 [03:01<00:28, 14.03s/it]"
          ]
        },
        {
          "output_type": "stream",
          "name": "stdout",
          "text": [
            "\n",
            "Epoch 013 train_loss: 0.9806     val_loss 1.5516 train_acc 0.6939 val_acc 0.5363 val_acc_top3 0.5363\n"
          ]
        },
        {
          "output_type": "stream",
          "name": "stderr",
          "text": [
            "epoch:  93%|█████████▎| 14/15 [03:16<00:14, 14.18s/it]"
          ]
        },
        {
          "output_type": "stream",
          "name": "stdout",
          "text": [
            "\n",
            "Epoch 014 train_loss: 0.8624     val_loss 1.5275 train_acc 0.7246 val_acc 0.5419 val_acc_top3 0.5419\n"
          ]
        },
        {
          "output_type": "stream",
          "name": "stderr",
          "text": [
            "epoch: 100%|██████████| 15/15 [03:30<00:00, 14.02s/it]\n"
          ]
        },
        {
          "output_type": "stream",
          "name": "stdout",
          "text": [
            "\n",
            "Epoch 015 train_loss: 0.8784     val_loss 1.5936 train_acc 0.7134 val_acc 0.5587 val_acc_top3 0.5587\n",
            "result: 0.5586592178770949\n",
            "learning_rate= 0.01 kernel_size= 5\n"
          ]
        },
        {
          "output_type": "stream",
          "name": "stderr",
          "text": [
            "epoch:   7%|▋         | 1/15 [00:15<03:32, 15.21s/it]"
          ]
        },
        {
          "output_type": "stream",
          "name": "stdout",
          "text": [
            "\n",
            "Epoch 001 train_loss: 4.7282     val_loss 2.8640 train_acc 0.1013 val_acc 0.1788 val_acc_top3 0.1788\n"
          ]
        },
        {
          "output_type": "stream",
          "name": "stderr",
          "text": [
            "epoch:  13%|█▎        | 2/15 [00:30<03:19, 15.31s/it]"
          ]
        },
        {
          "output_type": "stream",
          "name": "stdout",
          "text": [
            "\n",
            "Epoch 002 train_loss: 3.0276     val_loss 2.4604 train_acc 0.1854 val_acc 0.2961 val_acc_top3 0.2961\n"
          ]
        },
        {
          "output_type": "stream",
          "name": "stderr",
          "text": [
            "epoch:  20%|██        | 3/15 [00:45<03:03, 15.33s/it]"
          ]
        },
        {
          "output_type": "stream",
          "name": "stdout",
          "text": [
            "\n",
            "Epoch 003 train_loss: 2.6755     val_loss 2.1417 train_acc 0.2546 val_acc 0.4022 val_acc_top3 0.4022\n"
          ]
        },
        {
          "output_type": "stream",
          "name": "stderr",
          "text": [
            "epoch:  27%|██▋       | 4/15 [01:01<02:50, 15.54s/it]"
          ]
        },
        {
          "output_type": "stream",
          "name": "stdout",
          "text": [
            "\n",
            "Epoch 004 train_loss: 2.4110     val_loss 1.8889 train_acc 0.3051 val_acc 0.4190 val_acc_top3 0.4190\n"
          ]
        },
        {
          "output_type": "stream",
          "name": "stderr",
          "text": [
            "epoch:  33%|███▎      | 5/15 [01:18<02:38, 15.83s/it]"
          ]
        },
        {
          "output_type": "stream",
          "name": "stdout",
          "text": [
            "\n",
            "Epoch 005 train_loss: 2.1480     val_loss 1.8421 train_acc 0.3763 val_acc 0.4190 val_acc_top3 0.4190\n"
          ]
        },
        {
          "output_type": "stream",
          "name": "stderr",
          "text": [
            "epoch:  40%|████      | 6/15 [01:34<02:23, 15.92s/it]"
          ]
        },
        {
          "output_type": "stream",
          "name": "stdout",
          "text": [
            "\n",
            "Epoch 006 train_loss: 1.8938     val_loss 1.6288 train_acc 0.4426 val_acc 0.5140 val_acc_top3 0.5140\n"
          ]
        },
        {
          "output_type": "stream",
          "name": "stderr",
          "text": [
            "epoch:  47%|████▋     | 7/15 [01:50<02:08, 16.04s/it]"
          ]
        },
        {
          "output_type": "stream",
          "name": "stdout",
          "text": [
            "\n",
            "Epoch 007 train_loss: 1.7180     val_loss 1.6049 train_acc 0.4796 val_acc 0.4804 val_acc_top3 0.4804\n"
          ]
        },
        {
          "output_type": "stream",
          "name": "stderr",
          "text": [
            "epoch:  53%|█████▎    | 8/15 [02:06<01:52, 16.13s/it]"
          ]
        },
        {
          "output_type": "stream",
          "name": "stdout",
          "text": [
            "\n",
            "Epoch 008 train_loss: 1.5677     val_loss 1.5631 train_acc 0.5162 val_acc 0.5196 val_acc_top3 0.5196\n"
          ]
        },
        {
          "output_type": "stream",
          "name": "stderr",
          "text": [
            "epoch:  60%|██████    | 9/15 [02:22<01:36, 16.08s/it]"
          ]
        },
        {
          "output_type": "stream",
          "name": "stdout",
          "text": [
            "\n",
            "Epoch 009 train_loss: 1.4168     val_loss 1.4619 train_acc 0.5594 val_acc 0.5587 val_acc_top3 0.5587\n"
          ]
        },
        {
          "output_type": "stream",
          "name": "stderr",
          "text": [
            "epoch:  67%|██████▋   | 10/15 [02:38<01:20, 16.09s/it]"
          ]
        },
        {
          "output_type": "stream",
          "name": "stdout",
          "text": [
            "\n",
            "Epoch 010 train_loss: 1.3330     val_loss 1.4158 train_acc 0.5963 val_acc 0.5531 val_acc_top3 0.5531\n"
          ]
        },
        {
          "output_type": "stream",
          "name": "stderr",
          "text": [
            "epoch:  73%|███████▎  | 11/15 [02:55<01:05, 16.26s/it]"
          ]
        },
        {
          "output_type": "stream",
          "name": "stdout",
          "text": [
            "\n",
            "Epoch 011 train_loss: 1.1305     val_loss 1.4650 train_acc 0.6425 val_acc 0.5810 val_acc_top3 0.5810\n"
          ]
        },
        {
          "output_type": "stream",
          "name": "stderr",
          "text": [
            "epoch:  80%|████████  | 12/15 [03:11<00:48, 16.14s/it]"
          ]
        },
        {
          "output_type": "stream",
          "name": "stdout",
          "text": [
            "\n",
            "Epoch 012 train_loss: 1.0527     val_loss 1.4151 train_acc 0.6748 val_acc 0.5810 val_acc_top3 0.5810\n"
          ]
        },
        {
          "output_type": "stream",
          "name": "stderr",
          "text": [
            "epoch:  87%|████████▋ | 13/15 [03:27<00:32, 16.13s/it]"
          ]
        },
        {
          "output_type": "stream",
          "name": "stdout",
          "text": [
            "\n",
            "Epoch 013 train_loss: 0.9947     val_loss 1.5586 train_acc 0.6920 val_acc 0.5978 val_acc_top3 0.5978\n"
          ]
        },
        {
          "output_type": "stream",
          "name": "stderr",
          "text": [
            "epoch:  93%|█████████▎| 14/15 [03:44<00:16, 16.28s/it]"
          ]
        },
        {
          "output_type": "stream",
          "name": "stdout",
          "text": [
            "\n",
            "Epoch 014 train_loss: 0.9172     val_loss 1.5296 train_acc 0.7094 val_acc 0.5810 val_acc_top3 0.5810\n"
          ]
        },
        {
          "output_type": "stream",
          "name": "stderr",
          "text": [
            "epoch: 100%|██████████| 15/15 [04:01<00:00, 16.08s/it]\n"
          ]
        },
        {
          "output_type": "stream",
          "name": "stdout",
          "text": [
            "\n",
            "Epoch 015 train_loss: 0.8290     val_loss 1.5459 train_acc 0.7246 val_acc 0.5810 val_acc_top3 0.5810\n",
            "result: 0.5810055865921788\n",
            "learning_rate= 0.01 kernel_size= 7\n"
          ]
        },
        {
          "output_type": "stream",
          "name": "stderr",
          "text": [
            "epoch:   7%|▋         | 1/15 [00:16<03:47, 16.28s/it]"
          ]
        },
        {
          "output_type": "stream",
          "name": "stdout",
          "text": [
            "\n",
            "Epoch 001 train_loss: 5.0983     val_loss 3.2898 train_acc 0.0782 val_acc 0.1285 val_acc_top3 0.1285\n"
          ]
        },
        {
          "output_type": "stream",
          "name": "stderr",
          "text": [
            "epoch:  13%|█▎        | 2/15 [00:33<03:37, 16.74s/it]"
          ]
        },
        {
          "output_type": "stream",
          "name": "stdout",
          "text": [
            "\n",
            "Epoch 002 train_loss: 3.3148     val_loss 2.9514 train_acc 0.1092 val_acc 0.1788 val_acc_top3 0.1788\n"
          ]
        },
        {
          "output_type": "stream",
          "name": "stderr",
          "text": [
            "epoch:  20%|██        | 3/15 [00:50<03:21, 16.79s/it]"
          ]
        },
        {
          "output_type": "stream",
          "name": "stdout",
          "text": [
            "\n",
            "Epoch 003 train_loss: 3.1483     val_loss 2.7783 train_acc 0.1418 val_acc 0.2346 val_acc_top3 0.2346\n"
          ]
        },
        {
          "output_type": "stream",
          "name": "stderr",
          "text": [
            "epoch:  27%|██▋       | 4/15 [01:06<03:03, 16.71s/it]"
          ]
        },
        {
          "output_type": "stream",
          "name": "stdout",
          "text": [
            "\n",
            "Epoch 004 train_loss: 2.9791     val_loss 2.5074 train_acc 0.1827 val_acc 0.2682 val_acc_top3 0.2682\n"
          ]
        },
        {
          "output_type": "stream",
          "name": "stderr",
          "text": [
            "epoch:  33%|███▎      | 5/15 [01:23<02:48, 16.89s/it]"
          ]
        },
        {
          "output_type": "stream",
          "name": "stdout",
          "text": [
            "\n",
            "Epoch 005 train_loss: 2.8149     val_loss 2.3317 train_acc 0.2091 val_acc 0.3073 val_acc_top3 0.3073\n"
          ]
        },
        {
          "output_type": "stream",
          "name": "stderr",
          "text": [
            "epoch:  40%|████      | 6/15 [01:40<02:31, 16.82s/it]"
          ]
        },
        {
          "output_type": "stream",
          "name": "stdout",
          "text": [
            "\n",
            "Epoch 006 train_loss: 2.7034     val_loss 2.3100 train_acc 0.2177 val_acc 0.3073 val_acc_top3 0.3073\n"
          ]
        },
        {
          "output_type": "stream",
          "name": "stderr",
          "text": [
            "epoch:  47%|████▋     | 7/15 [01:57<02:13, 16.73s/it]"
          ]
        },
        {
          "output_type": "stream",
          "name": "stdout",
          "text": [
            "\n",
            "Epoch 007 train_loss: 2.5549     val_loss 2.1265 train_acc 0.2553 val_acc 0.3687 val_acc_top3 0.3687\n"
          ]
        },
        {
          "output_type": "stream",
          "name": "stderr",
          "text": [
            "epoch:  53%|█████▎    | 8/15 [02:14<01:57, 16.84s/it]"
          ]
        },
        {
          "output_type": "stream",
          "name": "stdout",
          "text": [
            "\n",
            "Epoch 008 train_loss: 2.3503     val_loss 2.0199 train_acc 0.3071 val_acc 0.3743 val_acc_top3 0.3743\n"
          ]
        },
        {
          "output_type": "stream",
          "name": "stderr",
          "text": [
            "epoch:  60%|██████    | 9/15 [02:30<01:40, 16.77s/it]"
          ]
        },
        {
          "output_type": "stream",
          "name": "stdout",
          "text": [
            "\n",
            "Epoch 009 train_loss: 2.1279     val_loss 1.9047 train_acc 0.3592 val_acc 0.3799 val_acc_top3 0.3799\n"
          ]
        },
        {
          "output_type": "stream",
          "name": "stderr",
          "text": [
            "epoch:  67%|██████▋   | 10/15 [02:48<01:24, 16.95s/it]"
          ]
        },
        {
          "output_type": "stream",
          "name": "stdout",
          "text": [
            "\n",
            "Epoch 010 train_loss: 2.0409     val_loss 1.8941 train_acc 0.3813 val_acc 0.4190 val_acc_top3 0.4190\n"
          ]
        },
        {
          "output_type": "stream",
          "name": "stderr",
          "text": [
            "epoch:  73%|███████▎  | 11/15 [03:05<01:08, 17.01s/it]"
          ]
        },
        {
          "output_type": "stream",
          "name": "stdout",
          "text": [
            "\n",
            "Epoch 011 train_loss: 1.8885     val_loss 1.7350 train_acc 0.4456 val_acc 0.4693 val_acc_top3 0.4693\n"
          ]
        },
        {
          "output_type": "stream",
          "name": "stderr",
          "text": [
            "epoch:  80%|████████  | 12/15 [03:21<00:50, 16.83s/it]"
          ]
        },
        {
          "output_type": "stream",
          "name": "stdout",
          "text": [
            "\n",
            "Epoch 012 train_loss: 1.7180     val_loss 1.7076 train_acc 0.4759 val_acc 0.4916 val_acc_top3 0.4916\n"
          ]
        },
        {
          "output_type": "stream",
          "name": "stderr",
          "text": [
            "epoch:  87%|████████▋ | 13/15 [03:38<00:33, 16.72s/it]"
          ]
        },
        {
          "output_type": "stream",
          "name": "stdout",
          "text": [
            "\n",
            "Epoch 013 train_loss: 1.6160     val_loss 1.6914 train_acc 0.5003 val_acc 0.5475 val_acc_top3 0.5475\n"
          ]
        },
        {
          "output_type": "stream",
          "name": "stderr",
          "text": [
            "epoch:  93%|█████████▎| 14/15 [03:55<00:16, 16.89s/it]"
          ]
        },
        {
          "output_type": "stream",
          "name": "stdout",
          "text": [
            "\n",
            "Epoch 014 train_loss: 1.5093     val_loss 1.6840 train_acc 0.5204 val_acc 0.5419 val_acc_top3 0.5419\n"
          ]
        },
        {
          "output_type": "stream",
          "name": "stderr",
          "text": [
            "epoch: 100%|██████████| 15/15 [04:12<00:00, 16.80s/it]\n"
          ]
        },
        {
          "output_type": "stream",
          "name": "stdout",
          "text": [
            "\n",
            "Epoch 015 train_loss: 1.4100     val_loss 1.6853 train_acc 0.5637 val_acc 0.5587 val_acc_top3 0.5587\n",
            "result: 0.5586592178770949\n",
            "learning_rate= 0.05 kernel_size= 3\n"
          ]
        },
        {
          "output_type": "stream",
          "name": "stderr",
          "text": [
            "epoch:   7%|▋         | 1/15 [00:14<03:24, 14.61s/it]"
          ]
        },
        {
          "output_type": "stream",
          "name": "stdout",
          "text": [
            "\n",
            "Epoch 001 train_loss: 12.0355     val_loss 3.7259 train_acc 0.0336 val_acc 0.0615 val_acc_top3 0.0615\n"
          ]
        },
        {
          "output_type": "stream",
          "name": "stderr",
          "text": [
            "epoch:  13%|█▎        | 2/15 [00:29<03:10, 14.66s/it]"
          ]
        },
        {
          "output_type": "stream",
          "name": "stdout",
          "text": [
            "\n",
            "Epoch 002 train_loss: 3.9977     val_loss 3.5210 train_acc 0.0327 val_acc 0.0838 val_acc_top3 0.0838\n"
          ]
        },
        {
          "output_type": "stream",
          "name": "stderr",
          "text": [
            "epoch:  20%|██        | 3/15 [00:44<02:59, 14.94s/it]"
          ]
        },
        {
          "output_type": "stream",
          "name": "stdout",
          "text": [
            "\n",
            "Epoch 003 train_loss: 3.6025     val_loss 3.4896 train_acc 0.0409 val_acc 0.0670 val_acc_top3 0.0670\n"
          ]
        },
        {
          "output_type": "stream",
          "name": "stderr",
          "text": [
            "epoch:  27%|██▋       | 4/15 [00:59<02:43, 14.82s/it]"
          ]
        },
        {
          "output_type": "stream",
          "name": "stdout",
          "text": [
            "\n",
            "Epoch 004 train_loss: 3.5545     val_loss 3.4609 train_acc 0.0574 val_acc 0.0950 val_acc_top3 0.0950\n"
          ]
        },
        {
          "output_type": "stream",
          "name": "stderr",
          "text": [
            "epoch:  33%|███▎      | 5/15 [01:14<02:29, 14.99s/it]"
          ]
        },
        {
          "output_type": "stream",
          "name": "stdout",
          "text": [
            "\n",
            "Epoch 005 train_loss: 3.4934     val_loss 3.4280 train_acc 0.0653 val_acc 0.0615 val_acc_top3 0.0615\n"
          ]
        },
        {
          "output_type": "stream",
          "name": "stderr",
          "text": [
            "epoch:  40%|████      | 6/15 [01:29<02:13, 14.86s/it]"
          ]
        },
        {
          "output_type": "stream",
          "name": "stdout",
          "text": [
            "\n",
            "Epoch 006 train_loss: 3.4561     val_loss 3.3267 train_acc 0.0709 val_acc 0.0838 val_acc_top3 0.0838\n"
          ]
        },
        {
          "output_type": "stream",
          "name": "stderr",
          "text": [
            "epoch:  47%|████▋     | 7/15 [01:43<01:58, 14.79s/it]"
          ]
        },
        {
          "output_type": "stream",
          "name": "stdout",
          "text": [
            "\n",
            "Epoch 007 train_loss: 3.4750     val_loss 3.3078 train_acc 0.0716 val_acc 0.1006 val_acc_top3 0.1006\n"
          ]
        },
        {
          "output_type": "stream",
          "name": "stderr",
          "text": [
            "epoch:  53%|█████▎    | 8/15 [01:58<01:43, 14.81s/it]"
          ]
        },
        {
          "output_type": "stream",
          "name": "stdout",
          "text": [
            "\n",
            "Epoch 008 train_loss: 3.4637     val_loss 3.3990 train_acc 0.0683 val_acc 0.1006 val_acc_top3 0.1006\n"
          ]
        },
        {
          "output_type": "stream",
          "name": "stderr",
          "text": [
            "epoch:  60%|██████    | 9/15 [02:13<01:29, 14.87s/it]"
          ]
        },
        {
          "output_type": "stream",
          "name": "stdout",
          "text": [
            "\n",
            "Epoch 009 train_loss: 3.4312     val_loss 3.2401 train_acc 0.0729 val_acc 0.1173 val_acc_top3 0.1173\n"
          ]
        },
        {
          "output_type": "stream",
          "name": "stderr",
          "text": [
            "epoch:  67%|██████▋   | 10/15 [02:27<01:13, 14.64s/it]"
          ]
        },
        {
          "output_type": "stream",
          "name": "stdout",
          "text": [
            "\n",
            "Epoch 010 train_loss: 3.3925     val_loss 3.0848 train_acc 0.0834 val_acc 0.1341 val_acc_top3 0.1341\n"
          ]
        },
        {
          "output_type": "stream",
          "name": "stderr",
          "text": [
            "epoch:  73%|███████▎  | 11/15 [02:41<00:57, 14.40s/it]"
          ]
        },
        {
          "output_type": "stream",
          "name": "stdout",
          "text": [
            "\n",
            "Epoch 011 train_loss: 3.3682     val_loss 3.1842 train_acc 0.0874 val_acc 0.1341 val_acc_top3 0.1341\n"
          ]
        },
        {
          "output_type": "stream",
          "name": "stderr",
          "text": [
            "epoch:  80%|████████  | 12/15 [02:55<00:42, 14.19s/it]"
          ]
        },
        {
          "output_type": "stream",
          "name": "stdout",
          "text": [
            "\n",
            "Epoch 012 train_loss: 3.3454     val_loss 3.1637 train_acc 0.0894 val_acc 0.1676 val_acc_top3 0.1676\n"
          ]
        },
        {
          "output_type": "stream",
          "name": "stderr",
          "text": [
            "epoch:  87%|████████▋ | 13/15 [03:09<00:28, 14.05s/it]"
          ]
        },
        {
          "output_type": "stream",
          "name": "stdout",
          "text": [
            "\n",
            "Epoch 013 train_loss: 3.3347     val_loss 3.1465 train_acc 0.0970 val_acc 0.1117 val_acc_top3 0.1117\n"
          ]
        },
        {
          "output_type": "stream",
          "name": "stderr",
          "text": [
            "epoch:  93%|█████████▎| 14/15 [03:22<00:13, 13.98s/it]"
          ]
        },
        {
          "output_type": "stream",
          "name": "stdout",
          "text": [
            "\n",
            "Epoch 014 train_loss: 3.4165     val_loss 3.1251 train_acc 0.0854 val_acc 0.1453 val_acc_top3 0.1453\n"
          ]
        },
        {
          "output_type": "stream",
          "name": "stderr",
          "text": [
            "epoch: 100%|██████████| 15/15 [03:36<00:00, 14.45s/it]\n"
          ]
        },
        {
          "output_type": "stream",
          "name": "stdout",
          "text": [
            "\n",
            "Epoch 015 train_loss: 3.2869     val_loss 3.0682 train_acc 0.1088 val_acc 0.1508 val_acc_top3 0.1508\n",
            "result: 0.15083798882681565\n",
            "learning_rate= 0.05 kernel_size= 5\n"
          ]
        },
        {
          "output_type": "stream",
          "name": "stderr",
          "text": [
            "epoch:   7%|▋         | 1/15 [00:17<04:03, 17.41s/it]"
          ]
        },
        {
          "output_type": "stream",
          "name": "stdout",
          "text": [
            "\n",
            "Epoch 001 train_loss: 12.2931     val_loss 3.6013 train_acc 0.0406 val_acc 0.0670 val_acc_top3 0.0670\n"
          ]
        },
        {
          "output_type": "stream",
          "name": "stderr",
          "text": [
            "epoch:  13%|█▎        | 2/15 [00:32<03:31, 16.27s/it]"
          ]
        },
        {
          "output_type": "stream",
          "name": "stdout",
          "text": [
            "\n",
            "Epoch 002 train_loss: 3.9858     val_loss 3.4229 train_acc 0.0416 val_acc 0.0726 val_acc_top3 0.0726\n"
          ]
        },
        {
          "output_type": "stream",
          "name": "stderr",
          "text": [
            "epoch:  20%|██        | 3/15 [00:48<03:13, 16.11s/it]"
          ]
        },
        {
          "output_type": "stream",
          "name": "stdout",
          "text": [
            "\n",
            "Epoch 003 train_loss: 3.5663     val_loss 3.4777 train_acc 0.0554 val_acc 0.1117 val_acc_top3 0.1117\n"
          ]
        },
        {
          "output_type": "stream",
          "name": "stderr",
          "text": [
            "epoch:  27%|██▋       | 4/15 [01:04<02:55, 15.95s/it]"
          ]
        },
        {
          "output_type": "stream",
          "name": "stdout",
          "text": [
            "\n",
            "Epoch 004 train_loss: 3.5019     val_loss 3.4378 train_acc 0.0617 val_acc 0.0894 val_acc_top3 0.0894\n"
          ]
        },
        {
          "output_type": "stream",
          "name": "stderr",
          "text": [
            "epoch:  33%|███▎      | 5/15 [01:20<02:41, 16.13s/it]"
          ]
        },
        {
          "output_type": "stream",
          "name": "stdout",
          "text": [
            "\n",
            "Epoch 005 train_loss: 3.5070     val_loss 3.3962 train_acc 0.0584 val_acc 0.0726 val_acc_top3 0.0726\n"
          ]
        },
        {
          "output_type": "stream",
          "name": "stderr",
          "text": [
            "epoch:  40%|████      | 6/15 [01:36<02:22, 15.85s/it]"
          ]
        },
        {
          "output_type": "stream",
          "name": "stdout",
          "text": [
            "\n",
            "Epoch 006 train_loss: 3.4462     val_loss 3.3654 train_acc 0.0656 val_acc 0.0894 val_acc_top3 0.0894\n"
          ]
        },
        {
          "output_type": "stream",
          "name": "stderr",
          "text": [
            "epoch:  47%|████▋     | 7/15 [01:52<02:06, 15.82s/it]"
          ]
        },
        {
          "output_type": "stream",
          "name": "stdout",
          "text": [
            "\n",
            "Epoch 007 train_loss: 3.4710     val_loss 3.4203 train_acc 0.0653 val_acc 0.0838 val_acc_top3 0.0838\n"
          ]
        },
        {
          "output_type": "stream",
          "name": "stderr",
          "text": [
            "epoch:  53%|█████▎    | 8/15 [02:07<01:50, 15.84s/it]"
          ]
        },
        {
          "output_type": "stream",
          "name": "stdout",
          "text": [
            "\n",
            "Epoch 008 train_loss: 3.4657     val_loss 3.2603 train_acc 0.0693 val_acc 0.1173 val_acc_top3 0.1173\n"
          ]
        },
        {
          "output_type": "stream",
          "name": "stderr",
          "text": [
            "epoch:  60%|██████    | 9/15 [02:24<01:36, 16.01s/it]"
          ]
        },
        {
          "output_type": "stream",
          "name": "stdout",
          "text": [
            "\n",
            "Epoch 009 train_loss: 3.4173     val_loss 3.3122 train_acc 0.0805 val_acc 0.0894 val_acc_top3 0.0894\n"
          ]
        },
        {
          "output_type": "stream",
          "name": "stderr",
          "text": [
            "epoch:  67%|██████▋   | 10/15 [02:40<01:19, 15.93s/it]"
          ]
        },
        {
          "output_type": "stream",
          "name": "stdout",
          "text": [
            "\n",
            "Epoch 010 train_loss: 3.4145     val_loss 3.2629 train_acc 0.0805 val_acc 0.1173 val_acc_top3 0.1173\n"
          ]
        },
        {
          "output_type": "stream",
          "name": "stderr",
          "text": [
            "epoch:  73%|███████▎  | 11/15 [02:56<01:04, 16.02s/it]"
          ]
        },
        {
          "output_type": "stream",
          "name": "stdout",
          "text": [
            "\n",
            "Epoch 011 train_loss: 3.3600     val_loss 3.0675 train_acc 0.0966 val_acc 0.1620 val_acc_top3 0.1620\n"
          ]
        },
        {
          "output_type": "stream",
          "name": "stderr",
          "text": [
            "epoch:  80%|████████  | 12/15 [03:12<00:47, 15.96s/it]"
          ]
        },
        {
          "output_type": "stream",
          "name": "stdout",
          "text": [
            "\n",
            "Epoch 012 train_loss: 3.3613     val_loss 3.2382 train_acc 0.1092 val_acc 0.1006 val_acc_top3 0.1006\n"
          ]
        },
        {
          "output_type": "stream",
          "name": "stderr",
          "text": [
            "epoch:  87%|████████▋ | 13/15 [03:28<00:32, 16.05s/it]"
          ]
        },
        {
          "output_type": "stream",
          "name": "stdout",
          "text": [
            "\n",
            "Epoch 013 train_loss: 3.3415     val_loss 3.0653 train_acc 0.0953 val_acc 0.1229 val_acc_top3 0.1229\n"
          ]
        },
        {
          "output_type": "stream",
          "name": "stderr",
          "text": [
            "epoch:  93%|█████████▎| 14/15 [03:44<00:15, 15.94s/it]"
          ]
        },
        {
          "output_type": "stream",
          "name": "stdout",
          "text": [
            "\n",
            "Epoch 014 train_loss: 3.2646     val_loss 3.4209 train_acc 0.1220 val_acc 0.2123 val_acc_top3 0.2123\n"
          ]
        },
        {
          "output_type": "stream",
          "name": "stderr",
          "text": [
            "epoch: 100%|██████████| 15/15 [03:59<00:00, 15.98s/it]\n"
          ]
        },
        {
          "output_type": "stream",
          "name": "stdout",
          "text": [
            "\n",
            "Epoch 015 train_loss: 3.3262     val_loss 3.0183 train_acc 0.1075 val_acc 0.1899 val_acc_top3 0.1899\n",
            "result: 0.18994413407821228\n",
            "learning_rate= 0.05 kernel_size= 7\n"
          ]
        },
        {
          "output_type": "stream",
          "name": "stderr",
          "text": [
            "epoch:   7%|▋         | 1/15 [00:16<03:45, 16.12s/it]"
          ]
        },
        {
          "output_type": "stream",
          "name": "stdout",
          "text": [
            "\n",
            "Epoch 001 train_loss: 11.6214     val_loss 3.7479 train_acc 0.0350 val_acc 0.0559 val_acc_top3 0.0559\n"
          ]
        },
        {
          "output_type": "stream",
          "name": "stderr",
          "text": [
            "epoch:  13%|█▎        | 2/15 [00:32<03:33, 16.39s/it]"
          ]
        },
        {
          "output_type": "stream",
          "name": "stdout",
          "text": [
            "\n",
            "Epoch 002 train_loss: 3.9330     val_loss 3.4969 train_acc 0.0290 val_acc 0.0391 val_acc_top3 0.0391\n"
          ]
        },
        {
          "output_type": "stream",
          "name": "stderr",
          "text": [
            "epoch:  20%|██        | 3/15 [00:48<03:15, 16.26s/it]"
          ]
        },
        {
          "output_type": "stream",
          "name": "stdout",
          "text": [
            "\n",
            "Epoch 003 train_loss: 3.5866     val_loss 3.4906 train_acc 0.0416 val_acc 0.0559 val_acc_top3 0.0559\n"
          ]
        },
        {
          "output_type": "stream",
          "name": "stderr",
          "text": [
            "epoch:  27%|██▋       | 4/15 [01:04<02:58, 16.20s/it]"
          ]
        },
        {
          "output_type": "stream",
          "name": "stdout",
          "text": [
            "\n",
            "Epoch 004 train_loss: 3.5823     val_loss 3.4606 train_acc 0.0554 val_acc 0.0615 val_acc_top3 0.0615\n"
          ]
        },
        {
          "output_type": "stream",
          "name": "stderr",
          "text": [
            "epoch:  33%|███▎      | 5/15 [01:21<02:44, 16.48s/it]"
          ]
        },
        {
          "output_type": "stream",
          "name": "stdout",
          "text": [
            "\n",
            "Epoch 005 train_loss: 3.5279     val_loss 3.4318 train_acc 0.0646 val_acc 0.0726 val_acc_top3 0.0726\n"
          ]
        },
        {
          "output_type": "stream",
          "name": "stderr",
          "text": [
            "epoch:  40%|████      | 6/15 [01:39<02:30, 16.70s/it]"
          ]
        },
        {
          "output_type": "stream",
          "name": "stdout",
          "text": [
            "\n",
            "Epoch 006 train_loss: 3.5341     val_loss 3.3531 train_acc 0.0547 val_acc 0.0670 val_acc_top3 0.0670\n"
          ]
        },
        {
          "output_type": "stream",
          "name": "stderr",
          "text": [
            "epoch:  47%|████▋     | 7/15 [01:55<02:12, 16.52s/it]"
          ]
        },
        {
          "output_type": "stream",
          "name": "stdout",
          "text": [
            "\n",
            "Epoch 007 train_loss: 3.4689     val_loss 3.3822 train_acc 0.0693 val_acc 0.0615 val_acc_top3 0.0615\n"
          ]
        },
        {
          "output_type": "stream",
          "name": "stderr",
          "text": [
            "epoch:  53%|█████▎    | 8/15 [02:11<01:54, 16.34s/it]"
          ]
        },
        {
          "output_type": "stream",
          "name": "stdout",
          "text": [
            "\n",
            "Epoch 008 train_loss: 3.4675     val_loss 3.3605 train_acc 0.0600 val_acc 0.1173 val_acc_top3 0.1173\n"
          ]
        },
        {
          "output_type": "stream",
          "name": "stderr",
          "text": [
            "epoch:  60%|██████    | 9/15 [02:28<01:39, 16.64s/it]"
          ]
        },
        {
          "output_type": "stream",
          "name": "stdout",
          "text": [
            "\n",
            "Epoch 009 train_loss: 3.4567     val_loss 3.3312 train_acc 0.0699 val_acc 0.0615 val_acc_top3 0.0615\n"
          ]
        },
        {
          "output_type": "stream",
          "name": "stderr",
          "text": [
            "epoch:  67%|██████▋   | 10/15 [02:44<01:22, 16.43s/it]"
          ]
        },
        {
          "output_type": "stream",
          "name": "stdout",
          "text": [
            "\n",
            "Epoch 010 train_loss: 3.4235     val_loss 3.3813 train_acc 0.0712 val_acc 0.0782 val_acc_top3 0.0782\n"
          ]
        },
        {
          "output_type": "stream",
          "name": "stderr",
          "text": [
            "epoch:  73%|███████▎  | 11/15 [03:00<01:05, 16.40s/it]"
          ]
        },
        {
          "output_type": "stream",
          "name": "stdout",
          "text": [
            "\n",
            "Epoch 011 train_loss: 3.4632     val_loss 3.2667 train_acc 0.0732 val_acc 0.1006 val_acc_top3 0.1006\n"
          ]
        },
        {
          "output_type": "stream",
          "name": "stderr",
          "text": [
            "epoch:  80%|████████  | 12/15 [03:17<00:49, 16.45s/it]"
          ]
        },
        {
          "output_type": "stream",
          "name": "stdout",
          "text": [
            "\n",
            "Epoch 012 train_loss: 3.4111     val_loss 3.3788 train_acc 0.0772 val_acc 0.0670 val_acc_top3 0.0670\n"
          ]
        },
        {
          "output_type": "stream",
          "name": "stderr",
          "text": [
            "epoch:  87%|████████▋ | 13/15 [03:34<00:33, 16.55s/it]"
          ]
        },
        {
          "output_type": "stream",
          "name": "stdout",
          "text": [
            "\n",
            "Epoch 013 train_loss: 3.4135     val_loss 3.2092 train_acc 0.0844 val_acc 0.0950 val_acc_top3 0.0950\n"
          ]
        },
        {
          "output_type": "stream",
          "name": "stderr",
          "text": [
            "epoch:  93%|█████████▎| 14/15 [03:50<00:16, 16.38s/it]"
          ]
        },
        {
          "output_type": "stream",
          "name": "stdout",
          "text": [
            "\n",
            "Epoch 014 train_loss: 3.3568     val_loss 3.3074 train_acc 0.0970 val_acc 0.0950 val_acc_top3 0.0950\n"
          ]
        },
        {
          "output_type": "stream",
          "name": "stderr",
          "text": [
            "epoch: 100%|██████████| 15/15 [04:06<00:00, 16.45s/it]"
          ]
        },
        {
          "output_type": "stream",
          "name": "stdout",
          "text": [
            "\n",
            "Epoch 015 train_loss: 3.3513     val_loss 3.2807 train_acc 0.0937 val_acc 0.1006 val_acc_top3 0.1006\n",
            "result: 0.1005586592178771\n",
            "(0.05, 7)\n"
          ]
        },
        {
          "output_type": "stream",
          "name": "stderr",
          "text": [
            "\n"
          ]
        }
      ]
    },
    {
      "cell_type": "markdown",
      "source": [
        "Обучим модель с лучшими гиперпараметрами"
      ],
      "metadata": {
        "id": "q7jWSend_fUj"
      },
      "id": "q7jWSend_fUj"
    },
    {
      "cell_type": "code",
      "source": [
        "kernel_size = 5\n",
        "learning_rate = 0.002\n",
        "\n",
        "search_model = AdaptiveNetWork(kernel_size)\n",
        "search_model = search_model.to(DEVICE)\n",
        "history = train_search(train_dataset_multi, test_dataset_multi, search_model, 15, 64, learning_rate)"
      ],
      "metadata": {
        "colab": {
          "base_uri": "https://localhost:8080/"
        },
        "id": "FGE0L6W5_THi",
        "outputId": "6c9b0f12-14d4-4796-e48b-5f464b4a177c"
      },
      "id": "FGE0L6W5_THi",
      "execution_count": 17,
      "outputs": [
        {
          "output_type": "stream",
          "name": "stderr",
          "text": [
            "epoch:   7%|▋         | 1/15 [00:16<03:45, 16.07s/it]"
          ]
        },
        {
          "output_type": "stream",
          "name": "stdout",
          "text": [
            "\n",
            "Epoch 001 train_loss: 3.2563     val_loss 2.4551 train_acc 0.1382 val_acc 0.3266 val_acc_top3 0.3266\n"
          ]
        },
        {
          "output_type": "stream",
          "name": "stderr",
          "text": [
            "epoch:  13%|█▎        | 2/15 [00:30<03:16, 15.10s/it]"
          ]
        },
        {
          "output_type": "stream",
          "name": "stdout",
          "text": [
            "\n",
            "Epoch 002 train_loss: 2.4797     val_loss 2.0782 train_acc 0.2998 val_acc 0.4152 val_acc_top3 0.4152\n"
          ]
        },
        {
          "output_type": "stream",
          "name": "stderr",
          "text": [
            "epoch:  20%|██        | 3/15 [00:44<02:57, 14.78s/it]"
          ]
        },
        {
          "output_type": "stream",
          "name": "stdout",
          "text": [
            "\n",
            "Epoch 003 train_loss: 2.0242     val_loss 1.7811 train_acc 0.4132 val_acc 0.5054 val_acc_top3 0.5054\n"
          ]
        },
        {
          "output_type": "stream",
          "name": "stderr",
          "text": [
            "epoch:  27%|██▋       | 4/15 [00:59<02:43, 14.89s/it]"
          ]
        },
        {
          "output_type": "stream",
          "name": "stdout",
          "text": [
            "\n",
            "Epoch 004 train_loss: 1.7025     val_loss 1.7151 train_acc 0.4973 val_acc 0.5117 val_acc_top3 0.5117\n"
          ]
        },
        {
          "output_type": "stream",
          "name": "stderr",
          "text": [
            "epoch:  33%|███▎      | 5/15 [01:14<02:27, 14.74s/it]"
          ]
        },
        {
          "output_type": "stream",
          "name": "stdout",
          "text": [
            "\n",
            "Epoch 005 train_loss: 1.4643     val_loss 1.6640 train_acc 0.5627 val_acc 0.5505 val_acc_top3 0.5505\n"
          ]
        },
        {
          "output_type": "stream",
          "name": "stderr",
          "text": [
            "epoch:  40%|████      | 6/15 [01:28<02:11, 14.61s/it]"
          ]
        },
        {
          "output_type": "stream",
          "name": "stdout",
          "text": [
            "\n",
            "Epoch 006 train_loss: 1.2846     val_loss 1.6328 train_acc 0.6086 val_acc 0.5505 val_acc_top3 0.5505\n"
          ]
        },
        {
          "output_type": "stream",
          "name": "stderr",
          "text": [
            "epoch:  47%|████▋     | 7/15 [01:43<01:57, 14.74s/it]"
          ]
        },
        {
          "output_type": "stream",
          "name": "stdout",
          "text": [
            "\n",
            "Epoch 007 train_loss: 1.0555     val_loss 1.5439 train_acc 0.6830 val_acc 0.5816 val_acc_top3 0.5816\n"
          ]
        },
        {
          "output_type": "stream",
          "name": "stderr",
          "text": [
            "epoch:  53%|█████▎    | 8/15 [01:58<01:42, 14.63s/it]"
          ]
        },
        {
          "output_type": "stream",
          "name": "stdout",
          "text": [
            "\n",
            "Epoch 008 train_loss: 0.9699     val_loss 1.5320 train_acc 0.7025 val_acc 0.5956 val_acc_top3 0.5956\n"
          ]
        },
        {
          "output_type": "stream",
          "name": "stderr",
          "text": [
            "epoch:  60%|██████    | 9/15 [02:12<01:27, 14.65s/it]"
          ]
        },
        {
          "output_type": "stream",
          "name": "stdout",
          "text": [
            "\n",
            "Epoch 009 train_loss: 0.8385     val_loss 1.4979 train_acc 0.7484 val_acc 0.5879 val_acc_top3 0.5879\n"
          ]
        },
        {
          "output_type": "stream",
          "name": "stderr",
          "text": [
            "epoch:  67%|██████▋   | 10/15 [02:28<01:14, 14.92s/it]"
          ]
        },
        {
          "output_type": "stream",
          "name": "stdout",
          "text": [
            "\n",
            "Epoch 010 train_loss: 0.7350     val_loss 1.5520 train_acc 0.7691 val_acc 0.6003 val_acc_top3 0.6003\n"
          ]
        },
        {
          "output_type": "stream",
          "name": "stderr",
          "text": [
            "epoch:  73%|███████▎  | 11/15 [02:42<00:59, 14.78s/it]"
          ]
        },
        {
          "output_type": "stream",
          "name": "stdout",
          "text": [
            "\n",
            "Epoch 011 train_loss: 0.6708     val_loss 1.5639 train_acc 0.7850 val_acc 0.5770 val_acc_top3 0.5770\n"
          ]
        },
        {
          "output_type": "stream",
          "name": "stderr",
          "text": [
            "epoch:  80%|████████  | 12/15 [02:57<00:44, 14.71s/it]"
          ]
        },
        {
          "output_type": "stream",
          "name": "stdout",
          "text": [
            "\n",
            "Epoch 012 train_loss: 0.5713     val_loss 1.5402 train_acc 0.8189 val_acc 0.6081 val_acc_top3 0.6081\n"
          ]
        },
        {
          "output_type": "stream",
          "name": "stderr",
          "text": [
            "epoch:  87%|████████▋ | 13/15 [03:12<00:29, 14.71s/it]"
          ]
        },
        {
          "output_type": "stream",
          "name": "stdout",
          "text": [
            "\n",
            "Epoch 013 train_loss: 0.5331     val_loss 1.6272 train_acc 0.8357 val_acc 0.5785 val_acc_top3 0.5785\n"
          ]
        },
        {
          "output_type": "stream",
          "name": "stderr",
          "text": [
            "epoch:  93%|█████████▎| 14/15 [03:27<00:15, 15.02s/it]"
          ]
        },
        {
          "output_type": "stream",
          "name": "stdout",
          "text": [
            "\n",
            "Epoch 014 train_loss: 0.4646     val_loss 1.5338 train_acc 0.8524 val_acc 0.6112 val_acc_top3 0.6112\n"
          ]
        },
        {
          "output_type": "stream",
          "name": "stderr",
          "text": [
            "epoch: 100%|██████████| 15/15 [03:42<00:00, 14.85s/it]"
          ]
        },
        {
          "output_type": "stream",
          "name": "stdout",
          "text": [
            "\n",
            "Epoch 015 train_loss: 0.4380     val_loss 1.5847 train_acc 0.8563 val_acc 0.6128 val_acc_top3 0.6128\n"
          ]
        },
        {
          "output_type": "stream",
          "name": "stderr",
          "text": [
            "\n"
          ]
        }
      ]
    }
  ],
  "metadata": {
    "accelerator": "GPU",
    "colab": {
      "gpuType": "T4",
      "provenance": []
    },
    "gpuClass": "standard",
    "kernelspec": {
      "display_name": "Python 3 (ipykernel)",
      "language": "python",
      "name": "python3"
    },
    "language_info": {
      "codemirror_mode": {
        "name": "ipython",
        "version": 3
      },
      "file_extension": ".py",
      "mimetype": "text/x-python",
      "name": "python",
      "nbconvert_exporter": "python",
      "pygments_lexer": "ipython3",
      "version": "3.9.12"
    }
  },
  "nbformat": 4,
  "nbformat_minor": 5
}